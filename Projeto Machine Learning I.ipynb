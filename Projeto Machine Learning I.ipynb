{
 "cells": [
  {
   "cell_type": "markdown",
   "id": "f34a5830",
   "metadata": {},
   "source": [
    "# Projeto - Machine Learning I\n",
    "#### `Professor`: Alex Lima"
   ]
  },
  {
   "cell_type": "markdown",
   "id": "10c548c6",
   "metadata": {},
   "source": [
    "Este documento descreve os requisitos e critérios de avaliação para projeto de Machine Learning I.\n",
    "\n",
    "A principal finalidade deste projeto é fazer com o aluno pratique a exploração e modelagem de dados apresentados ao longo do modelo de machine learning I. Assim, durante o planejamento e desenvolvimento de seu projeto, recomenda-se visitar a ementa do módulo e mapear em seu projeto os itens previstos e lecionados em aula.\n",
    "\n",
    "**DESAFIO**: Seu desafio neste módulo é conhecer uma área de negócio ou ciência de seu interesse e propor uma solução por meio de um modelo de machine learning. A solução deve ser apresentada prlo grupo no último dia de aula e detalhada em um report (jupyter notebook). Como referência, a equipe pode seguir os passos descritos a seguir:\n",
    " - `Introdução`\n",
    "     > Descreva a área e a solução proposta em seu projeto\n",
    " - `Coleta de dados`\n",
    "     > Busque ou construa um dataset relacionado ao problema que deseja solucionar.\n",
    " - `Desenvolvimento`\n",
    "     > Desenvolva um modelo de machine learning, utilizando o algoritmo de sua escolha. Inclua métricas e visualizações que tornem seu modelo atrativo e compreensível para que não é da área de dados.\n",
    " - `Apresentação`\n",
    "     > A apresentação deve ocorrer no último dia de aula (29/04). A equipe terá até 20 minutos para apresentar sua solução.\n",
    "  \n",
    "### Bons estudos! Sucesso!\n"
   ]
  },
  {
   "cell_type": "code",
   "execution_count": null,
   "id": "87cd0914",
   "metadata": {},
   "outputs": [],
   "source": []
  }
 ],
 "metadata": {
  "kernelspec": {
   "display_name": "Python 3 (ipykernel)",
   "language": "python",
   "name": "python3"
  },
  "language_info": {
   "codemirror_mode": {
    "name": "ipython",
    "version": 3
   },
   "file_extension": ".py",
   "mimetype": "text/x-python",
   "name": "python",
   "nbconvert_exporter": "python",
   "pygments_lexer": "ipython3",
   "version": "3.12.0"
  }
 },
 "nbformat": 4,
 "nbformat_minor": 5
}
