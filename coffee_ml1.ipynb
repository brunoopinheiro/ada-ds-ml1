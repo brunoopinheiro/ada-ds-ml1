{
 "cells": [
  {
   "cell_type": "markdown",
   "metadata": {},
   "source": [
    "# 1. Introdução\n",
    "\n",
    "Algum texto aqui."
   ]
  },
  {
   "cell_type": "code",
   "execution_count": 85,
   "metadata": {},
   "outputs": [],
   "source": [
    "# imports - dataset e graficos\n",
    "import pandas as pd\n",
    "import numpy as np"
   ]
  },
  {
   "cell_type": "code",
   "execution_count": 86,
   "metadata": {},
   "outputs": [],
   "source": [
    "# imports machine learning"
   ]
  },
  {
   "cell_type": "markdown",
   "metadata": {},
   "source": [
    "# 2. Dataset (Visualizando as informações)\n",
    "\n",
    "Algum texto aqui."
   ]
  },
  {
   "cell_type": "code",
   "execution_count": 87,
   "metadata": {},
   "outputs": [
    {
     "data": {
      "text/html": [
       "<div>\n",
       "<style scoped>\n",
       "    .dataframe tbody tr th:only-of-type {\n",
       "        vertical-align: middle;\n",
       "    }\n",
       "\n",
       "    .dataframe tbody tr th {\n",
       "        vertical-align: top;\n",
       "    }\n",
       "\n",
       "    .dataframe thead th {\n",
       "        text-align: right;\n",
       "    }\n",
       "</style>\n",
       "<table border=\"1\" class=\"dataframe\">\n",
       "  <thead>\n",
       "    <tr style=\"text-align: right;\">\n",
       "      <th></th>\n",
       "      <th>Unnamed: 0</th>\n",
       "      <th>ID</th>\n",
       "      <th>Country of Origin</th>\n",
       "      <th>Farm Name</th>\n",
       "      <th>Lot Number</th>\n",
       "      <th>Mill</th>\n",
       "      <th>ICO Number</th>\n",
       "      <th>Company</th>\n",
       "      <th>Altitude</th>\n",
       "      <th>Region</th>\n",
       "      <th>...</th>\n",
       "      <th>Total Cup Points</th>\n",
       "      <th>Moisture Percentage</th>\n",
       "      <th>Category One Defects</th>\n",
       "      <th>Quakers</th>\n",
       "      <th>Color</th>\n",
       "      <th>Category Two Defects</th>\n",
       "      <th>Expiration</th>\n",
       "      <th>Certification Body</th>\n",
       "      <th>Certification Address</th>\n",
       "      <th>Certification Contact</th>\n",
       "    </tr>\n",
       "  </thead>\n",
       "  <tbody>\n",
       "    <tr>\n",
       "      <th>0</th>\n",
       "      <td>0</td>\n",
       "      <td>0</td>\n",
       "      <td>Colombia</td>\n",
       "      <td>Finca El Paraiso</td>\n",
       "      <td>CQU2022015</td>\n",
       "      <td>Finca El Paraiso</td>\n",
       "      <td>NaN</td>\n",
       "      <td>Coffee Quality Union</td>\n",
       "      <td>1700-1930</td>\n",
       "      <td>Piendamo,Cauca</td>\n",
       "      <td>...</td>\n",
       "      <td>89.33</td>\n",
       "      <td>11.8</td>\n",
       "      <td>0</td>\n",
       "      <td>0</td>\n",
       "      <td>green</td>\n",
       "      <td>3</td>\n",
       "      <td>September 21st, 2023</td>\n",
       "      <td>Japan Coffee Exchange</td>\n",
       "      <td>〒413-0002 静岡県熱海市伊豆山１１７３−５８ 1173-58 Izusan, Ata...</td>\n",
       "      <td>松澤　宏樹　Koju Matsuzawa - +81(0)9085642901</td>\n",
       "    </tr>\n",
       "    <tr>\n",
       "      <th>1</th>\n",
       "      <td>1</td>\n",
       "      <td>1</td>\n",
       "      <td>Taiwan</td>\n",
       "      <td>Royal Bean Geisha Estate</td>\n",
       "      <td>The 2022 Pacific Rim Coffee Summit,T037</td>\n",
       "      <td>Royal Bean Geisha Estate</td>\n",
       "      <td>NaN</td>\n",
       "      <td>Taiwan Coffee Laboratory</td>\n",
       "      <td>1200</td>\n",
       "      <td>Chiayi</td>\n",
       "      <td>...</td>\n",
       "      <td>87.58</td>\n",
       "      <td>10.5</td>\n",
       "      <td>0</td>\n",
       "      <td>0</td>\n",
       "      <td>blue-green</td>\n",
       "      <td>0</td>\n",
       "      <td>November 15th, 2023</td>\n",
       "      <td>Taiwan Coffee Laboratory 台灣咖啡研究室</td>\n",
       "      <td>QAHWAH CO., LTD 4F, No. 225, Sec. 3, Beixin Rd...</td>\n",
       "      <td>Lin, Jen-An Neil 林仁安 - 886-289116612</td>\n",
       "    </tr>\n",
       "    <tr>\n",
       "      <th>2</th>\n",
       "      <td>2</td>\n",
       "      <td>2</td>\n",
       "      <td>Laos</td>\n",
       "      <td>OKLAO coffee farms</td>\n",
       "      <td>The 2022 Pacific Rim Coffee Summit,LA01</td>\n",
       "      <td>oklao coffee processing plant</td>\n",
       "      <td>NaN</td>\n",
       "      <td>Taiwan Coffee Laboratory</td>\n",
       "      <td>1300</td>\n",
       "      <td>Laos Borofen Plateau</td>\n",
       "      <td>...</td>\n",
       "      <td>87.42</td>\n",
       "      <td>10.4</td>\n",
       "      <td>0</td>\n",
       "      <td>0</td>\n",
       "      <td>yellowish</td>\n",
       "      <td>2</td>\n",
       "      <td>November 15th, 2023</td>\n",
       "      <td>Taiwan Coffee Laboratory 台灣咖啡研究室</td>\n",
       "      <td>QAHWAH CO., LTD 4F, No. 225, Sec. 3, Beixin Rd...</td>\n",
       "      <td>Lin, Jen-An Neil 林仁安 - 886-289116612</td>\n",
       "    </tr>\n",
       "    <tr>\n",
       "      <th>3</th>\n",
       "      <td>3</td>\n",
       "      <td>3</td>\n",
       "      <td>Costa Rica</td>\n",
       "      <td>La Cumbre</td>\n",
       "      <td>CQU2022017</td>\n",
       "      <td>La Montana Tarrazu MIll</td>\n",
       "      <td>NaN</td>\n",
       "      <td>Coffee Quality Union</td>\n",
       "      <td>1900</td>\n",
       "      <td>Los Santos,Tarrazu</td>\n",
       "      <td>...</td>\n",
       "      <td>87.17</td>\n",
       "      <td>11.8</td>\n",
       "      <td>0</td>\n",
       "      <td>0</td>\n",
       "      <td>green</td>\n",
       "      <td>0</td>\n",
       "      <td>September 21st, 2023</td>\n",
       "      <td>Japan Coffee Exchange</td>\n",
       "      <td>〒413-0002 静岡県熱海市伊豆山１１７３−５８ 1173-58 Izusan, Ata...</td>\n",
       "      <td>松澤　宏樹　Koju Matsuzawa - +81(0)9085642901</td>\n",
       "    </tr>\n",
       "    <tr>\n",
       "      <th>4</th>\n",
       "      <td>4</td>\n",
       "      <td>4</td>\n",
       "      <td>Colombia</td>\n",
       "      <td>Finca Santuario</td>\n",
       "      <td>CQU2023002</td>\n",
       "      <td>Finca Santuario</td>\n",
       "      <td>NaN</td>\n",
       "      <td>Coffee Quality Union</td>\n",
       "      <td>1850-2100</td>\n",
       "      <td>Popayan,Cauca</td>\n",
       "      <td>...</td>\n",
       "      <td>87.08</td>\n",
       "      <td>11.6</td>\n",
       "      <td>0</td>\n",
       "      <td>2</td>\n",
       "      <td>yellow-green</td>\n",
       "      <td>2</td>\n",
       "      <td>March 5th, 2024</td>\n",
       "      <td>Japan Coffee Exchange</td>\n",
       "      <td>〒413-0002 静岡県熱海市伊豆山１１７３−５８ 1173-58 Izusan, Ata...</td>\n",
       "      <td>松澤　宏樹　Koju Matsuzawa - +81(0)9085642901</td>\n",
       "    </tr>\n",
       "  </tbody>\n",
       "</table>\n",
       "<p>5 rows × 41 columns</p>\n",
       "</div>"
      ],
      "text/plain": [
       "   Unnamed: 0  ID Country of Origin                 Farm Name  \\\n",
       "0           0   0          Colombia          Finca El Paraiso   \n",
       "1           1   1            Taiwan  Royal Bean Geisha Estate   \n",
       "2           2   2              Laos        OKLAO coffee farms   \n",
       "3           3   3        Costa Rica                 La Cumbre   \n",
       "4           4   4          Colombia           Finca Santuario   \n",
       "\n",
       "                                Lot Number                           Mill  \\\n",
       "0                               CQU2022015               Finca El Paraiso   \n",
       "1  The 2022 Pacific Rim Coffee Summit,T037       Royal Bean Geisha Estate   \n",
       "2  The 2022 Pacific Rim Coffee Summit,LA01  oklao coffee processing plant   \n",
       "3                               CQU2022017        La Montana Tarrazu MIll   \n",
       "4                               CQU2023002                Finca Santuario   \n",
       "\n",
       "  ICO Number                   Company   Altitude                Region  ...  \\\n",
       "0        NaN      Coffee Quality Union  1700-1930        Piendamo,Cauca  ...   \n",
       "1        NaN  Taiwan Coffee Laboratory       1200                Chiayi  ...   \n",
       "2        NaN  Taiwan Coffee Laboratory       1300  Laos Borofen Plateau  ...   \n",
       "3        NaN      Coffee Quality Union       1900    Los Santos,Tarrazu  ...   \n",
       "4        NaN      Coffee Quality Union  1850-2100         Popayan,Cauca  ...   \n",
       "\n",
       "  Total Cup Points  Moisture Percentage Category One Defects Quakers  \\\n",
       "0            89.33                 11.8                    0       0   \n",
       "1            87.58                 10.5                    0       0   \n",
       "2            87.42                 10.4                    0       0   \n",
       "3            87.17                 11.8                    0       0   \n",
       "4            87.08                 11.6                    0       2   \n",
       "\n",
       "          Color Category Two Defects            Expiration  \\\n",
       "0         green                    3  September 21st, 2023   \n",
       "1    blue-green                    0   November 15th, 2023   \n",
       "2     yellowish                    2   November 15th, 2023   \n",
       "3         green                    0  September 21st, 2023   \n",
       "4  yellow-green                    2       March 5th, 2024   \n",
       "\n",
       "                 Certification Body  \\\n",
       "0             Japan Coffee Exchange   \n",
       "1  Taiwan Coffee Laboratory 台灣咖啡研究室   \n",
       "2  Taiwan Coffee Laboratory 台灣咖啡研究室   \n",
       "3             Japan Coffee Exchange   \n",
       "4             Japan Coffee Exchange   \n",
       "\n",
       "                               Certification Address  \\\n",
       "0  〒413-0002 静岡県熱海市伊豆山１１７３−５８ 1173-58 Izusan, Ata...   \n",
       "1  QAHWAH CO., LTD 4F, No. 225, Sec. 3, Beixin Rd...   \n",
       "2  QAHWAH CO., LTD 4F, No. 225, Sec. 3, Beixin Rd...   \n",
       "3  〒413-0002 静岡県熱海市伊豆山１１７３−５８ 1173-58 Izusan, Ata...   \n",
       "4  〒413-0002 静岡県熱海市伊豆山１１７３−５８ 1173-58 Izusan, Ata...   \n",
       "\n",
       "                     Certification Contact  \n",
       "0  松澤　宏樹　Koju Matsuzawa - +81(0)9085642901  \n",
       "1     Lin, Jen-An Neil 林仁安 - 886-289116612  \n",
       "2     Lin, Jen-An Neil 林仁安 - 886-289116612  \n",
       "3  松澤　宏樹　Koju Matsuzawa - +81(0)9085642901  \n",
       "4  松澤　宏樹　Koju Matsuzawa - +81(0)9085642901  \n",
       "\n",
       "[5 rows x 41 columns]"
      ]
     },
     "execution_count": 87,
     "metadata": {},
     "output_type": "execute_result"
    }
   ],
   "source": [
    "# lendo o dataset\n",
    "\n",
    "df_base = pd.read_csv('./dataset/df_arabica_clean.csv')\n",
    "\n",
    "df_base.head()"
   ]
  },
  {
   "cell_type": "code",
   "execution_count": 88,
   "metadata": {},
   "outputs": [
    {
     "name": "stdout",
     "output_type": "stream",
     "text": [
      "<class 'pandas.core.frame.DataFrame'>\n",
      "RangeIndex: 207 entries, 0 to 206\n",
      "Data columns (total 41 columns):\n",
      " #   Column                 Non-Null Count  Dtype  \n",
      "---  ------                 --------------  -----  \n",
      " 0   Unnamed: 0             207 non-null    int64  \n",
      " 1   ID                     207 non-null    int64  \n",
      " 2   Country of Origin      207 non-null    object \n",
      " 3   Farm Name              205 non-null    object \n",
      " 4   Lot Number             206 non-null    object \n",
      " 5   Mill                   204 non-null    object \n",
      " 6   ICO Number             75 non-null     object \n",
      " 7   Company                207 non-null    object \n",
      " 8   Altitude               206 non-null    object \n",
      " 9   Region                 205 non-null    object \n",
      " 10  Producer               206 non-null    object \n",
      " 11  Number of Bags         207 non-null    int64  \n",
      " 12  Bag Weight             207 non-null    object \n",
      " 13  In-Country Partner     207 non-null    object \n",
      " 14  Harvest Year           207 non-null    object \n",
      " 15  Grading Date           207 non-null    object \n",
      " 16  Owner                  207 non-null    object \n",
      " 17  Variety                201 non-null    object \n",
      " 18  Status                 207 non-null    object \n",
      " 19  Processing Method      202 non-null    object \n",
      " 20  Aroma                  207 non-null    float64\n",
      " 21  Flavor                 207 non-null    float64\n",
      " 22  Aftertaste             207 non-null    float64\n",
      " 23  Acidity                207 non-null    float64\n",
      " 24  Body                   207 non-null    float64\n",
      " 25  Balance                207 non-null    float64\n",
      " 26  Uniformity             207 non-null    float64\n",
      " 27  Clean Cup              207 non-null    float64\n",
      " 28  Sweetness              207 non-null    float64\n",
      " 29  Overall                207 non-null    float64\n",
      " 30  Defects                207 non-null    float64\n",
      " 31  Total Cup Points       207 non-null    float64\n",
      " 32  Moisture Percentage    207 non-null    float64\n",
      " 33  Category One Defects   207 non-null    int64  \n",
      " 34  Quakers                207 non-null    int64  \n",
      " 35  Color                  207 non-null    object \n",
      " 36  Category Two Defects   207 non-null    int64  \n",
      " 37  Expiration             207 non-null    object \n",
      " 38  Certification Body     207 non-null    object \n",
      " 39  Certification Address  207 non-null    object \n",
      " 40  Certification Contact  207 non-null    object \n",
      "dtypes: float64(13), int64(6), object(22)\n",
      "memory usage: 66.4+ KB\n"
     ]
    }
   ],
   "source": [
    "df_base.info()"
   ]
  },
  {
   "cell_type": "markdown",
   "metadata": {},
   "source": [
    "## 2.1. Removendo colunas que não serão utilizadas"
   ]
  },
  {
   "cell_type": "code",
   "execution_count": 89,
   "metadata": {},
   "outputs": [
    {
     "data": {
      "text/html": [
       "<div>\n",
       "<style scoped>\n",
       "    .dataframe tbody tr th:only-of-type {\n",
       "        vertical-align: middle;\n",
       "    }\n",
       "\n",
       "    .dataframe tbody tr th {\n",
       "        vertical-align: top;\n",
       "    }\n",
       "\n",
       "    .dataframe thead th {\n",
       "        text-align: right;\n",
       "    }\n",
       "</style>\n",
       "<table border=\"1\" class=\"dataframe\">\n",
       "  <thead>\n",
       "    <tr style=\"text-align: right;\">\n",
       "      <th></th>\n",
       "      <th>Country of Origin</th>\n",
       "      <th>Farm Name</th>\n",
       "      <th>Company</th>\n",
       "      <th>Altitude</th>\n",
       "      <th>Region</th>\n",
       "      <th>Harvest Year</th>\n",
       "      <th>Variety</th>\n",
       "      <th>Status</th>\n",
       "      <th>Processing Method</th>\n",
       "      <th>Aroma</th>\n",
       "      <th>...</th>\n",
       "      <th>Clean Cup</th>\n",
       "      <th>Sweetness</th>\n",
       "      <th>Overall</th>\n",
       "      <th>Defects</th>\n",
       "      <th>Total Cup Points</th>\n",
       "      <th>Moisture Percentage</th>\n",
       "      <th>Category One Defects</th>\n",
       "      <th>Quakers</th>\n",
       "      <th>Color</th>\n",
       "      <th>Category Two Defects</th>\n",
       "    </tr>\n",
       "  </thead>\n",
       "  <tbody>\n",
       "    <tr>\n",
       "      <th>0</th>\n",
       "      <td>Colombia</td>\n",
       "      <td>Finca El Paraiso</td>\n",
       "      <td>Coffee Quality Union</td>\n",
       "      <td>1700-1930</td>\n",
       "      <td>Piendamo,Cauca</td>\n",
       "      <td>2021 / 2022</td>\n",
       "      <td>Castillo</td>\n",
       "      <td>Completed</td>\n",
       "      <td>Double Anaerobic Washed</td>\n",
       "      <td>8.58</td>\n",
       "      <td>...</td>\n",
       "      <td>10.0</td>\n",
       "      <td>10.0</td>\n",
       "      <td>8.58</td>\n",
       "      <td>0.0</td>\n",
       "      <td>89.33</td>\n",
       "      <td>11.8</td>\n",
       "      <td>0</td>\n",
       "      <td>0</td>\n",
       "      <td>green</td>\n",
       "      <td>3</td>\n",
       "    </tr>\n",
       "    <tr>\n",
       "      <th>1</th>\n",
       "      <td>Taiwan</td>\n",
       "      <td>Royal Bean Geisha Estate</td>\n",
       "      <td>Taiwan Coffee Laboratory</td>\n",
       "      <td>1200</td>\n",
       "      <td>Chiayi</td>\n",
       "      <td>2021 / 2022</td>\n",
       "      <td>Gesha</td>\n",
       "      <td>Completed</td>\n",
       "      <td>Washed / Wet</td>\n",
       "      <td>8.50</td>\n",
       "      <td>...</td>\n",
       "      <td>10.0</td>\n",
       "      <td>10.0</td>\n",
       "      <td>8.50</td>\n",
       "      <td>0.0</td>\n",
       "      <td>87.58</td>\n",
       "      <td>10.5</td>\n",
       "      <td>0</td>\n",
       "      <td>0</td>\n",
       "      <td>blue-green</td>\n",
       "      <td>0</td>\n",
       "    </tr>\n",
       "    <tr>\n",
       "      <th>2</th>\n",
       "      <td>Laos</td>\n",
       "      <td>OKLAO coffee farms</td>\n",
       "      <td>Taiwan Coffee Laboratory</td>\n",
       "      <td>1300</td>\n",
       "      <td>Laos Borofen Plateau</td>\n",
       "      <td>2021 / 2022</td>\n",
       "      <td>Java</td>\n",
       "      <td>Completed</td>\n",
       "      <td>Semi Washed</td>\n",
       "      <td>8.33</td>\n",
       "      <td>...</td>\n",
       "      <td>10.0</td>\n",
       "      <td>10.0</td>\n",
       "      <td>8.33</td>\n",
       "      <td>0.0</td>\n",
       "      <td>87.42</td>\n",
       "      <td>10.4</td>\n",
       "      <td>0</td>\n",
       "      <td>0</td>\n",
       "      <td>yellowish</td>\n",
       "      <td>2</td>\n",
       "    </tr>\n",
       "    <tr>\n",
       "      <th>3</th>\n",
       "      <td>Costa Rica</td>\n",
       "      <td>La Cumbre</td>\n",
       "      <td>Coffee Quality Union</td>\n",
       "      <td>1900</td>\n",
       "      <td>Los Santos,Tarrazu</td>\n",
       "      <td>2022</td>\n",
       "      <td>Gesha</td>\n",
       "      <td>Completed</td>\n",
       "      <td>Washed / Wet</td>\n",
       "      <td>8.08</td>\n",
       "      <td>...</td>\n",
       "      <td>10.0</td>\n",
       "      <td>10.0</td>\n",
       "      <td>8.25</td>\n",
       "      <td>0.0</td>\n",
       "      <td>87.17</td>\n",
       "      <td>11.8</td>\n",
       "      <td>0</td>\n",
       "      <td>0</td>\n",
       "      <td>green</td>\n",
       "      <td>0</td>\n",
       "    </tr>\n",
       "    <tr>\n",
       "      <th>4</th>\n",
       "      <td>Colombia</td>\n",
       "      <td>Finca Santuario</td>\n",
       "      <td>Coffee Quality Union</td>\n",
       "      <td>1850-2100</td>\n",
       "      <td>Popayan,Cauca</td>\n",
       "      <td>2022</td>\n",
       "      <td>Red Bourbon</td>\n",
       "      <td>Completed</td>\n",
       "      <td>Honey,Mossto</td>\n",
       "      <td>8.33</td>\n",
       "      <td>...</td>\n",
       "      <td>10.0</td>\n",
       "      <td>10.0</td>\n",
       "      <td>8.25</td>\n",
       "      <td>0.0</td>\n",
       "      <td>87.08</td>\n",
       "      <td>11.6</td>\n",
       "      <td>0</td>\n",
       "      <td>2</td>\n",
       "      <td>yellow-green</td>\n",
       "      <td>2</td>\n",
       "    </tr>\n",
       "  </tbody>\n",
       "</table>\n",
       "<p>5 rows × 26 columns</p>\n",
       "</div>"
      ],
      "text/plain": [
       "  Country of Origin                 Farm Name                   Company  \\\n",
       "0          Colombia          Finca El Paraiso      Coffee Quality Union   \n",
       "1            Taiwan  Royal Bean Geisha Estate  Taiwan Coffee Laboratory   \n",
       "2              Laos        OKLAO coffee farms  Taiwan Coffee Laboratory   \n",
       "3        Costa Rica                 La Cumbre      Coffee Quality Union   \n",
       "4          Colombia           Finca Santuario      Coffee Quality Union   \n",
       "\n",
       "    Altitude                Region Harvest Year      Variety     Status  \\\n",
       "0  1700-1930        Piendamo,Cauca  2021 / 2022     Castillo  Completed   \n",
       "1       1200                Chiayi  2021 / 2022        Gesha  Completed   \n",
       "2       1300  Laos Borofen Plateau  2021 / 2022         Java  Completed   \n",
       "3       1900    Los Santos,Tarrazu         2022        Gesha  Completed   \n",
       "4  1850-2100         Popayan,Cauca         2022  Red Bourbon  Completed   \n",
       "\n",
       "         Processing Method  Aroma  ...  Clean Cup  Sweetness  Overall  \\\n",
       "0  Double Anaerobic Washed   8.58  ...       10.0       10.0     8.58   \n",
       "1             Washed / Wet   8.50  ...       10.0       10.0     8.50   \n",
       "2              Semi Washed   8.33  ...       10.0       10.0     8.33   \n",
       "3             Washed / Wet   8.08  ...       10.0       10.0     8.25   \n",
       "4             Honey,Mossto   8.33  ...       10.0       10.0     8.25   \n",
       "\n",
       "   Defects  Total Cup Points  Moisture Percentage  Category One Defects  \\\n",
       "0      0.0             89.33                 11.8                     0   \n",
       "1      0.0             87.58                 10.5                     0   \n",
       "2      0.0             87.42                 10.4                     0   \n",
       "3      0.0             87.17                 11.8                     0   \n",
       "4      0.0             87.08                 11.6                     0   \n",
       "\n",
       "   Quakers         Color  Category Two Defects  \n",
       "0        0         green                     3  \n",
       "1        0    blue-green                     0  \n",
       "2        0     yellowish                     2  \n",
       "3        0         green                     0  \n",
       "4        2  yellow-green                     2  \n",
       "\n",
       "[5 rows x 26 columns]"
      ]
     },
     "execution_count": 89,
     "metadata": {},
     "output_type": "execute_result"
    }
   ],
   "source": [
    "# removendo colunas não relacionadas\n",
    "df_clean = df_base.copy()\n",
    "\n",
    "drop_columns = ['Unnamed: 0', 'ID', 'Lot Number', 'ICO Number',\n",
    "                'Mill', 'Producer', 'Number of Bags', 'Bag Weight',\n",
    "                'In-Country Partner', 'Grading Date', 'Owner',\n",
    "                'Expiration', 'Certification Body',\n",
    "                'Certification Address', 'Certification Contact']\n",
    "\n",
    "df_clean.drop(columns=drop_columns, axis=1, inplace=True)\n",
    "\n",
    "df_clean.head()"
   ]
  },
  {
   "cell_type": "markdown",
   "metadata": {},
   "source": [
    "## 2.2. Limpando os valores no dataset"
   ]
  },
  {
   "cell_type": "code",
   "execution_count": 90,
   "metadata": {},
   "outputs": [],
   "source": [
    "# limpando os valores das colunas\n",
    "import pandas as pd\n",
    "\n",
    "def unique_values_report(df: pd.DataFrame):\n",
    "    columns = df.columns.to_list()\n",
    "\n",
    "    for col in columns:\n",
    "        col_values = df[col].value_counts(normalize=True)\n",
    "        print(\"===========\")\n",
    "        print(col_values)\n",
    "        print(\"===========\")"
   ]
  },
  {
   "cell_type": "code",
   "execution_count": 91,
   "metadata": {},
   "outputs": [
    {
     "name": "stdout",
     "output_type": "stream",
     "text": [
      "===========\n",
      "Country of Origin\n",
      "Taiwan                          0.294686\n",
      "Guatemala                       0.101449\n",
      "Colombia                        0.091787\n",
      "Honduras                        0.062802\n",
      "Thailand                        0.057971\n",
      "Ethiopia                        0.053140\n",
      "Brazil                          0.048309\n",
      "Costa Rica                      0.038647\n",
      "Nicaragua                       0.033816\n",
      "El Salvador                     0.033816\n",
      "Tanzania, United Republic Of    0.028986\n",
      "United States (Hawaii)          0.024155\n",
      "Mexico                          0.019324\n",
      "Peru                            0.019324\n",
      "Vietnam                         0.019324\n",
      "Uganda                          0.014493\n",
      "Indonesia                       0.014493\n",
      "Laos                            0.014493\n",
      "Panama                          0.009662\n",
      "Kenya                           0.009662\n",
      "Madagascar                      0.004831\n",
      "Myanmar                         0.004831\n",
      "Name: proportion, dtype: float64\n",
      "===========\n",
      "===========\n",
      "Farm Name\n",
      "Doi Tung Development Project    0.034146\n",
      "La Cuchilla                     0.024390\n",
      "Gamboa Farm                     0.014634\n",
      "Agua Caliente                   0.014634\n",
      "MASHIMA AMCOS                   0.014634\n",
      "                                  ...   \n",
      "名陽園                             0.004878\n",
      "CupnCare                        0.004878\n",
      "苗55咖啡莊園                         0.004878\n",
      "TRACON TRADING PLC              0.004878\n",
      "Walter Matter                   0.004878\n",
      "Name: proportion, Length: 172, dtype: float64\n",
      "===========\n",
      "===========\n",
      "Company\n",
      "Taiwan Coffee Laboratory        0.246377\n",
      "Taiwu Coffee Cooperative        0.120773\n",
      "Coffee Quality Union            0.072464\n",
      "Doi Tung Development Project    0.033816\n",
      "Peter Schoenfeld, S.A.          0.028986\n",
      "                                  ...   \n",
      "Taylor Winch Coffee Ltd         0.004831\n",
      "ECOM COLOMBIA                   0.004831\n",
      "Exportadora Café California     0.004831\n",
      "Coffee Quality Institute        0.004831\n",
      "marubeni                        0.004831\n",
      "Name: proportion, Length: 72, dtype: float64\n",
      "===========\n",
      "===========\n",
      "Altitude\n",
      "1200           0.111650\n",
      "1600           0.058252\n",
      "1300           0.033981\n",
      "1250           0.033981\n",
      "1400           0.033981\n",
      "                 ...   \n",
      "1411           0.004854\n",
      "4895 A 5650    0.004854\n",
      "400-600        0.004854\n",
      "200-400        0.004854\n",
      "850-1100       0.004854\n",
      "Name: proportion, Length: 97, dtype: float64\n",
      "===========\n",
      "===========\n",
      "Region\n",
      "Chiayi                         0.058537\n",
      "新竹縣                            0.053659\n",
      "苗栗縣                            0.034146\n",
      "North of Thailand              0.034146\n",
      "Yunlin                         0.034146\n",
      "                                 ...   \n",
      "Addis Ababa                    0.004878\n",
      "Ka'u district of Big Island    0.004878\n",
      "玉里鎮Yuli Township               0.004878\n",
      "Ethiopia                       0.004878\n",
      "Minas Gerais                   0.004878\n",
      "Name: proportion, Length: 120, dtype: float64\n",
      "===========\n",
      "===========\n",
      "Harvest Year\n",
      "2021 / 2022    0.478261\n",
      "2022           0.231884\n",
      "2022 / 2023    0.202899\n",
      "2021           0.062802\n",
      "2023           0.014493\n",
      "2017 / 2018    0.004831\n",
      "2018 / 2019    0.004831\n",
      "Name: proportion, dtype: float64\n",
      "===========\n",
      "===========\n",
      "Variety\n",
      "Caturra                                                         0.134328\n",
      "Gesha                                                           0.134328\n",
      "Typica                                                          0.114428\n",
      "Bourbon                                                         0.084577\n",
      "Catuai                                                          0.059701\n",
      "unknown                                                         0.059701\n",
      "Catimor                                                         0.054726\n",
      "Ethiopian Heirlooms                                             0.044776\n",
      "SL34                                                            0.039801\n",
      "Mundo Novo                                                      0.019900\n",
      "SL14                                                            0.014925\n",
      "Yellow Bourbon                                                  0.014925\n",
      "SHG                                                             0.014925\n",
      "Java                                                            0.014925\n",
      "Maragogype                                                      0.009950\n",
      "Parainema                                                       0.009950\n",
      "Pacamara                                                        0.009950\n",
      "Sarchimor                                                       0.009950\n",
      "SL28                                                            0.009950\n",
      "Santander                                                       0.004975\n",
      "Typica Gesha                                                    0.004975\n",
      "Catucai                                                         0.004975\n",
      "Yellow Catuai                                                   0.004975\n",
      "SL28,SL34,Ruiru11                                               0.004975\n",
      "Caturra-Catuai                                                  0.004975\n",
      "Typica Bourbon Caturra Catimor                                  0.004975\n",
      "Caturra,Colombia,Castillo                                       0.004975\n",
      "Castillo,Caturra,Bourbon                                        0.004975\n",
      "unknow                                                          0.004975\n",
      "Bourbon, Catimor, Caturra, Typica                               0.004975\n",
      "Pacas                                                           0.004975\n",
      "Gayo                                                            0.004975\n",
      "Castillo                                                        0.004975\n",
      "Lempira                                                         0.004975\n",
      "Red Bourbon,Caturra                                             0.004975\n",
      "MARSELLESA, CATUAI, CATURRA & MARSELLESA, ANACAFE 14, CATUAI    0.004975\n",
      "Typica + SL34                                                   0.004975\n",
      "Catimor,Catuai,Caturra,Bourbon                                  0.004975\n",
      "Bourbon Sidra                                                   0.004975\n",
      "BOURBON, CATURRA Y CATIMOR                                      0.004975\n",
      "Jember,TIM-TIM,Ateng                                            0.004975\n",
      "Castillo and Colombia blend                                     0.004975\n",
      "Catrenic                                                        0.004975\n",
      "Castillo Paraguaycito                                           0.004975\n",
      "Wolishalo,Kurume,Dega                                           0.004975\n",
      "Sl34+Gesha                                                      0.004975\n",
      "Red Bourbon                                                     0.004975\n",
      "Catuai and Mundo Novo                                           0.004975\n",
      "Name: proportion, dtype: float64\n",
      "===========\n",
      "===========\n",
      "Status\n",
      "Completed    1.0\n",
      "Name: proportion, dtype: float64\n",
      "===========\n",
      "===========\n",
      "Processing Method\n",
      "Washed / Wet                            0.613861\n",
      "Natural / Dry                           0.227723\n",
      "Pulped natural / honey                  0.123762\n",
      "Double Anaerobic Washed                 0.004950\n",
      "Semi Washed                             0.004950\n",
      "Honey,Mossto                            0.004950\n",
      "Double Carbonic Maceration / Natural    0.004950\n",
      "Wet Hulling                             0.004950\n",
      "Anaerobico 1000h                        0.004950\n",
      "SEMI-LAVADO                             0.004950\n",
      "Name: proportion, dtype: float64\n",
      "===========\n",
      "===========\n",
      "Aroma\n",
      "7.67    0.178744\n",
      "7.75    0.101449\n",
      "7.58    0.101449\n",
      "7.83    0.091787\n",
      "8.00    0.077295\n",
      "7.92    0.072464\n",
      "7.50    0.067633\n",
      "8.08    0.062802\n",
      "7.42    0.057971\n",
      "7.33    0.057971\n",
      "7.25    0.033816\n",
      "8.17    0.033816\n",
      "8.33    0.019324\n",
      "7.17    0.014493\n",
      "8.25    0.009662\n",
      "7.08    0.004831\n",
      "8.58    0.004831\n",
      "8.50    0.004831\n",
      "6.50    0.004831\n",
      "Name: proportion, dtype: float64\n",
      "===========\n",
      "===========\n",
      "Flavor\n",
      "7.92    0.135266\n",
      "7.67    0.120773\n",
      "7.75    0.111111\n",
      "7.83    0.106280\n",
      "8.00    0.091787\n",
      "7.50    0.086957\n",
      "7.58    0.077295\n",
      "7.42    0.067633\n",
      "8.08    0.053140\n",
      "8.17    0.033816\n",
      "7.25    0.033816\n",
      "7.17    0.019324\n",
      "7.33    0.014493\n",
      "7.08    0.009662\n",
      "8.50    0.009662\n",
      "8.25    0.009662\n",
      "8.33    0.009662\n",
      "8.42    0.004831\n",
      "6.75    0.004831\n",
      "Name: proportion, dtype: float64\n",
      "===========\n",
      "===========\n",
      "Aftertaste\n",
      "7.58    0.154589\n",
      "7.42    0.115942\n",
      "7.67    0.115942\n",
      "7.75    0.106280\n",
      "7.50    0.101449\n",
      "7.83    0.086957\n",
      "7.33    0.062802\n",
      "7.25    0.053140\n",
      "8.00    0.043478\n",
      "7.92    0.038647\n",
      "8.08    0.033816\n",
      "7.17    0.028986\n",
      "8.17    0.009662\n",
      "8.25    0.009662\n",
      "6.75    0.009662\n",
      "7.08    0.009662\n",
      "6.92    0.004831\n",
      "8.42    0.004831\n",
      "7.00    0.004831\n",
      "6.67    0.004831\n",
      "Name: proportion, dtype: float64\n",
      "===========\n",
      "===========\n",
      "Acidity\n",
      "7.75    0.149758\n",
      "7.92    0.125604\n",
      "7.67    0.120773\n",
      "7.50    0.111111\n",
      "7.83    0.096618\n",
      "7.58    0.091787\n",
      "7.42    0.072464\n",
      "8.00    0.067633\n",
      "7.33    0.053140\n",
      "8.17    0.024155\n",
      "7.17    0.019324\n",
      "8.08    0.014493\n",
      "7.25    0.014493\n",
      "8.25    0.009662\n",
      "7.08    0.009662\n",
      "7.00    0.004831\n",
      "8.58    0.004831\n",
      "8.33    0.004831\n",
      "6.83    0.004831\n",
      "Name: proportion, dtype: float64\n",
      "===========\n",
      "===========\n",
      "Body\n",
      "7.67    0.164251\n",
      "7.58    0.154589\n",
      "7.75    0.140097\n",
      "7.50    0.106280\n",
      "7.83    0.096618\n",
      "7.42    0.082126\n",
      "7.92    0.062802\n",
      "8.00    0.053140\n",
      "7.33    0.048309\n",
      "7.08    0.019324\n",
      "7.17    0.019324\n",
      "7.25    0.014493\n",
      "8.25    0.009662\n",
      "8.08    0.009662\n",
      "8.17    0.009662\n",
      "7.00    0.004831\n",
      "6.83    0.004831\n",
      "Name: proportion, dtype: float64\n",
      "===========\n",
      "===========\n",
      "Balance\n",
      "7.67    0.159420\n",
      "7.75    0.154589\n",
      "7.50    0.125604\n",
      "7.58    0.096618\n",
      "7.83    0.086957\n",
      "7.42    0.086957\n",
      "8.00    0.062802\n",
      "7.92    0.057971\n",
      "7.33    0.048309\n",
      "7.25    0.024155\n",
      "7.17    0.024155\n",
      "8.17    0.019324\n",
      "7.08    0.014493\n",
      "8.08    0.009662\n",
      "8.25    0.009662\n",
      "7.00    0.009662\n",
      "8.42    0.004831\n",
      "6.67    0.004831\n",
      "Name: proportion, dtype: float64\n",
      "===========\n",
      "===========\n",
      "Uniformity\n",
      "10.00    0.990338\n",
      "9.33     0.004831\n",
      "8.67     0.004831\n",
      "Name: proportion, dtype: float64\n",
      "===========\n",
      "===========\n",
      "Clean Cup\n",
      "10.0    1.0\n",
      "Name: proportion, dtype: float64\n",
      "===========\n",
      "===========\n",
      "Sweetness\n",
      "10.0    1.0\n",
      "Name: proportion, dtype: float64\n",
      "===========\n",
      "===========\n",
      "Overall\n",
      "7.75    0.135266\n",
      "7.67    0.096618\n",
      "7.92    0.096618\n",
      "7.83    0.096618\n",
      "7.50    0.096618\n",
      "8.00    0.086957\n",
      "7.42    0.082126\n",
      "7.33    0.077295\n",
      "7.58    0.072464\n",
      "7.17    0.033816\n",
      "8.25    0.024155\n",
      "8.08    0.024155\n",
      "7.00    0.014493\n",
      "7.25    0.014493\n",
      "7.08    0.009662\n",
      "8.58    0.009662\n",
      "8.17    0.009662\n",
      "8.50    0.004831\n",
      "8.33    0.004831\n",
      "6.83    0.004831\n",
      "6.67    0.004831\n",
      "Name: proportion, dtype: float64\n",
      "===========\n",
      "===========\n",
      "Defects\n",
      "0.0    1.0\n",
      "Name: proportion, dtype: float64\n",
      "===========\n",
      "===========\n",
      "Total Cup Points\n",
      "83.33    0.038647\n",
      "82.50    0.033816\n",
      "83.25    0.028986\n",
      "83.83    0.028986\n",
      "84.00    0.028986\n",
      "           ...   \n",
      "84.42    0.004831\n",
      "84.17    0.004831\n",
      "87.58    0.004831\n",
      "83.00    0.004831\n",
      "78.00    0.004831\n",
      "Name: proportion, Length: 81, dtype: float64\n",
      "===========\n",
      "===========\n",
      "Moisture Percentage\n",
      "11.8    0.062802\n",
      "11.3    0.062802\n",
      "11.6    0.062802\n",
      "10.0    0.053140\n",
      "10.6    0.053140\n",
      "11.2    0.043478\n",
      "11.0    0.043478\n",
      "10.5    0.038647\n",
      "10.4    0.033816\n",
      "11.5    0.033816\n",
      "10.1    0.028986\n",
      "10.3    0.028986\n",
      "10.9    0.028986\n",
      "10.2    0.028986\n",
      "10.8    0.024155\n",
      "9.6     0.024155\n",
      "9.7     0.024155\n",
      "11.7    0.024155\n",
      "11.9    0.024155\n",
      "11.4    0.024155\n",
      "9.8     0.024155\n",
      "10.7    0.019324\n",
      "9.5     0.019324\n",
      "8.4     0.014493\n",
      "11.1    0.014493\n",
      "9.2     0.014493\n",
      "9.9     0.014493\n",
      "9.1     0.014493\n",
      "12.0    0.009662\n",
      "13.1    0.009662\n",
      "12.1    0.009662\n",
      "13.3    0.009662\n",
      "9.4     0.009662\n",
      "12.3    0.009662\n",
      "12.4    0.004831\n",
      "12.2    0.004831\n",
      "9.3     0.004831\n",
      "13.5    0.004831\n",
      "0.0     0.004831\n",
      "8.9     0.004831\n",
      "13.0    0.004831\n",
      "8.1     0.004831\n",
      "8.2     0.004831\n",
      "12.5    0.004831\n",
      "9.0     0.004831\n",
      "8.5     0.004831\n",
      "Name: proportion, dtype: float64\n",
      "===========\n",
      "===========\n",
      "Category One Defects\n",
      "0    0.932367\n",
      "1    0.028986\n",
      "2    0.024155\n",
      "3    0.004831\n",
      "4    0.004831\n",
      "5    0.004831\n",
      "Name: proportion, dtype: float64\n",
      "===========\n",
      "===========\n",
      "Quakers\n",
      "0     0.724638\n",
      "1     0.120773\n",
      "2     0.077295\n",
      "3     0.038647\n",
      "5     0.009662\n",
      "7     0.004831\n",
      "8     0.004831\n",
      "6     0.004831\n",
      "10    0.004831\n",
      "9     0.004831\n",
      "12    0.004831\n",
      "Name: proportion, dtype: float64\n",
      "===========\n",
      "===========\n",
      "Color\n",
      "green            0.487923\n",
      "greenish         0.173913\n",
      "bluish-green     0.101449\n",
      "blue-green       0.057971\n",
      "yellow-green     0.048309\n",
      "brownish         0.043478\n",
      "pale yellow      0.028986\n",
      "yellow green     0.024155\n",
      "yellowish        0.019324\n",
      "yellow- green    0.004831\n",
      "browish-green    0.004831\n",
      "yello-green      0.004831\n",
      "Name: proportion, dtype: float64\n",
      "===========\n",
      "===========\n",
      "Category Two Defects\n",
      "0     0.357488\n",
      "2     0.178744\n",
      "1     0.164251\n",
      "3     0.077295\n",
      "5     0.062802\n",
      "4     0.062802\n",
      "7     0.024155\n",
      "8     0.019324\n",
      "12    0.014493\n",
      "11    0.014493\n",
      "9     0.009662\n",
      "16    0.004831\n",
      "10    0.004831\n",
      "13    0.004831\n",
      "Name: proportion, dtype: float64\n",
      "===========\n"
     ]
    }
   ],
   "source": [
    "unique_values_report(df_clean)"
   ]
  },
  {
   "cell_type": "markdown",
   "metadata": {},
   "source": [
    "Algumas colunas, que serão utilizadas para análise posterior do problema, precisam ter os dados limpos.\n",
    "São elas:\n",
    "| Coluna | Problema | Solução |\n",
    "| :---: | :---: | :---: |\n",
    "| Altitude | Valores Múltiplos na mesma coluna | Separação em 2 colunas (Lowest Altitude, Highest Altitude) |\n",
    "| Harvest Year | Valores Múltiplos na mesma coluna | Separação em 2 colunas (Initial Harvest Year, Final Harvest Year) |\n",
    "| Processing Method | Valores com erros de digitação ou padronização | Padronização em direção aos valores mais frequentes |\n",
    "| Color | Valores com erros de digitação ou padronização | Padronização em direção aos valores mais frequentes |\n"
   ]
  },
  {
   "cell_type": "code",
   "execution_count": 92,
   "metadata": {},
   "outputs": [
    {
     "data": {
      "text/plain": [
       "array(['1700-1930', '1200', '1300', '1900', '1850-2100', '1668', '1250',\n",
       "       '1400-1700', '1800-2200', '2000', '1900-2000', '1850', '1100',\n",
       "       '1900-2100', '1570-1600', '850', '1500-1700', '1350', '1060',\n",
       "       '600', '150-250', '668', '1950', '2150 - 2350', '1700', '650',\n",
       "       '1600-1900', '300-500', '1000', '800', '1905', '150', '1600',\n",
       "       '4700', '350-400', '230', '1750', '1654', '1400', '4895',\n",
       "       '200-300', '700', '1450', '520', '1368', '1943', '400',\n",
       "       '1300-1400', '2361', '1500', '2100', '1250-1350', '1500-1600',\n",
       "       '1800', '1600-1750', '1411', '4895 A 5650', '400-600', nan,\n",
       "       '200-400', '1470', '250-400', '250-300', '1200 - 1580',\n",
       "       '1400 - 1900', '1280-1325', '300', '750', '1300-1500', '950',\n",
       "       '1100-1200', '1390', '340', '1200 - 1300', '1650', '1280', '900',\n",
       "       '165', '465', '640', '1340', '139', '1200-1350', '1040', '140',\n",
       "       '1500-1950', '460', '500', '800-1200', '1350-1550', '1200~1600',\n",
       "       '5400', '900-1000', '1574', '435', '600-800', '1300-1800',\n",
       "       '850-1100'], dtype=object)"
      ]
     },
     "execution_count": 92,
     "metadata": {},
     "output_type": "execute_result"
    }
   ],
   "source": [
    "df_clean['Altitude'].unique()"
   ]
  },
  {
   "cell_type": "code",
   "execution_count": 93,
   "metadata": {},
   "outputs": [
    {
     "data": {
      "text/html": [
       "<div>\n",
       "<style scoped>\n",
       "    .dataframe tbody tr th:only-of-type {\n",
       "        vertical-align: middle;\n",
       "    }\n",
       "\n",
       "    .dataframe tbody tr th {\n",
       "        vertical-align: top;\n",
       "    }\n",
       "\n",
       "    .dataframe thead th {\n",
       "        text-align: right;\n",
       "    }\n",
       "</style>\n",
       "<table border=\"1\" class=\"dataframe\">\n",
       "  <thead>\n",
       "    <tr style=\"text-align: right;\">\n",
       "      <th></th>\n",
       "      <th>Country of Origin</th>\n",
       "      <th>Farm Name</th>\n",
       "      <th>Company</th>\n",
       "      <th>Altitude</th>\n",
       "      <th>Region</th>\n",
       "      <th>Harvest Year</th>\n",
       "      <th>Variety</th>\n",
       "      <th>Status</th>\n",
       "      <th>Processing Method</th>\n",
       "      <th>Aroma</th>\n",
       "      <th>...</th>\n",
       "      <th>Clean Cup</th>\n",
       "      <th>Sweetness</th>\n",
       "      <th>Overall</th>\n",
       "      <th>Defects</th>\n",
       "      <th>Total Cup Points</th>\n",
       "      <th>Moisture Percentage</th>\n",
       "      <th>Category One Defects</th>\n",
       "      <th>Quakers</th>\n",
       "      <th>Color</th>\n",
       "      <th>Category Two Defects</th>\n",
       "    </tr>\n",
       "  </thead>\n",
       "  <tbody>\n",
       "    <tr>\n",
       "      <th>105</th>\n",
       "      <td>Colombia</td>\n",
       "      <td>NaN</td>\n",
       "      <td>Coffee Quality Institute</td>\n",
       "      <td>NaN</td>\n",
       "      <td>NaN</td>\n",
       "      <td>2022</td>\n",
       "      <td>NaN</td>\n",
       "      <td>Completed</td>\n",
       "      <td>NaN</td>\n",
       "      <td>7.83</td>\n",
       "      <td>...</td>\n",
       "      <td>10.0</td>\n",
       "      <td>10.0</td>\n",
       "      <td>7.67</td>\n",
       "      <td>0.0</td>\n",
       "      <td>83.67</td>\n",
       "      <td>12.4</td>\n",
       "      <td>1</td>\n",
       "      <td>0</td>\n",
       "      <td>greenish</td>\n",
       "      <td>9</td>\n",
       "    </tr>\n",
       "  </tbody>\n",
       "</table>\n",
       "<p>1 rows × 26 columns</p>\n",
       "</div>"
      ],
      "text/plain": [
       "    Country of Origin Farm Name                   Company Altitude Region  \\\n",
       "105          Colombia       NaN  Coffee Quality Institute      NaN    NaN   \n",
       "\n",
       "    Harvest Year Variety     Status Processing Method  Aroma  ...  Clean Cup  \\\n",
       "105         2022     NaN  Completed               NaN   7.83  ...       10.0   \n",
       "\n",
       "     Sweetness  Overall  Defects  Total Cup Points  Moisture Percentage  \\\n",
       "105       10.0     7.67      0.0             83.67                 12.4   \n",
       "\n",
       "     Category One Defects  Quakers     Color  Category Two Defects  \n",
       "105                     1        0  greenish                     9  \n",
       "\n",
       "[1 rows x 26 columns]"
      ]
     },
     "execution_count": 93,
     "metadata": {},
     "output_type": "execute_result"
    }
   ],
   "source": [
    "null_entries = df_clean['Altitude'].isnull()\n",
    "df_null = df_clean[null_entries]\n",
    "\n",
    "df_null"
   ]
  },
  {
   "cell_type": "code",
   "execution_count": 94,
   "metadata": {},
   "outputs": [],
   "source": [
    "def clean_altitude_value(range_value):\n",
    "   if isinstance(range_value, str):\n",
    "         range_value = range_value.replace(\" \", \"\")\n",
    "         range_value = range_value.replace(\"~\", \"-\")\n",
    "         if '-' in range_value:\n",
    "            try:\n",
    "               start, end = range_value.split('-')\n",
    "               start = int(start)\n",
    "               end = int(end)\n",
    "               return (start + end) / 2\n",
    "            except ValueError:\n",
    "               return np.nan\n",
    "         else:\n",
    "            try:\n",
    "               return int(range_value)\n",
    "            except ValueError:\n",
    "               return np.nan\n",
    "   else:\n",
    "         return range_value"
   ]
  },
  {
   "cell_type": "code",
   "execution_count": 95,
   "metadata": {},
   "outputs": [],
   "source": [
    "df_clean['Altitude'] = df_clean['Altitude'].apply(clean_altitude_value)"
   ]
  },
  {
   "cell_type": "code",
   "execution_count": 96,
   "metadata": {},
   "outputs": [
    {
     "name": "stdout",
     "output_type": "stream",
     "text": [
      "<class 'pandas.core.series.Series'>\n",
      "RangeIndex: 207 entries, 0 to 206\n",
      "Series name: Altitude\n",
      "Non-Null Count  Dtype  \n",
      "--------------  -----  \n",
      "205 non-null    float64\n",
      "dtypes: float64(1)\n",
      "memory usage: 1.7 KB\n"
     ]
    }
   ],
   "source": [
    "df_clean['Altitude'].info()"
   ]
  },
  {
   "cell_type": "code",
   "execution_count": 97,
   "metadata": {},
   "outputs": [
    {
     "data": {
      "text/plain": [
       "array(['2021 / 2022', '2022', '2022 / 2023', '2021', '2017 / 2018',\n",
       "       '2018 / 2019', '2023'], dtype=object)"
      ]
     },
     "execution_count": 97,
     "metadata": {},
     "output_type": "execute_result"
    }
   ],
   "source": [
    "df_clean['Harvest Year'].unique()"
   ]
  },
  {
   "cell_type": "code",
   "execution_count": 98,
   "metadata": {},
   "outputs": [
    {
     "name": "stderr",
     "output_type": "stream",
     "text": [
      "C:\\Users\\bruno\\AppData\\Local\\Temp\\ipykernel_16772\\3609895753.py:3: FutureWarning:\n",
      "\n",
      "A value is trying to be set on a copy of a DataFrame or Series through chained assignment using an inplace method.\n",
      "The behavior will change in pandas 3.0. This inplace method will never work because the intermediate object on which we are setting values always behaves as a copy.\n",
      "\n",
      "For example, when doing 'df[col].method(value, inplace=True)', try using 'df.method({col: value}, inplace=True)' or df[col] = df[col].method(value) instead, to perform the operation inplace on the original object.\n",
      "\n",
      "\n",
      "\n"
     ]
    },
    {
     "data": {
      "text/html": [
       "<div>\n",
       "<style scoped>\n",
       "    .dataframe tbody tr th:only-of-type {\n",
       "        vertical-align: middle;\n",
       "    }\n",
       "\n",
       "    .dataframe tbody tr th {\n",
       "        vertical-align: top;\n",
       "    }\n",
       "\n",
       "    .dataframe thead th {\n",
       "        text-align: right;\n",
       "    }\n",
       "</style>\n",
       "<table border=\"1\" class=\"dataframe\">\n",
       "  <thead>\n",
       "    <tr style=\"text-align: right;\">\n",
       "      <th></th>\n",
       "      <th>Country of Origin</th>\n",
       "      <th>Farm Name</th>\n",
       "      <th>Company</th>\n",
       "      <th>Altitude</th>\n",
       "      <th>Region</th>\n",
       "      <th>Variety</th>\n",
       "      <th>Status</th>\n",
       "      <th>Processing Method</th>\n",
       "      <th>Aroma</th>\n",
       "      <th>Flavor</th>\n",
       "      <th>...</th>\n",
       "      <th>Overall</th>\n",
       "      <th>Defects</th>\n",
       "      <th>Total Cup Points</th>\n",
       "      <th>Moisture Percentage</th>\n",
       "      <th>Category One Defects</th>\n",
       "      <th>Quakers</th>\n",
       "      <th>Color</th>\n",
       "      <th>Category Two Defects</th>\n",
       "      <th>Initial Harvest Year</th>\n",
       "      <th>Final Harvest Year</th>\n",
       "    </tr>\n",
       "  </thead>\n",
       "  <tbody>\n",
       "    <tr>\n",
       "      <th>0</th>\n",
       "      <td>Colombia</td>\n",
       "      <td>Finca El Paraiso</td>\n",
       "      <td>Coffee Quality Union</td>\n",
       "      <td>1815.0</td>\n",
       "      <td>Piendamo,Cauca</td>\n",
       "      <td>Castillo</td>\n",
       "      <td>Completed</td>\n",
       "      <td>Double Anaerobic Washed</td>\n",
       "      <td>8.58</td>\n",
       "      <td>8.50</td>\n",
       "      <td>...</td>\n",
       "      <td>8.58</td>\n",
       "      <td>0.0</td>\n",
       "      <td>89.33</td>\n",
       "      <td>11.8</td>\n",
       "      <td>0</td>\n",
       "      <td>0</td>\n",
       "      <td>green</td>\n",
       "      <td>3</td>\n",
       "      <td>2021</td>\n",
       "      <td>2022</td>\n",
       "    </tr>\n",
       "    <tr>\n",
       "      <th>1</th>\n",
       "      <td>Taiwan</td>\n",
       "      <td>Royal Bean Geisha Estate</td>\n",
       "      <td>Taiwan Coffee Laboratory</td>\n",
       "      <td>1200.0</td>\n",
       "      <td>Chiayi</td>\n",
       "      <td>Gesha</td>\n",
       "      <td>Completed</td>\n",
       "      <td>Washed / Wet</td>\n",
       "      <td>8.50</td>\n",
       "      <td>8.50</td>\n",
       "      <td>...</td>\n",
       "      <td>8.50</td>\n",
       "      <td>0.0</td>\n",
       "      <td>87.58</td>\n",
       "      <td>10.5</td>\n",
       "      <td>0</td>\n",
       "      <td>0</td>\n",
       "      <td>blue-green</td>\n",
       "      <td>0</td>\n",
       "      <td>2021</td>\n",
       "      <td>2022</td>\n",
       "    </tr>\n",
       "    <tr>\n",
       "      <th>2</th>\n",
       "      <td>Laos</td>\n",
       "      <td>OKLAO coffee farms</td>\n",
       "      <td>Taiwan Coffee Laboratory</td>\n",
       "      <td>1300.0</td>\n",
       "      <td>Laos Borofen Plateau</td>\n",
       "      <td>Java</td>\n",
       "      <td>Completed</td>\n",
       "      <td>Semi Washed</td>\n",
       "      <td>8.33</td>\n",
       "      <td>8.42</td>\n",
       "      <td>...</td>\n",
       "      <td>8.33</td>\n",
       "      <td>0.0</td>\n",
       "      <td>87.42</td>\n",
       "      <td>10.4</td>\n",
       "      <td>0</td>\n",
       "      <td>0</td>\n",
       "      <td>yellowish</td>\n",
       "      <td>2</td>\n",
       "      <td>2021</td>\n",
       "      <td>2022</td>\n",
       "    </tr>\n",
       "    <tr>\n",
       "      <th>3</th>\n",
       "      <td>Costa Rica</td>\n",
       "      <td>La Cumbre</td>\n",
       "      <td>Coffee Quality Union</td>\n",
       "      <td>1900.0</td>\n",
       "      <td>Los Santos,Tarrazu</td>\n",
       "      <td>Gesha</td>\n",
       "      <td>Completed</td>\n",
       "      <td>Washed / Wet</td>\n",
       "      <td>8.08</td>\n",
       "      <td>8.17</td>\n",
       "      <td>...</td>\n",
       "      <td>8.25</td>\n",
       "      <td>0.0</td>\n",
       "      <td>87.17</td>\n",
       "      <td>11.8</td>\n",
       "      <td>0</td>\n",
       "      <td>0</td>\n",
       "      <td>green</td>\n",
       "      <td>0</td>\n",
       "      <td>2022</td>\n",
       "      <td>2022</td>\n",
       "    </tr>\n",
       "    <tr>\n",
       "      <th>4</th>\n",
       "      <td>Colombia</td>\n",
       "      <td>Finca Santuario</td>\n",
       "      <td>Coffee Quality Union</td>\n",
       "      <td>1975.0</td>\n",
       "      <td>Popayan,Cauca</td>\n",
       "      <td>Red Bourbon</td>\n",
       "      <td>Completed</td>\n",
       "      <td>Honey,Mossto</td>\n",
       "      <td>8.33</td>\n",
       "      <td>8.33</td>\n",
       "      <td>...</td>\n",
       "      <td>8.25</td>\n",
       "      <td>0.0</td>\n",
       "      <td>87.08</td>\n",
       "      <td>11.6</td>\n",
       "      <td>0</td>\n",
       "      <td>2</td>\n",
       "      <td>yellow-green</td>\n",
       "      <td>2</td>\n",
       "      <td>2022</td>\n",
       "      <td>2022</td>\n",
       "    </tr>\n",
       "    <tr>\n",
       "      <th>5</th>\n",
       "      <td>Guatemala</td>\n",
       "      <td>La Colina</td>\n",
       "      <td>Taiwan Coffee Laboratory</td>\n",
       "      <td>1668.0</td>\n",
       "      <td>Chimaltenango</td>\n",
       "      <td>Gesha</td>\n",
       "      <td>Completed</td>\n",
       "      <td>Washed / Wet</td>\n",
       "      <td>8.33</td>\n",
       "      <td>8.33</td>\n",
       "      <td>...</td>\n",
       "      <td>8.25</td>\n",
       "      <td>0.0</td>\n",
       "      <td>87.00</td>\n",
       "      <td>10.7</td>\n",
       "      <td>0</td>\n",
       "      <td>0</td>\n",
       "      <td>green</td>\n",
       "      <td>2</td>\n",
       "      <td>2022</td>\n",
       "      <td>2022</td>\n",
       "    </tr>\n",
       "    <tr>\n",
       "      <th>6</th>\n",
       "      <td>Taiwan</td>\n",
       "      <td>野牡丹咖啡莊園 Melastoma Coffee Estate</td>\n",
       "      <td>Taiwan Coffee Laboratory</td>\n",
       "      <td>1250.0</td>\n",
       "      <td>Chiayi</td>\n",
       "      <td>Gesha</td>\n",
       "      <td>Completed</td>\n",
       "      <td>Washed / Wet</td>\n",
       "      <td>8.33</td>\n",
       "      <td>8.17</td>\n",
       "      <td>...</td>\n",
       "      <td>8.25</td>\n",
       "      <td>0.0</td>\n",
       "      <td>86.92</td>\n",
       "      <td>9.1</td>\n",
       "      <td>0</td>\n",
       "      <td>0</td>\n",
       "      <td>green</td>\n",
       "      <td>0</td>\n",
       "      <td>2021</td>\n",
       "      <td>2022</td>\n",
       "    </tr>\n",
       "    <tr>\n",
       "      <th>7</th>\n",
       "      <td>Taiwan</td>\n",
       "      <td>七彩琉璃咖啡莊園 Chi Tsai Liu Li Ecological Farm</td>\n",
       "      <td>Taiwan Coffee Laboratory</td>\n",
       "      <td>1200.0</td>\n",
       "      <td>Chiayi</td>\n",
       "      <td>Sl34+Gesha</td>\n",
       "      <td>Completed</td>\n",
       "      <td>Natural / Dry</td>\n",
       "      <td>8.25</td>\n",
       "      <td>8.25</td>\n",
       "      <td>...</td>\n",
       "      <td>8.08</td>\n",
       "      <td>0.0</td>\n",
       "      <td>86.75</td>\n",
       "      <td>10.0</td>\n",
       "      <td>0</td>\n",
       "      <td>0</td>\n",
       "      <td>yellow green</td>\n",
       "      <td>1</td>\n",
       "      <td>2021</td>\n",
       "      <td>2022</td>\n",
       "    </tr>\n",
       "    <tr>\n",
       "      <th>8</th>\n",
       "      <td>Taiwan</td>\n",
       "      <td>亮軒咖啡莊園 Liang Xuan Coffee Farm</td>\n",
       "      <td>Taiwan Coffee Laboratory</td>\n",
       "      <td>1250.0</td>\n",
       "      <td>Chiayi</td>\n",
       "      <td>SL34</td>\n",
       "      <td>Completed</td>\n",
       "      <td>Washed / Wet</td>\n",
       "      <td>8.08</td>\n",
       "      <td>8.08</td>\n",
       "      <td>...</td>\n",
       "      <td>8.25</td>\n",
       "      <td>0.0</td>\n",
       "      <td>86.67</td>\n",
       "      <td>10.8</td>\n",
       "      <td>0</td>\n",
       "      <td>0</td>\n",
       "      <td>greenish</td>\n",
       "      <td>0</td>\n",
       "      <td>2021</td>\n",
       "      <td>2022</td>\n",
       "    </tr>\n",
       "    <tr>\n",
       "      <th>9</th>\n",
       "      <td>Tanzania, United Republic Of</td>\n",
       "      <td>MASHIMA AMCOS</td>\n",
       "      <td>DORMAN (T) LIMITED</td>\n",
       "      <td>1550.0</td>\n",
       "      <td>KILIMANJARO</td>\n",
       "      <td>Bourbon</td>\n",
       "      <td>Completed</td>\n",
       "      <td>Washed / Wet</td>\n",
       "      <td>8.08</td>\n",
       "      <td>8.17</td>\n",
       "      <td>...</td>\n",
       "      <td>8.00</td>\n",
       "      <td>0.0</td>\n",
       "      <td>86.50</td>\n",
       "      <td>11.0</td>\n",
       "      <td>0</td>\n",
       "      <td>0</td>\n",
       "      <td>greenish</td>\n",
       "      <td>0</td>\n",
       "      <td>2022</td>\n",
       "      <td>2023</td>\n",
       "    </tr>\n",
       "    <tr>\n",
       "      <th>10</th>\n",
       "      <td>Ethiopia</td>\n",
       "      <td>TADE GG</td>\n",
       "      <td>Marubeni corp.,</td>\n",
       "      <td>2000.0</td>\n",
       "      <td>Guji</td>\n",
       "      <td>Ethiopian Heirlooms</td>\n",
       "      <td>Completed</td>\n",
       "      <td>Natural / Dry</td>\n",
       "      <td>8.08</td>\n",
       "      <td>8.25</td>\n",
       "      <td>...</td>\n",
       "      <td>8.00</td>\n",
       "      <td>0.0</td>\n",
       "      <td>86.25</td>\n",
       "      <td>11.8</td>\n",
       "      <td>0</td>\n",
       "      <td>1</td>\n",
       "      <td>greenish</td>\n",
       "      <td>1</td>\n",
       "      <td>2021</td>\n",
       "      <td>2022</td>\n",
       "    </tr>\n",
       "    <tr>\n",
       "      <th>11</th>\n",
       "      <td>Guatemala</td>\n",
       "      <td>Karen Acajabon Coffee Farm</td>\n",
       "      <td>Taiwan Coffee Laboratory</td>\n",
       "      <td>2000.0</td>\n",
       "      <td>Acatenango</td>\n",
       "      <td>Gesha</td>\n",
       "      <td>Completed</td>\n",
       "      <td>Natural / Dry</td>\n",
       "      <td>8.08</td>\n",
       "      <td>8.00</td>\n",
       "      <td>...</td>\n",
       "      <td>8.00</td>\n",
       "      <td>0.0</td>\n",
       "      <td>86.25</td>\n",
       "      <td>11.5</td>\n",
       "      <td>0</td>\n",
       "      <td>0</td>\n",
       "      <td>brownish</td>\n",
       "      <td>1</td>\n",
       "      <td>2021</td>\n",
       "      <td>2021</td>\n",
       "    </tr>\n",
       "    <tr>\n",
       "      <th>12</th>\n",
       "      <td>Taiwan</td>\n",
       "      <td>古峰咖啡莊園 Goodfun Coffee Farm</td>\n",
       "      <td>Taiwan Coffee Laboratory</td>\n",
       "      <td>1250.0</td>\n",
       "      <td>Yunlin</td>\n",
       "      <td>Gesha</td>\n",
       "      <td>Completed</td>\n",
       "      <td>Washed / Wet</td>\n",
       "      <td>8.08</td>\n",
       "      <td>8.00</td>\n",
       "      <td>...</td>\n",
       "      <td>8.00</td>\n",
       "      <td>0.0</td>\n",
       "      <td>86.25</td>\n",
       "      <td>11.9</td>\n",
       "      <td>0</td>\n",
       "      <td>0</td>\n",
       "      <td>green</td>\n",
       "      <td>0</td>\n",
       "      <td>2021</td>\n",
       "      <td>2022</td>\n",
       "    </tr>\n",
       "    <tr>\n",
       "      <th>13</th>\n",
       "      <td>Ethiopia</td>\n",
       "      <td>Gelana Geisha</td>\n",
       "      <td>Kerchanshe Trading PLC</td>\n",
       "      <td>1950.0</td>\n",
       "      <td>Guji</td>\n",
       "      <td>Gesha</td>\n",
       "      <td>Completed</td>\n",
       "      <td>Natural / Dry</td>\n",
       "      <td>7.67</td>\n",
       "      <td>8.17</td>\n",
       "      <td>...</td>\n",
       "      <td>8.00</td>\n",
       "      <td>0.0</td>\n",
       "      <td>86.17</td>\n",
       "      <td>11.6</td>\n",
       "      <td>0</td>\n",
       "      <td>3</td>\n",
       "      <td>yellow- green</td>\n",
       "      <td>2</td>\n",
       "      <td>2021</td>\n",
       "      <td>2022</td>\n",
       "    </tr>\n",
       "    <tr>\n",
       "      <th>14</th>\n",
       "      <td>Colombia</td>\n",
       "      <td>La Gaitania</td>\n",
       "      <td>Taiwan Coffee Laboratory</td>\n",
       "      <td>1850.0</td>\n",
       "      <td>tolima</td>\n",
       "      <td>Caturra</td>\n",
       "      <td>Completed</td>\n",
       "      <td>Washed / Wet</td>\n",
       "      <td>8.08</td>\n",
       "      <td>8.00</td>\n",
       "      <td>...</td>\n",
       "      <td>8.00</td>\n",
       "      <td>0.0</td>\n",
       "      <td>86.17</td>\n",
       "      <td>10.6</td>\n",
       "      <td>0</td>\n",
       "      <td>0</td>\n",
       "      <td>green</td>\n",
       "      <td>0</td>\n",
       "      <td>2021</td>\n",
       "      <td>2022</td>\n",
       "    </tr>\n",
       "  </tbody>\n",
       "</table>\n",
       "<p>15 rows × 27 columns</p>\n",
       "</div>"
      ],
      "text/plain": [
       "               Country of Origin                                 Farm Name  \\\n",
       "0                       Colombia                          Finca El Paraiso   \n",
       "1                         Taiwan                  Royal Bean Geisha Estate   \n",
       "2                           Laos                        OKLAO coffee farms   \n",
       "3                     Costa Rica                                 La Cumbre   \n",
       "4                       Colombia                           Finca Santuario   \n",
       "5                      Guatemala                                 La Colina   \n",
       "6                         Taiwan           野牡丹咖啡莊園 Melastoma Coffee Estate   \n",
       "7                         Taiwan  七彩琉璃咖啡莊園 Chi Tsai Liu Li Ecological Farm   \n",
       "8                         Taiwan             亮軒咖啡莊園 Liang Xuan Coffee Farm   \n",
       "9   Tanzania, United Republic Of                             MASHIMA AMCOS   \n",
       "10                      Ethiopia                                   TADE GG   \n",
       "11                     Guatemala                Karen Acajabon Coffee Farm   \n",
       "12                        Taiwan                古峰咖啡莊園 Goodfun Coffee Farm   \n",
       "13                      Ethiopia                             Gelana Geisha   \n",
       "14                      Colombia                               La Gaitania   \n",
       "\n",
       "                     Company  Altitude                Region  \\\n",
       "0       Coffee Quality Union    1815.0        Piendamo,Cauca   \n",
       "1   Taiwan Coffee Laboratory    1200.0                Chiayi   \n",
       "2   Taiwan Coffee Laboratory    1300.0  Laos Borofen Plateau   \n",
       "3       Coffee Quality Union    1900.0    Los Santos,Tarrazu   \n",
       "4       Coffee Quality Union    1975.0         Popayan,Cauca   \n",
       "5   Taiwan Coffee Laboratory    1668.0         Chimaltenango   \n",
       "6   Taiwan Coffee Laboratory    1250.0                Chiayi   \n",
       "7   Taiwan Coffee Laboratory    1200.0                Chiayi   \n",
       "8   Taiwan Coffee Laboratory    1250.0                Chiayi   \n",
       "9         DORMAN (T) LIMITED    1550.0           KILIMANJARO   \n",
       "10           Marubeni corp.,    2000.0                  Guji   \n",
       "11  Taiwan Coffee Laboratory    2000.0            Acatenango   \n",
       "12  Taiwan Coffee Laboratory    1250.0                Yunlin   \n",
       "13    Kerchanshe Trading PLC    1950.0                  Guji   \n",
       "14  Taiwan Coffee Laboratory    1850.0                tolima   \n",
       "\n",
       "                Variety     Status        Processing Method  Aroma  Flavor  \\\n",
       "0              Castillo  Completed  Double Anaerobic Washed   8.58    8.50   \n",
       "1                 Gesha  Completed             Washed / Wet   8.50    8.50   \n",
       "2                  Java  Completed              Semi Washed   8.33    8.42   \n",
       "3                 Gesha  Completed             Washed / Wet   8.08    8.17   \n",
       "4           Red Bourbon  Completed             Honey,Mossto   8.33    8.33   \n",
       "5                 Gesha  Completed             Washed / Wet   8.33    8.33   \n",
       "6                 Gesha  Completed             Washed / Wet   8.33    8.17   \n",
       "7            Sl34+Gesha  Completed            Natural / Dry   8.25    8.25   \n",
       "8                  SL34  Completed             Washed / Wet   8.08    8.08   \n",
       "9               Bourbon  Completed             Washed / Wet   8.08    8.17   \n",
       "10  Ethiopian Heirlooms  Completed            Natural / Dry   8.08    8.25   \n",
       "11                Gesha  Completed            Natural / Dry   8.08    8.00   \n",
       "12                Gesha  Completed             Washed / Wet   8.08    8.00   \n",
       "13                Gesha  Completed            Natural / Dry   7.67    8.17   \n",
       "14              Caturra  Completed             Washed / Wet   8.08    8.00   \n",
       "\n",
       "    ...  Overall  Defects  Total Cup Points  Moisture Percentage  \\\n",
       "0   ...     8.58      0.0             89.33                 11.8   \n",
       "1   ...     8.50      0.0             87.58                 10.5   \n",
       "2   ...     8.33      0.0             87.42                 10.4   \n",
       "3   ...     8.25      0.0             87.17                 11.8   \n",
       "4   ...     8.25      0.0             87.08                 11.6   \n",
       "5   ...     8.25      0.0             87.00                 10.7   \n",
       "6   ...     8.25      0.0             86.92                  9.1   \n",
       "7   ...     8.08      0.0             86.75                 10.0   \n",
       "8   ...     8.25      0.0             86.67                 10.8   \n",
       "9   ...     8.00      0.0             86.50                 11.0   \n",
       "10  ...     8.00      0.0             86.25                 11.8   \n",
       "11  ...     8.00      0.0             86.25                 11.5   \n",
       "12  ...     8.00      0.0             86.25                 11.9   \n",
       "13  ...     8.00      0.0             86.17                 11.6   \n",
       "14  ...     8.00      0.0             86.17                 10.6   \n",
       "\n",
       "    Category One Defects  Quakers          Color  Category Two Defects  \\\n",
       "0                      0        0          green                     3   \n",
       "1                      0        0     blue-green                     0   \n",
       "2                      0        0      yellowish                     2   \n",
       "3                      0        0          green                     0   \n",
       "4                      0        2   yellow-green                     2   \n",
       "5                      0        0          green                     2   \n",
       "6                      0        0          green                     0   \n",
       "7                      0        0   yellow green                     1   \n",
       "8                      0        0       greenish                     0   \n",
       "9                      0        0       greenish                     0   \n",
       "10                     0        1       greenish                     1   \n",
       "11                     0        0       brownish                     1   \n",
       "12                     0        0          green                     0   \n",
       "13                     0        3  yellow- green                     2   \n",
       "14                     0        0          green                     0   \n",
       "\n",
       "    Initial Harvest Year  Final Harvest Year  \n",
       "0                   2021                2022  \n",
       "1                   2021                2022  \n",
       "2                   2021                2022  \n",
       "3                   2022                2022  \n",
       "4                   2022                2022  \n",
       "5                   2022                2022  \n",
       "6                   2021                2022  \n",
       "7                   2021                2022  \n",
       "8                   2021                2022  \n",
       "9                   2022                2023  \n",
       "10                  2021                2022  \n",
       "11                  2021                2021  \n",
       "12                  2021                2022  \n",
       "13                  2021                2022  \n",
       "14                  2021                2022  \n",
       "\n",
       "[15 rows x 27 columns]"
      ]
     },
     "execution_count": 98,
     "metadata": {},
     "output_type": "execute_result"
    }
   ],
   "source": [
    "df_clean[['Initial Harvest Year', 'Final Harvest Year']] = df_clean['Harvest Year'].str.split('/', expand=True)\n",
    "\n",
    "df_clean['Final Harvest Year'].fillna(df_clean['Initial Harvest Year'], inplace=True)\n",
    "\n",
    "df_clean['Initial Harvest Year'] = df_clean['Initial Harvest Year'].str.replace(r'\\D', '', regex=True).astype('int')\n",
    "df_clean['Final Harvest Year'] = df_clean['Final Harvest Year'].str.replace(r'\\D', '', regex=True).astype('int')\n",
    "\n",
    "df_clean.drop(columns='Harvest Year', inplace=True)\n",
    "\n",
    "df_clean.head(15)"
   ]
  },
  {
   "cell_type": "code",
   "execution_count": 99,
   "metadata": {},
   "outputs": [
    {
     "data": {
      "text/plain": [
       "array(['Double Anaerobic Washed', 'Washed / Wet', 'Semi Washed',\n",
       "       'Honey,Mossto', 'Natural / Dry', 'Pulped natural / honey', nan,\n",
       "       'Double Carbonic Maceration / Natural', 'Wet Hulling',\n",
       "       'Anaerobico 1000h', 'SEMI-LAVADO'], dtype=object)"
      ]
     },
     "execution_count": 99,
     "metadata": {},
     "output_type": "execute_result"
    }
   ],
   "source": [
    "df_clean['Processing Method'].unique()"
   ]
  },
  {
   "cell_type": "code",
   "execution_count": 100,
   "metadata": {},
   "outputs": [
    {
     "name": "stdout",
     "output_type": "stream",
     "text": [
      "<class 'pandas.core.series.Series'>\n",
      "RangeIndex: 207 entries, 0 to 206\n",
      "Series name: Processing Method\n",
      "Non-Null Count  Dtype \n",
      "--------------  ----- \n",
      "202 non-null    object\n",
      "dtypes: object(1)\n",
      "memory usage: 1.7+ KB\n"
     ]
    }
   ],
   "source": [
    "df_clean['Processing Method'].info()"
   ]
  },
  {
   "cell_type": "code",
   "execution_count": 101,
   "metadata": {},
   "outputs": [
    {
     "data": {
      "text/html": [
       "<div>\n",
       "<style scoped>\n",
       "    .dataframe tbody tr th:only-of-type {\n",
       "        vertical-align: middle;\n",
       "    }\n",
       "\n",
       "    .dataframe tbody tr th {\n",
       "        vertical-align: top;\n",
       "    }\n",
       "\n",
       "    .dataframe thead th {\n",
       "        text-align: right;\n",
       "    }\n",
       "</style>\n",
       "<table border=\"1\" class=\"dataframe\">\n",
       "  <thead>\n",
       "    <tr style=\"text-align: right;\">\n",
       "      <th></th>\n",
       "      <th>Country of Origin</th>\n",
       "      <th>Farm Name</th>\n",
       "      <th>Company</th>\n",
       "      <th>Altitude</th>\n",
       "      <th>Region</th>\n",
       "      <th>Variety</th>\n",
       "      <th>Status</th>\n",
       "      <th>Processing Method</th>\n",
       "      <th>Aroma</th>\n",
       "      <th>Flavor</th>\n",
       "      <th>...</th>\n",
       "      <th>Overall</th>\n",
       "      <th>Defects</th>\n",
       "      <th>Total Cup Points</th>\n",
       "      <th>Moisture Percentage</th>\n",
       "      <th>Category One Defects</th>\n",
       "      <th>Quakers</th>\n",
       "      <th>Color</th>\n",
       "      <th>Category Two Defects</th>\n",
       "      <th>Initial Harvest Year</th>\n",
       "      <th>Final Harvest Year</th>\n",
       "    </tr>\n",
       "  </thead>\n",
       "  <tbody>\n",
       "    <tr>\n",
       "      <th>23</th>\n",
       "      <td>Colombia</td>\n",
       "      <td>El Diamante</td>\n",
       "      <td>Coffee Quality Union</td>\n",
       "      <td>1350.0</td>\n",
       "      <td>Quindio</td>\n",
       "      <td>Castillo Paraguaycito</td>\n",
       "      <td>Completed</td>\n",
       "      <td>NaN</td>\n",
       "      <td>8.08</td>\n",
       "      <td>8.00</td>\n",
       "      <td>...</td>\n",
       "      <td>8.00</td>\n",
       "      <td>0.0</td>\n",
       "      <td>85.67</td>\n",
       "      <td>11.3</td>\n",
       "      <td>0</td>\n",
       "      <td>0</td>\n",
       "      <td>brownish</td>\n",
       "      <td>2</td>\n",
       "      <td>2022</td>\n",
       "      <td>2022</td>\n",
       "    </tr>\n",
       "    <tr>\n",
       "      <th>44</th>\n",
       "      <td>Taiwan</td>\n",
       "      <td>愛姬咖啡莊園iGfarm</td>\n",
       "      <td>Taiwan Coffee Laboratory</td>\n",
       "      <td>150.0</td>\n",
       "      <td>壽豐鄉Shoufeng Township</td>\n",
       "      <td>Typica</td>\n",
       "      <td>Completed</td>\n",
       "      <td>NaN</td>\n",
       "      <td>7.92</td>\n",
       "      <td>8.00</td>\n",
       "      <td>...</td>\n",
       "      <td>7.83</td>\n",
       "      <td>0.0</td>\n",
       "      <td>85.00</td>\n",
       "      <td>10.9</td>\n",
       "      <td>0</td>\n",
       "      <td>0</td>\n",
       "      <td>green</td>\n",
       "      <td>0</td>\n",
       "      <td>2021</td>\n",
       "      <td>2022</td>\n",
       "    </tr>\n",
       "    <tr>\n",
       "      <th>51</th>\n",
       "      <td>Indonesia</td>\n",
       "      <td>PT Indo CafCo North Sumatera</td>\n",
       "      <td>InterAmerican Coffee</td>\n",
       "      <td>1200.0</td>\n",
       "      <td>Aceh Tengah</td>\n",
       "      <td>Catimor</td>\n",
       "      <td>Completed</td>\n",
       "      <td>NaN</td>\n",
       "      <td>7.83</td>\n",
       "      <td>7.92</td>\n",
       "      <td>...</td>\n",
       "      <td>7.83</td>\n",
       "      <td>0.0</td>\n",
       "      <td>84.83</td>\n",
       "      <td>11.9</td>\n",
       "      <td>0</td>\n",
       "      <td>3</td>\n",
       "      <td>bluish-green</td>\n",
       "      <td>2</td>\n",
       "      <td>2022</td>\n",
       "      <td>2022</td>\n",
       "    </tr>\n",
       "    <tr>\n",
       "      <th>105</th>\n",
       "      <td>Colombia</td>\n",
       "      <td>NaN</td>\n",
       "      <td>Coffee Quality Institute</td>\n",
       "      <td>NaN</td>\n",
       "      <td>NaN</td>\n",
       "      <td>NaN</td>\n",
       "      <td>Completed</td>\n",
       "      <td>NaN</td>\n",
       "      <td>7.83</td>\n",
       "      <td>7.75</td>\n",
       "      <td>...</td>\n",
       "      <td>7.67</td>\n",
       "      <td>0.0</td>\n",
       "      <td>83.67</td>\n",
       "      <td>12.4</td>\n",
       "      <td>1</td>\n",
       "      <td>0</td>\n",
       "      <td>greenish</td>\n",
       "      <td>9</td>\n",
       "      <td>2022</td>\n",
       "      <td>2022</td>\n",
       "    </tr>\n",
       "    <tr>\n",
       "      <th>143</th>\n",
       "      <td>Taiwan</td>\n",
       "      <td>嵩岳咖啡莊園</td>\n",
       "      <td>宸嶧國際有限公司</td>\n",
       "      <td>1200.0</td>\n",
       "      <td>Shibi, Gukeng Township, Yunlin County 郵遞區號 , T...</td>\n",
       "      <td>Gesha</td>\n",
       "      <td>Completed</td>\n",
       "      <td>NaN</td>\n",
       "      <td>7.67</td>\n",
       "      <td>7.50</td>\n",
       "      <td>...</td>\n",
       "      <td>7.58</td>\n",
       "      <td>0.0</td>\n",
       "      <td>82.92</td>\n",
       "      <td>10.2</td>\n",
       "      <td>0</td>\n",
       "      <td>0</td>\n",
       "      <td>yellow-green</td>\n",
       "      <td>0</td>\n",
       "      <td>2022</td>\n",
       "      <td>2022</td>\n",
       "    </tr>\n",
       "  </tbody>\n",
       "</table>\n",
       "<p>5 rows × 27 columns</p>\n",
       "</div>"
      ],
      "text/plain": [
       "    Country of Origin                     Farm Name                   Company  \\\n",
       "23           Colombia                   El Diamante      Coffee Quality Union   \n",
       "44             Taiwan                  愛姬咖啡莊園iGfarm  Taiwan Coffee Laboratory   \n",
       "51          Indonesia  PT Indo CafCo North Sumatera      InterAmerican Coffee   \n",
       "105          Colombia                           NaN  Coffee Quality Institute   \n",
       "143            Taiwan                        嵩岳咖啡莊園                  宸嶧國際有限公司   \n",
       "\n",
       "     Altitude                                             Region  \\\n",
       "23     1350.0                                            Quindio   \n",
       "44      150.0                               壽豐鄉Shoufeng Township   \n",
       "51     1200.0                                        Aceh Tengah   \n",
       "105       NaN                                                NaN   \n",
       "143    1200.0  Shibi, Gukeng Township, Yunlin County 郵遞區號 , T...   \n",
       "\n",
       "                   Variety     Status Processing Method  Aroma  Flavor  ...  \\\n",
       "23   Castillo Paraguaycito  Completed               NaN   8.08    8.00  ...   \n",
       "44                  Typica  Completed               NaN   7.92    8.00  ...   \n",
       "51                 Catimor  Completed               NaN   7.83    7.92  ...   \n",
       "105                    NaN  Completed               NaN   7.83    7.75  ...   \n",
       "143                  Gesha  Completed               NaN   7.67    7.50  ...   \n",
       "\n",
       "     Overall  Defects  Total Cup Points  Moisture Percentage  \\\n",
       "23      8.00      0.0             85.67                 11.3   \n",
       "44      7.83      0.0             85.00                 10.9   \n",
       "51      7.83      0.0             84.83                 11.9   \n",
       "105     7.67      0.0             83.67                 12.4   \n",
       "143     7.58      0.0             82.92                 10.2   \n",
       "\n",
       "     Category One Defects  Quakers         Color  Category Two Defects  \\\n",
       "23                      0        0      brownish                     2   \n",
       "44                      0        0         green                     0   \n",
       "51                      0        3  bluish-green                     2   \n",
       "105                     1        0      greenish                     9   \n",
       "143                     0        0  yellow-green                     0   \n",
       "\n",
       "     Initial Harvest Year  Final Harvest Year  \n",
       "23                   2022                2022  \n",
       "44                   2021                2022  \n",
       "51                   2022                2022  \n",
       "105                  2022                2022  \n",
       "143                  2022                2022  \n",
       "\n",
       "[5 rows x 27 columns]"
      ]
     },
     "execution_count": 101,
     "metadata": {},
     "output_type": "execute_result"
    }
   ],
   "source": [
    "null_entries = df_clean['Processing Method'].isnull()\n",
    "df_null = df_clean[null_entries]\n",
    "\n",
    "df_null"
   ]
  },
  {
   "cell_type": "code",
   "execution_count": 102,
   "metadata": {},
   "outputs": [
    {
     "data": {
      "text/plain": [
       "Processing Method\n",
       "Washed / Wet                            0.613861\n",
       "Natural / Dry                           0.227723\n",
       "Pulped natural / honey                  0.123762\n",
       "Double Anaerobic Washed                 0.004950\n",
       "Semi Washed                             0.004950\n",
       "Honey,Mossto                            0.004950\n",
       "Double Carbonic Maceration / Natural    0.004950\n",
       "Wet Hulling                             0.004950\n",
       "Anaerobico 1000h                        0.004950\n",
       "SEMI-LAVADO                             0.004950\n",
       "Name: proportion, dtype: float64"
      ]
     },
     "execution_count": 102,
     "metadata": {},
     "output_type": "execute_result"
    }
   ],
   "source": [
    "df_clean['Processing Method'].value_counts(normalize=True)"
   ]
  },
  {
   "cell_type": "code",
   "execution_count": 103,
   "metadata": {},
   "outputs": [
    {
     "name": "stderr",
     "output_type": "stream",
     "text": [
      "C:\\Users\\bruno\\AppData\\Local\\Temp\\ipykernel_16772\\3548553710.py:1: FutureWarning:\n",
      "\n",
      "A value is trying to be set on a copy of a DataFrame or Series through chained assignment using an inplace method.\n",
      "The behavior will change in pandas 3.0. This inplace method will never work because the intermediate object on which we are setting values always behaves as a copy.\n",
      "\n",
      "For example, when doing 'df[col].method(value, inplace=True)', try using 'df.method({col: value}, inplace=True)' or df[col] = df[col].method(value) instead, to perform the operation inplace on the original object.\n",
      "\n",
      "\n",
      "\n"
     ]
    },
    {
     "data": {
      "text/plain": [
       "Processing Method\n",
       "Washed / Wet              0.618357\n",
       "Natural / Dry             0.251208\n",
       "Pulped natural / Honey    0.130435\n",
       "Name: proportion, dtype: float64"
      ]
     },
     "execution_count": 103,
     "metadata": {},
     "output_type": "execute_result"
    }
   ],
   "source": [
    "df_clean['Processing Method'].fillna('None', inplace=True)\n",
    "\n",
    "df_clean['Processing Method'].replace(['SEMI-LAVADO', 'Semi Washed', 'Wet Hulling', 'Double Anaerobic Washed'], 'Washed / Wet', inplace=True)\n",
    "df_clean['Processing Method'].replace(['Double Carbonic Maceration / Natural', 'None'], 'Natural / Dry', inplace=True)\n",
    "df_clean['Processing Method'].replace(['Pulped natural / honey', 'Anaerobico 1000h', 'Honey,Mossto'], 'Pulped natural / Honey', inplace=True)\n",
    "\n",
    "df_clean['Processing Method'].value_counts(normalize=True)"
   ]
  },
  {
   "cell_type": "code",
   "execution_count": 104,
   "metadata": {},
   "outputs": [
    {
     "data": {
      "text/plain": [
       "array(['green', 'blue-green', 'yellowish', 'yellow-green', 'yellow green',\n",
       "       'greenish', 'brownish', 'yellow- green', 'browish-green',\n",
       "       'bluish-green', 'pale yellow', 'yello-green'], dtype=object)"
      ]
     },
     "execution_count": 104,
     "metadata": {},
     "output_type": "execute_result"
    }
   ],
   "source": [
    "df_clean['Color'].unique()"
   ]
  },
  {
   "cell_type": "code",
   "execution_count": 105,
   "metadata": {},
   "outputs": [
    {
     "data": {
      "text/plain": [
       "Color\n",
       "green            0.487923\n",
       "greenish         0.173913\n",
       "bluish-green     0.101449\n",
       "blue-green       0.057971\n",
       "yellow-green     0.048309\n",
       "brownish         0.043478\n",
       "pale yellow      0.028986\n",
       "yellow green     0.024155\n",
       "yellowish        0.019324\n",
       "yellow- green    0.004831\n",
       "browish-green    0.004831\n",
       "yello-green      0.004831\n",
       "Name: proportion, dtype: float64"
      ]
     },
     "execution_count": 105,
     "metadata": {},
     "output_type": "execute_result"
    }
   ],
   "source": [
    "df_clean['Color'].value_counts(normalize=True)"
   ]
  },
  {
   "cell_type": "code",
   "execution_count": 106,
   "metadata": {},
   "outputs": [
    {
     "name": "stderr",
     "output_type": "stream",
     "text": [
      "C:\\Users\\bruno\\AppData\\Local\\Temp\\ipykernel_16772\\4188160176.py:1: FutureWarning:\n",
      "\n",
      "A value is trying to be set on a copy of a DataFrame or Series through chained assignment using an inplace method.\n",
      "The behavior will change in pandas 3.0. This inplace method will never work because the intermediate object on which we are setting values always behaves as a copy.\n",
      "\n",
      "For example, when doing 'df[col].method(value, inplace=True)', try using 'df.method({col: value}, inplace=True)' or df[col] = df[col].method(value) instead, to perform the operation inplace on the original object.\n",
      "\n",
      "\n",
      "\n"
     ]
    },
    {
     "data": {
      "text/plain": [
       "Color\n",
       "green           0.487923\n",
       "greenish        0.173913\n",
       "bluish-green    0.159420\n",
       "yellow-green    0.101449\n",
       "brownish        0.048309\n",
       "pale yellow     0.028986\n",
       "Name: proportion, dtype: float64"
      ]
     },
     "execution_count": 106,
     "metadata": {},
     "output_type": "execute_result"
    }
   ],
   "source": [
    "df_clean['Color'].replace(['yello-green', 'yellow- green', 'yellow green', 'yellowish'], 'yellow-green', inplace=True)\n",
    "df_clean['Color'].replace(['browish-green'], 'brownish', inplace=True)\n",
    "df_clean['Color'].replace(['blue-green'], 'bluish-green', inplace=True)\n",
    "\n",
    "df_clean['Color'].value_counts(normalize=True)"
   ]
  },
  {
   "cell_type": "code",
   "execution_count": 107,
   "metadata": {},
   "outputs": [
    {
     "name": "stdout",
     "output_type": "stream",
     "text": [
      "<class 'pandas.core.frame.DataFrame'>\n",
      "RangeIndex: 207 entries, 0 to 206\n",
      "Data columns (total 27 columns):\n",
      " #   Column                Non-Null Count  Dtype  \n",
      "---  ------                --------------  -----  \n",
      " 0   Country of Origin     207 non-null    object \n",
      " 1   Farm Name             205 non-null    object \n",
      " 2   Company               207 non-null    object \n",
      " 3   Altitude              205 non-null    float64\n",
      " 4   Region                205 non-null    object \n",
      " 5   Variety               201 non-null    object \n",
      " 6   Status                207 non-null    object \n",
      " 7   Processing Method     207 non-null    object \n",
      " 8   Aroma                 207 non-null    float64\n",
      " 9   Flavor                207 non-null    float64\n",
      " 10  Aftertaste            207 non-null    float64\n",
      " 11  Acidity               207 non-null    float64\n",
      " 12  Body                  207 non-null    float64\n",
      " 13  Balance               207 non-null    float64\n",
      " 14  Uniformity            207 non-null    float64\n",
      " 15  Clean Cup             207 non-null    float64\n",
      " 16  Sweetness             207 non-null    float64\n",
      " 17  Overall               207 non-null    float64\n",
      " 18  Defects               207 non-null    float64\n",
      " 19  Total Cup Points      207 non-null    float64\n",
      " 20  Moisture Percentage   207 non-null    float64\n",
      " 21  Category One Defects  207 non-null    int64  \n",
      " 22  Quakers               207 non-null    int64  \n",
      " 23  Color                 207 non-null    object \n",
      " 24  Category Two Defects  207 non-null    int64  \n",
      " 25  Initial Harvest Year  207 non-null    int32  \n",
      " 26  Final Harvest Year    207 non-null    int32  \n",
      "dtypes: float64(14), int32(2), int64(3), object(8)\n",
      "memory usage: 42.2+ KB\n"
     ]
    }
   ],
   "source": [
    "df_clean.info()"
   ]
  },
  {
   "cell_type": "markdown",
   "metadata": {},
   "source": [
    "# 3. Visualizando e Levantando perguntas"
   ]
  },
  {
   "cell_type": "code",
   "execution_count": 108,
   "metadata": {},
   "outputs": [],
   "source": [
    "import matplotlib.pyplot as plt\n",
    "import seaborn as sns\n",
    "import plotly.express as px"
   ]
  },
  {
   "cell_type": "code",
   "execution_count": 109,
   "metadata": {},
   "outputs": [
    {
     "data": {
      "text/html": [
       "<div>\n",
       "<style scoped>\n",
       "    .dataframe tbody tr th:only-of-type {\n",
       "        vertical-align: middle;\n",
       "    }\n",
       "\n",
       "    .dataframe tbody tr th {\n",
       "        vertical-align: top;\n",
       "    }\n",
       "\n",
       "    .dataframe thead th {\n",
       "        text-align: right;\n",
       "    }\n",
       "</style>\n",
       "<table border=\"1\" class=\"dataframe\">\n",
       "  <thead>\n",
       "    <tr style=\"text-align: right;\">\n",
       "      <th></th>\n",
       "      <th>Country of Origin</th>\n",
       "      <th>Farm Name</th>\n",
       "      <th>Company</th>\n",
       "      <th>Altitude</th>\n",
       "      <th>Region</th>\n",
       "      <th>Variety</th>\n",
       "      <th>Status</th>\n",
       "      <th>Processing Method</th>\n",
       "      <th>Aroma</th>\n",
       "      <th>Flavor</th>\n",
       "      <th>...</th>\n",
       "      <th>Overall</th>\n",
       "      <th>Defects</th>\n",
       "      <th>Total Cup Points</th>\n",
       "      <th>Moisture Percentage</th>\n",
       "      <th>Category One Defects</th>\n",
       "      <th>Quakers</th>\n",
       "      <th>Color</th>\n",
       "      <th>Category Two Defects</th>\n",
       "      <th>Initial Harvest Year</th>\n",
       "      <th>Final Harvest Year</th>\n",
       "    </tr>\n",
       "  </thead>\n",
       "  <tbody>\n",
       "    <tr>\n",
       "      <th>0</th>\n",
       "      <td>Colombia</td>\n",
       "      <td>Finca El Paraiso</td>\n",
       "      <td>Coffee Quality Union</td>\n",
       "      <td>1815.0</td>\n",
       "      <td>Piendamo,Cauca</td>\n",
       "      <td>Castillo</td>\n",
       "      <td>Completed</td>\n",
       "      <td>Washed / Wet</td>\n",
       "      <td>8.58</td>\n",
       "      <td>8.50</td>\n",
       "      <td>...</td>\n",
       "      <td>8.58</td>\n",
       "      <td>0.0</td>\n",
       "      <td>89.33</td>\n",
       "      <td>11.8</td>\n",
       "      <td>0</td>\n",
       "      <td>0</td>\n",
       "      <td>green</td>\n",
       "      <td>3</td>\n",
       "      <td>2021</td>\n",
       "      <td>2022</td>\n",
       "    </tr>\n",
       "    <tr>\n",
       "      <th>1</th>\n",
       "      <td>Taiwan</td>\n",
       "      <td>Royal Bean Geisha Estate</td>\n",
       "      <td>Taiwan Coffee Laboratory</td>\n",
       "      <td>1200.0</td>\n",
       "      <td>Chiayi</td>\n",
       "      <td>Gesha</td>\n",
       "      <td>Completed</td>\n",
       "      <td>Washed / Wet</td>\n",
       "      <td>8.50</td>\n",
       "      <td>8.50</td>\n",
       "      <td>...</td>\n",
       "      <td>8.50</td>\n",
       "      <td>0.0</td>\n",
       "      <td>87.58</td>\n",
       "      <td>10.5</td>\n",
       "      <td>0</td>\n",
       "      <td>0</td>\n",
       "      <td>bluish-green</td>\n",
       "      <td>0</td>\n",
       "      <td>2021</td>\n",
       "      <td>2022</td>\n",
       "    </tr>\n",
       "    <tr>\n",
       "      <th>2</th>\n",
       "      <td>Laos</td>\n",
       "      <td>OKLAO coffee farms</td>\n",
       "      <td>Taiwan Coffee Laboratory</td>\n",
       "      <td>1300.0</td>\n",
       "      <td>Laos Borofen Plateau</td>\n",
       "      <td>Java</td>\n",
       "      <td>Completed</td>\n",
       "      <td>Washed / Wet</td>\n",
       "      <td>8.33</td>\n",
       "      <td>8.42</td>\n",
       "      <td>...</td>\n",
       "      <td>8.33</td>\n",
       "      <td>0.0</td>\n",
       "      <td>87.42</td>\n",
       "      <td>10.4</td>\n",
       "      <td>0</td>\n",
       "      <td>0</td>\n",
       "      <td>yellow-green</td>\n",
       "      <td>2</td>\n",
       "      <td>2021</td>\n",
       "      <td>2022</td>\n",
       "    </tr>\n",
       "    <tr>\n",
       "      <th>3</th>\n",
       "      <td>Costa Rica</td>\n",
       "      <td>La Cumbre</td>\n",
       "      <td>Coffee Quality Union</td>\n",
       "      <td>1900.0</td>\n",
       "      <td>Los Santos,Tarrazu</td>\n",
       "      <td>Gesha</td>\n",
       "      <td>Completed</td>\n",
       "      <td>Washed / Wet</td>\n",
       "      <td>8.08</td>\n",
       "      <td>8.17</td>\n",
       "      <td>...</td>\n",
       "      <td>8.25</td>\n",
       "      <td>0.0</td>\n",
       "      <td>87.17</td>\n",
       "      <td>11.8</td>\n",
       "      <td>0</td>\n",
       "      <td>0</td>\n",
       "      <td>green</td>\n",
       "      <td>0</td>\n",
       "      <td>2022</td>\n",
       "      <td>2022</td>\n",
       "    </tr>\n",
       "    <tr>\n",
       "      <th>4</th>\n",
       "      <td>Colombia</td>\n",
       "      <td>Finca Santuario</td>\n",
       "      <td>Coffee Quality Union</td>\n",
       "      <td>1975.0</td>\n",
       "      <td>Popayan,Cauca</td>\n",
       "      <td>Red Bourbon</td>\n",
       "      <td>Completed</td>\n",
       "      <td>Pulped natural / Honey</td>\n",
       "      <td>8.33</td>\n",
       "      <td>8.33</td>\n",
       "      <td>...</td>\n",
       "      <td>8.25</td>\n",
       "      <td>0.0</td>\n",
       "      <td>87.08</td>\n",
       "      <td>11.6</td>\n",
       "      <td>0</td>\n",
       "      <td>2</td>\n",
       "      <td>yellow-green</td>\n",
       "      <td>2</td>\n",
       "      <td>2022</td>\n",
       "      <td>2022</td>\n",
       "    </tr>\n",
       "  </tbody>\n",
       "</table>\n",
       "<p>5 rows × 27 columns</p>\n",
       "</div>"
      ],
      "text/plain": [
       "  Country of Origin                 Farm Name                   Company  \\\n",
       "0          Colombia          Finca El Paraiso      Coffee Quality Union   \n",
       "1            Taiwan  Royal Bean Geisha Estate  Taiwan Coffee Laboratory   \n",
       "2              Laos        OKLAO coffee farms  Taiwan Coffee Laboratory   \n",
       "3        Costa Rica                 La Cumbre      Coffee Quality Union   \n",
       "4          Colombia           Finca Santuario      Coffee Quality Union   \n",
       "\n",
       "   Altitude                Region      Variety     Status  \\\n",
       "0    1815.0        Piendamo,Cauca     Castillo  Completed   \n",
       "1    1200.0                Chiayi        Gesha  Completed   \n",
       "2    1300.0  Laos Borofen Plateau         Java  Completed   \n",
       "3    1900.0    Los Santos,Tarrazu        Gesha  Completed   \n",
       "4    1975.0         Popayan,Cauca  Red Bourbon  Completed   \n",
       "\n",
       "        Processing Method  Aroma  Flavor  ...  Overall  Defects  \\\n",
       "0            Washed / Wet   8.58    8.50  ...     8.58      0.0   \n",
       "1            Washed / Wet   8.50    8.50  ...     8.50      0.0   \n",
       "2            Washed / Wet   8.33    8.42  ...     8.33      0.0   \n",
       "3            Washed / Wet   8.08    8.17  ...     8.25      0.0   \n",
       "4  Pulped natural / Honey   8.33    8.33  ...     8.25      0.0   \n",
       "\n",
       "   Total Cup Points  Moisture Percentage  Category One Defects  Quakers  \\\n",
       "0             89.33                 11.8                     0        0   \n",
       "1             87.58                 10.5                     0        0   \n",
       "2             87.42                 10.4                     0        0   \n",
       "3             87.17                 11.8                     0        0   \n",
       "4             87.08                 11.6                     0        2   \n",
       "\n",
       "          Color  Category Two Defects  Initial Harvest Year  \\\n",
       "0         green                     3                  2021   \n",
       "1  bluish-green                     0                  2021   \n",
       "2  yellow-green                     2                  2021   \n",
       "3         green                     0                  2022   \n",
       "4  yellow-green                     2                  2022   \n",
       "\n",
       "   Final Harvest Year  \n",
       "0                2022  \n",
       "1                2022  \n",
       "2                2022  \n",
       "3                2022  \n",
       "4                2022  \n",
       "\n",
       "[5 rows x 27 columns]"
      ]
     },
     "execution_count": 109,
     "metadata": {},
     "output_type": "execute_result"
    }
   ],
   "source": [
    "df_coffee = df_clean.copy()\n",
    "\n",
    "df_coffee.head()"
   ]
  },
  {
   "cell_type": "code",
   "execution_count": 110,
   "metadata": {},
   "outputs": [
    {
     "data": {
      "image/png": "[encoded data removed]",
      "text/plain": [
       "<Figure size 1000x1000 with 1 Axes>"
      ]
     },
     "metadata": {},
     "output_type": "display_data"
    }
   ],
   "source": [
    "country = df_coffee['Country of Origin'].value_counts()\n",
    "country_names = country.index\n",
    "\n",
    "coffee_count = [country[index] for index in country_names]\n",
    "\n",
    "plt.figure(figsize=(10, 10))\n",
    "\n",
    "ax = sns.barplot(\n",
    "    x = country_names,\n",
    "    y = coffee_count,\n",
    "    hue = country_names,\n",
    "    legend = False,\n",
    ")\n",
    "ax.bar_label(ax.containers[0])\n",
    "\n",
    "plt.xlabel('Países')\n",
    "plt.ylabel('Número de Cafés')\n",
    "plt.title('Cafés analisados X País de Origem')\n",
    "plt.xticks(rotation=45, ha='right')\n",
    "\n",
    "plt.tight_layout()\n",
    "plt.show()"
   ]
  },
  {
   "cell_type": "code",
   "execution_count": 111,
   "metadata": {},
   "outputs": [
    {
     "data": {
      "text/html": [
       "<div>\n",
       "<style scoped>\n",
       "    .dataframe tbody tr th:only-of-type {\n",
       "        vertical-align: middle;\n",
       "    }\n",
       "\n",
       "    .dataframe tbody tr th {\n",
       "        vertical-align: top;\n",
       "    }\n",
       "\n",
       "    .dataframe thead th {\n",
       "        text-align: right;\n",
       "    }\n",
       "</style>\n",
       "<table border=\"1\" class=\"dataframe\">\n",
       "  <thead>\n",
       "    <tr style=\"text-align: right;\">\n",
       "      <th></th>\n",
       "      <th>Country of Origin</th>\n",
       "      <th>Total Cup Points</th>\n",
       "    </tr>\n",
       "  </thead>\n",
       "  <tbody>\n",
       "    <tr>\n",
       "      <th>0</th>\n",
       "      <td>Colombia</td>\n",
       "      <td>89.33</td>\n",
       "    </tr>\n",
       "    <tr>\n",
       "      <th>1</th>\n",
       "      <td>Taiwan</td>\n",
       "      <td>87.58</td>\n",
       "    </tr>\n",
       "    <tr>\n",
       "      <th>2</th>\n",
       "      <td>Laos</td>\n",
       "      <td>87.42</td>\n",
       "    </tr>\n",
       "    <tr>\n",
       "      <th>3</th>\n",
       "      <td>Costa Rica</td>\n",
       "      <td>87.17</td>\n",
       "    </tr>\n",
       "    <tr>\n",
       "      <th>4</th>\n",
       "      <td>Colombia</td>\n",
       "      <td>87.08</td>\n",
       "    </tr>\n",
       "    <tr>\n",
       "      <th>...</th>\n",
       "      <td>...</td>\n",
       "      <td>...</td>\n",
       "    </tr>\n",
       "    <tr>\n",
       "      <th>202</th>\n",
       "      <td>Brazil</td>\n",
       "      <td>80.08</td>\n",
       "    </tr>\n",
       "    <tr>\n",
       "      <th>203</th>\n",
       "      <td>Nicaragua</td>\n",
       "      <td>80.00</td>\n",
       "    </tr>\n",
       "    <tr>\n",
       "      <th>204</th>\n",
       "      <td>Laos</td>\n",
       "      <td>79.67</td>\n",
       "    </tr>\n",
       "    <tr>\n",
       "      <th>205</th>\n",
       "      <td>El Salvador</td>\n",
       "      <td>78.08</td>\n",
       "    </tr>\n",
       "    <tr>\n",
       "      <th>206</th>\n",
       "      <td>Brazil</td>\n",
       "      <td>78.00</td>\n",
       "    </tr>\n",
       "  </tbody>\n",
       "</table>\n",
       "<p>207 rows × 2 columns</p>\n",
       "</div>"
      ],
      "text/plain": [
       "    Country of Origin  Total Cup Points\n",
       "0            Colombia             89.33\n",
       "1              Taiwan             87.58\n",
       "2                Laos             87.42\n",
       "3          Costa Rica             87.17\n",
       "4            Colombia             87.08\n",
       "..                ...               ...\n",
       "202            Brazil             80.08\n",
       "203         Nicaragua             80.00\n",
       "204              Laos             79.67\n",
       "205       El Salvador             78.08\n",
       "206            Brazil             78.00\n",
       "\n",
       "[207 rows x 2 columns]"
      ]
     },
     "execution_count": 111,
     "metadata": {},
     "output_type": "execute_result"
    }
   ],
   "source": [
    "best_coffees = df_coffee.sort_values(by='Total Cup Points', ascending=False)\n",
    "best_coffees[['Country of Origin', 'Total Cup Points']]"
   ]
  },
  {
   "cell_type": "code",
   "execution_count": 112,
   "metadata": {},
   "outputs": [
    {
     "data": {
      "text/html": [
       "<div>\n",
       "<style scoped>\n",
       "    .dataframe tbody tr th:only-of-type {\n",
       "        vertical-align: middle;\n",
       "    }\n",
       "\n",
       "    .dataframe tbody tr th {\n",
       "        vertical-align: top;\n",
       "    }\n",
       "\n",
       "    .dataframe thead th {\n",
       "        text-align: right;\n",
       "    }\n",
       "</style>\n",
       "<table border=\"1\" class=\"dataframe\">\n",
       "  <thead>\n",
       "    <tr style=\"text-align: right;\">\n",
       "      <th></th>\n",
       "      <th>Country of Origin</th>\n",
       "      <th>Total Cup Points</th>\n",
       "    </tr>\n",
       "  </thead>\n",
       "  <tbody>\n",
       "    <tr>\n",
       "      <th>4</th>\n",
       "      <td>Ethiopia</td>\n",
       "      <td>84.960909</td>\n",
       "    </tr>\n",
       "    <tr>\n",
       "      <th>17</th>\n",
       "      <td>Tanzania, United Republic Of</td>\n",
       "      <td>84.735000</td>\n",
       "    </tr>\n",
       "    <tr>\n",
       "      <th>16</th>\n",
       "      <td>Taiwan</td>\n",
       "      <td>84.350328</td>\n",
       "    </tr>\n",
       "    <tr>\n",
       "      <th>5</th>\n",
       "      <td>Guatemala</td>\n",
       "      <td>84.301429</td>\n",
       "    </tr>\n",
       "    <tr>\n",
       "      <th>10</th>\n",
       "      <td>Madagascar</td>\n",
       "      <td>84.250000</td>\n",
       "    </tr>\n",
       "    <tr>\n",
       "      <th>19</th>\n",
       "      <td>Uganda</td>\n",
       "      <td>83.916667</td>\n",
       "    </tr>\n",
       "    <tr>\n",
       "      <th>1</th>\n",
       "      <td>Colombia</td>\n",
       "      <td>83.877368</td>\n",
       "    </tr>\n",
       "    <tr>\n",
       "      <th>2</th>\n",
       "      <td>Costa Rica</td>\n",
       "      <td>83.740000</td>\n",
       "    </tr>\n",
       "    <tr>\n",
       "      <th>8</th>\n",
       "      <td>Kenya</td>\n",
       "      <td>83.710000</td>\n",
       "    </tr>\n",
       "    <tr>\n",
       "      <th>7</th>\n",
       "      <td>Indonesia</td>\n",
       "      <td>83.693333</td>\n",
       "    </tr>\n",
       "    <tr>\n",
       "      <th>12</th>\n",
       "      <td>Myanmar</td>\n",
       "      <td>83.670000</td>\n",
       "    </tr>\n",
       "    <tr>\n",
       "      <th>20</th>\n",
       "      <td>United States (Hawaii)</td>\n",
       "      <td>83.650000</td>\n",
       "    </tr>\n",
       "    <tr>\n",
       "      <th>14</th>\n",
       "      <td>Panama</td>\n",
       "      <td>83.625000</td>\n",
       "    </tr>\n",
       "    <tr>\n",
       "      <th>9</th>\n",
       "      <td>Laos</td>\n",
       "      <td>83.390000</td>\n",
       "    </tr>\n",
       "    <tr>\n",
       "      <th>6</th>\n",
       "      <td>Honduras</td>\n",
       "      <td>83.282308</td>\n",
       "    </tr>\n",
       "    <tr>\n",
       "      <th>21</th>\n",
       "      <td>Vietnam</td>\n",
       "      <td>82.892500</td>\n",
       "    </tr>\n",
       "    <tr>\n",
       "      <th>18</th>\n",
       "      <td>Thailand</td>\n",
       "      <td>82.827500</td>\n",
       "    </tr>\n",
       "    <tr>\n",
       "      <th>11</th>\n",
       "      <td>Mexico</td>\n",
       "      <td>82.710000</td>\n",
       "    </tr>\n",
       "    <tr>\n",
       "      <th>15</th>\n",
       "      <td>Peru</td>\n",
       "      <td>82.332500</td>\n",
       "    </tr>\n",
       "    <tr>\n",
       "      <th>13</th>\n",
       "      <td>Nicaragua</td>\n",
       "      <td>81.892857</td>\n",
       "    </tr>\n",
       "    <tr>\n",
       "      <th>0</th>\n",
       "      <td>Brazil</td>\n",
       "      <td>81.883000</td>\n",
       "    </tr>\n",
       "    <tr>\n",
       "      <th>3</th>\n",
       "      <td>El Salvador</td>\n",
       "      <td>81.532857</td>\n",
       "    </tr>\n",
       "  </tbody>\n",
       "</table>\n",
       "</div>"
      ],
      "text/plain": [
       "               Country of Origin  Total Cup Points\n",
       "4                       Ethiopia         84.960909\n",
       "17  Tanzania, United Republic Of         84.735000\n",
       "16                        Taiwan         84.350328\n",
       "5                      Guatemala         84.301429\n",
       "10                    Madagascar         84.250000\n",
       "19                        Uganda         83.916667\n",
       "1                       Colombia         83.877368\n",
       "2                     Costa Rica         83.740000\n",
       "8                          Kenya         83.710000\n",
       "7                      Indonesia         83.693333\n",
       "12                       Myanmar         83.670000\n",
       "20        United States (Hawaii)         83.650000\n",
       "14                        Panama         83.625000\n",
       "9                           Laos         83.390000\n",
       "6                       Honduras         83.282308\n",
       "21                       Vietnam         82.892500\n",
       "18                      Thailand         82.827500\n",
       "11                        Mexico         82.710000\n",
       "15                          Peru         82.332500\n",
       "13                     Nicaragua         81.892857\n",
       "0                         Brazil         81.883000\n",
       "3                    El Salvador         81.532857"
      ]
     },
     "execution_count": 112,
     "metadata": {},
     "output_type": "execute_result"
    }
   ],
   "source": [
    "mean_cup_scores = best_coffees.groupby('Country of Origin')['Total Cup Points'].mean().reset_index()\n",
    "\n",
    "mean_cup_scores.sort_values(by='Total Cup Points', ascending=False)"
   ]
  },
  {
   "cell_type": "code",
   "execution_count": 113,
   "metadata": {},
   "outputs": [
    {
     "data": {
      "application/vnd.plotly.v1+json": {
       "config": {
        "plotlyServerURL": "https://plot.ly"
       },
       "data": [
        {
         "coloraxis": "coloraxis",
         "geo": "geo",
         "hovertemplate": "<b>%{hovertext}</b><br><br>Country of Origin=%{location}<br>Total Cup Points=%{z}<extra></extra>",
         "hovertext": [
          "Brazil",
          "Colombia",
          "Costa Rica",
          "El Salvador",
          "Ethiopia",
          "Guatemala",
          "Honduras",
          "Indonesia",
          "Kenya",
          "Laos",
          "Madagascar",
          "Mexico",
          "Myanmar",
          "Nicaragua",
          "Panama",
          "Peru",
          "Taiwan",
          "Tanzania, United Republic Of",
          "Thailand",
          "Uganda",
          "United States (Hawaii)",
          "Vietnam"
         ],
         "locationmode": "country names",
         "locations": [
          "Brazil",
          "Colombia",
          "Costa Rica",
          "El Salvador",
          "Ethiopia",
          "Guatemala",
          "Honduras",
          "Indonesia",
          "Kenya",
          "Laos",
          "Madagascar",
          "Mexico",
          "Myanmar",
          "Nicaragua",
          "Panama",
          "Peru",
          "Taiwan",
          "Tanzania, United Republic Of",
          "Thailand",
          "Uganda",
          "United States (Hawaii)",
          "Vietnam"
         ],
         "name": "",
         "type": "choropleth",
         "z": [
          81.88300000000001,
          83.87736842105264,
          83.74,
          81.53285714285714,
          84.96090909090908,
          84.30142857142857,
          83.2823076923077,
          83.69333333333333,
          83.71000000000001,
          83.39,
          84.25,
          82.71000000000001,
          83.67,
          81.89285714285714,
          83.625,
          82.3325,
          84.35032786885246,
          84.735,
          82.8275,
          83.91666666666667,
          83.65,
          82.8925
         ]
        }
       ],
       "layout": {
        "coloraxis": {
         "colorbar": {
          "title": {
           "text": "Total Cup Points"
          }
         },
         "colorscale": [
          [
           0,
           "#fee838"
          ],
          [
           0.1111111111111111,
           "#e1cc55"
          ],
          [
           0.2222222222222222,
           "#c3b369"
          ],
          [
           0.3333333333333333,
           "#a59c74"
          ],
          [
           0.4444444444444444,
           "#8a8678"
          ],
          [
           0.5555555555555556,
           "#707173"
          ],
          [
           0.6666666666666666,
           "#575d6d"
          ],
          [
           0.7777777777777778,
           "#3b496c"
          ],
          [
           0.8888888888888888,
           "#123570"
          ],
          [
           1,
           "#00224e"
          ]
         ]
        },
        "geo": {
         "center": {},
         "domain": {
          "x": [
           0,
           1
          ],
          "y": [
           0,
           1
          ]
         }
        },
        "legend": {
         "tracegroupgap": 0
        },
        "template": {
         "data": {
          "bar": [
           {
            "error_x": {
             "color": "#2a3f5f"
            },
            "error_y": {
             "color": "#2a3f5f"
            },
            "marker": {
             "line": {
              "color": "#E5ECF6",
              "width": 0.5
             },
             "pattern": {
              "fillmode": "overlay",
              "size": 10,
              "solidity": 0.2
             }
            },
            "type": "bar"
           }
          ],
          "barpolar": [
           {
            "marker": {
             "line": {
              "color": "#E5ECF6",
              "width": 0.5
             },
             "pattern": {
              "fillmode": "overlay",
              "size": 10,
              "solidity": 0.2
             }
            },
            "type": "barpolar"
           }
          ],
          "carpet": [
           {
            "aaxis": {
             "endlinecolor": "#2a3f5f",
             "gridcolor": "white",
             "linecolor": "white",
             "minorgridcolor": "white",
             "startlinecolor": "#2a3f5f"
            },
            "baxis": {
             "endlinecolor": "#2a3f5f",
             "gridcolor": "white",
             "linecolor": "white",
             "minorgridcolor": "white",
             "startlinecolor": "#2a3f5f"
            },
            "type": "carpet"
           }
          ],
          "choropleth": [
           {
            "colorbar": {
             "outlinewidth": 0,
             "ticks": ""
            },
            "type": "choropleth"
           }
          ],
          "contour": [
           {
            "colorbar": {
             "outlinewidth": 0,
             "ticks": ""
            },
            "colorscale": [
             [
              0,
              "#0d0887"
             ],
             [
              0.1111111111111111,
              "#46039f"
             ],
             [
              0.2222222222222222,
              "#7201a8"
             ],
             [
              0.3333333333333333,
              "#9c179e"
             ],
             [
              0.4444444444444444,
              "#bd3786"
             ],
             [
              0.5555555555555556,
              "#d8576b"
             ],
             [
              0.6666666666666666,
              "#ed7953"
             ],
             [
              0.7777777777777778,
              "#fb9f3a"
             ],
             [
              0.8888888888888888,
              "#fdca26"
             ],
             [
              1,
              "#f0f921"
             ]
            ],
            "type": "contour"
           }
          ],
          "contourcarpet": [
           {
            "colorbar": {
             "outlinewidth": 0,
             "ticks": ""
            },
            "type": "contourcarpet"
           }
          ],
          "heatmap": [
           {
            "colorbar": {
             "outlinewidth": 0,
             "ticks": ""
            },
            "colorscale": [
             [
              0,
              "#0d0887"
             ],
             [
              0.1111111111111111,
              "#46039f"
             ],
             [
              0.2222222222222222,
              "#7201a8"
             ],
             [
              0.3333333333333333,
              "#9c179e"
             ],
             [
              0.4444444444444444,
              "#bd3786"
             ],
             [
              0.5555555555555556,
              "#d8576b"
             ],
             [
              0.6666666666666666,
              "#ed7953"
             ],
             [
              0.7777777777777778,
              "#fb9f3a"
             ],
             [
              0.8888888888888888,
              "#fdca26"
             ],
             [
              1,
              "#f0f921"
             ]
            ],
            "type": "heatmap"
           }
          ],
          "heatmapgl": [
           {
            "colorbar": {
             "outlinewidth": 0,
             "ticks": ""
            },
            "colorscale": [
             [
              0,
              "#0d0887"
             ],
             [
              0.1111111111111111,
              "#46039f"
             ],
             [
              0.2222222222222222,
              "#7201a8"
             ],
             [
              0.3333333333333333,
              "#9c179e"
             ],
             [
              0.4444444444444444,
              "#bd3786"
             ],
             [
              0.5555555555555556,
              "#d8576b"
             ],
             [
              0.6666666666666666,
              "#ed7953"
             ],
             [
              0.7777777777777778,
              "#fb9f3a"
             ],
             [
              0.8888888888888888,
              "#fdca26"
             ],
             [
              1,
              "#f0f921"
             ]
            ],
            "type": "heatmapgl"
           }
          ],
          "histogram": [
           {
            "marker": {
             "pattern": {
              "fillmode": "overlay",
              "size": 10,
              "solidity": 0.2
             }
            },
            "type": "histogram"
           }
          ],
          "histogram2d": [
           {
            "colorbar": {
             "outlinewidth": 0,
             "ticks": ""
            },
            "colorscale": [
             [
              0,
              "#0d0887"
             ],
             [
              0.1111111111111111,
              "#46039f"
             ],
             [
              0.2222222222222222,
              "#7201a8"
             ],
             [
              0.3333333333333333,
              "#9c179e"
             ],
             [
              0.4444444444444444,
              "#bd3786"
             ],
             [
              0.5555555555555556,
              "#d8576b"
             ],
             [
              0.6666666666666666,
              "#ed7953"
             ],
             [
              0.7777777777777778,
              "#fb9f3a"
             ],
             [
              0.8888888888888888,
              "#fdca26"
             ],
             [
              1,
              "#f0f921"
             ]
            ],
            "type": "histogram2d"
           }
          ],
          "histogram2dcontour": [
           {
            "colorbar": {
             "outlinewidth": 0,
             "ticks": ""
            },
            "colorscale": [
             [
              0,
              "#0d0887"
             ],
             [
              0.1111111111111111,
              "#46039f"
             ],
             [
              0.2222222222222222,
              "#7201a8"
             ],
             [
              0.3333333333333333,
              "#9c179e"
             ],
             [
              0.4444444444444444,
              "#bd3786"
             ],
             [
              0.5555555555555556,
              "#d8576b"
             ],
             [
              0.6666666666666666,
              "#ed7953"
             ],
             [
              0.7777777777777778,
              "#fb9f3a"
             ],
             [
              0.8888888888888888,
              "#fdca26"
             ],
             [
              1,
              "#f0f921"
             ]
            ],
            "type": "histogram2dcontour"
           }
          ],
          "mesh3d": [
           {
            "colorbar": {
             "outlinewidth": 0,
             "ticks": ""
            },
            "type": "mesh3d"
           }
          ],
          "parcoords": [
           {
            "line": {
             "colorbar": {
              "outlinewidth": 0,
              "ticks": ""
             }
            },
            "type": "parcoords"
           }
          ],
          "pie": [
           {
            "automargin": true,
            "type": "pie"
           }
          ],
          "scatter": [
           {
            "fillpattern": {
             "fillmode": "overlay",
             "size": 10,
             "solidity": 0.2
            },
            "type": "scatter"
           }
          ],
          "scatter3d": [
           {
            "line": {
             "colorbar": {
              "outlinewidth": 0,
              "ticks": ""
             }
            },
            "marker": {
             "colorbar": {
              "outlinewidth": 0,
              "ticks": ""
             }
            },
            "type": "scatter3d"
           }
          ],
          "scattercarpet": [
           {
            "marker": {
             "colorbar": {
              "outlinewidth": 0,
              "ticks": ""
             }
            },
            "type": "scattercarpet"
           }
          ],
          "scattergeo": [
           {
            "marker": {
             "colorbar": {
              "outlinewidth": 0,
              "ticks": ""
             }
            },
            "type": "scattergeo"
           }
          ],
          "scattergl": [
           {
            "marker": {
             "colorbar": {
              "outlinewidth": 0,
              "ticks": ""
             }
            },
            "type": "scattergl"
           }
          ],
          "scattermapbox": [
           {
            "marker": {
             "colorbar": {
              "outlinewidth": 0,
              "ticks": ""
             }
            },
            "type": "scattermapbox"
           }
          ],
          "scatterpolar": [
           {
            "marker": {
             "colorbar": {
              "outlinewidth": 0,
              "ticks": ""
             }
            },
            "type": "scatterpolar"
           }
          ],
          "scatterpolargl": [
           {
            "marker": {
             "colorbar": {
              "outlinewidth": 0,
              "ticks": ""
             }
            },
            "type": "scatterpolargl"
           }
          ],
          "scatterternary": [
           {
            "marker": {
             "colorbar": {
              "outlinewidth": 0,
              "ticks": ""
             }
            },
            "type": "scatterternary"
           }
          ],
          "surface": [
           {
            "colorbar": {
             "outlinewidth": 0,
             "ticks": ""
            },
            "colorscale": [
             [
              0,
              "#0d0887"
             ],
             [
              0.1111111111111111,
              "#46039f"
             ],
             [
              0.2222222222222222,
              "#7201a8"
             ],
             [
              0.3333333333333333,
              "#9c179e"
             ],
             [
              0.4444444444444444,
              "#bd3786"
             ],
             [
              0.5555555555555556,
              "#d8576b"
             ],
             [
              0.6666666666666666,
              "#ed7953"
             ],
             [
              0.7777777777777778,
              "#fb9f3a"
             ],
             [
              0.8888888888888888,
              "#fdca26"
             ],
             [
              1,
              "#f0f921"
             ]
            ],
            "type": "surface"
           }
          ],
          "table": [
           {
            "cells": {
             "fill": {
              "color": "#EBF0F8"
             },
             "line": {
              "color": "white"
             }
            },
            "header": {
             "fill": {
              "color": "#C8D4E3"
             },
             "line": {
              "color": "white"
             }
            },
            "type": "table"
           }
          ]
         },
         "layout": {
          "annotationdefaults": {
           "arrowcolor": "#2a3f5f",
           "arrowhead": 0,
           "arrowwidth": 1
          },
          "autotypenumbers": "strict",
          "coloraxis": {
           "colorbar": {
            "outlinewidth": 0,
            "ticks": ""
           }
          },
          "colorscale": {
           "diverging": [
            [
             0,
             "#8e0152"
            ],
            [
             0.1,
             "#c51b7d"
            ],
            [
             0.2,
             "#de77ae"
            ],
            [
             0.3,
             "#f1b6da"
            ],
            [
             0.4,
             "#fde0ef"
            ],
            [
             0.5,
             "#f7f7f7"
            ],
            [
             0.6,
             "#e6f5d0"
            ],
            [
             0.7,
             "#b8e186"
            ],
            [
             0.8,
             "#7fbc41"
            ],
            [
             0.9,
             "#4d9221"
            ],
            [
             1,
             "#276419"
            ]
           ],
           "sequential": [
            [
             0,
             "#0d0887"
            ],
            [
             0.1111111111111111,
             "#46039f"
            ],
            [
             0.2222222222222222,
             "#7201a8"
            ],
            [
             0.3333333333333333,
             "#9c179e"
            ],
            [
             0.4444444444444444,
             "#bd3786"
            ],
            [
             0.5555555555555556,
             "#d8576b"
            ],
            [
             0.6666666666666666,
             "#ed7953"
            ],
            [
             0.7777777777777778,
             "#fb9f3a"
            ],
            [
             0.8888888888888888,
             "#fdca26"
            ],
            [
             1,
             "#f0f921"
            ]
           ],
           "sequentialminus": [
            [
             0,
             "#0d0887"
            ],
            [
             0.1111111111111111,
             "#46039f"
            ],
            [
             0.2222222222222222,
             "#7201a8"
            ],
            [
             0.3333333333333333,
             "#9c179e"
            ],
            [
             0.4444444444444444,
             "#bd3786"
            ],
            [
             0.5555555555555556,
             "#d8576b"
            ],
            [
             0.6666666666666666,
             "#ed7953"
            ],
            [
             0.7777777777777778,
             "#fb9f3a"
            ],
            [
             0.8888888888888888,
             "#fdca26"
            ],
            [
             1,
             "#f0f921"
            ]
           ]
          },
          "colorway": [
           "#636efa",
           "#EF553B",
           "#00cc96",
           "#ab63fa",
           "#FFA15A",
           "#19d3f3",
           "#FF6692",
           "#B6E880",
           "#FF97FF",
           "#FECB52"
          ],
          "font": {
           "color": "#2a3f5f"
          },
          "geo": {
           "bgcolor": "white",
           "lakecolor": "white",
           "landcolor": "#E5ECF6",
           "showlakes": true,
           "showland": true,
           "subunitcolor": "white"
          },
          "hoverlabel": {
           "align": "left"
          },
          "hovermode": "closest",
          "mapbox": {
           "style": "light"
          },
          "paper_bgcolor": "white",
          "plot_bgcolor": "#E5ECF6",
          "polar": {
           "angularaxis": {
            "gridcolor": "white",
            "linecolor": "white",
            "ticks": ""
           },
           "bgcolor": "#E5ECF6",
           "radialaxis": {
            "gridcolor": "white",
            "linecolor": "white",
            "ticks": ""
           }
          },
          "scene": {
           "xaxis": {
            "backgroundcolor": "#E5ECF6",
            "gridcolor": "white",
            "gridwidth": 2,
            "linecolor": "white",
            "showbackground": true,
            "ticks": "",
            "zerolinecolor": "white"
           },
           "yaxis": {
            "backgroundcolor": "#E5ECF6",
            "gridcolor": "white",
            "gridwidth": 2,
            "linecolor": "white",
            "showbackground": true,
            "ticks": "",
            "zerolinecolor": "white"
           },
           "zaxis": {
            "backgroundcolor": "#E5ECF6",
            "gridcolor": "white",
            "gridwidth": 2,
            "linecolor": "white",
            "showbackground": true,
            "ticks": "",
            "zerolinecolor": "white"
           }
          },
          "shapedefaults": {
           "line": {
            "color": "#2a3f5f"
           }
          },
          "ternary": {
           "aaxis": {
            "gridcolor": "white",
            "linecolor": "white",
            "ticks": ""
           },
           "baxis": {
            "gridcolor": "white",
            "linecolor": "white",
            "ticks": ""
           },
           "bgcolor": "#E5ECF6",
           "caxis": {
            "gridcolor": "white",
            "linecolor": "white",
            "ticks": ""
           }
          },
          "title": {
           "x": 0.05
          },
          "xaxis": {
           "automargin": true,
           "gridcolor": "white",
           "linecolor": "white",
           "ticks": "",
           "title": {
            "standoff": 15
           },
           "zerolinecolor": "white",
           "zerolinewidth": 2
          },
          "yaxis": {
           "automargin": true,
           "gridcolor": "white",
           "linecolor": "white",
           "ticks": "",
           "title": {
            "standoff": 15
           },
           "zerolinecolor": "white",
           "zerolinewidth": 2
          }
         }
        },
        "title": {
         "text": "Pontuação Média de Cafés por País"
        }
       }
      }
     },
     "metadata": {},
     "output_type": "display_data"
    }
   ],
   "source": [
    "mean_cupscores_map = px.choropleth(\n",
    "    mean_cup_scores,\n",
    "    locations='Country of Origin',\n",
    "    locationmode='country names',\n",
    "    color='Total Cup Points',\n",
    "    hover_name='Country of Origin',\n",
    "    color_continuous_scale=px.colors.sequential.Cividis_r,\n",
    "    title='Pontuação Média de Cafés por País',\n",
    ")\n",
    "\n",
    "mean_cupscores_map.show()"
   ]
  },
  {
   "cell_type": "code",
   "execution_count": 114,
   "metadata": {},
   "outputs": [
    {
     "data": {
      "application/vnd.plotly.v1+json": {
       "config": {
        "plotlyServerURL": "https://plot.ly"
       },
       "data": [
        {
         "customdata": [
          [
           "green"
          ],
          [
           "bluish-green"
          ],
          [
           "yellow-green"
          ],
          [
           "green"
          ],
          [
           "yellow-green"
          ],
          [
           "green"
          ],
          [
           "green"
          ],
          [
           "yellow-green"
          ],
          [
           "greenish"
          ],
          [
           "greenish"
          ],
          [
           "greenish"
          ],
          [
           "brownish"
          ],
          [
           "green"
          ],
          [
           "yellow-green"
          ],
          [
           "green"
          ],
          [
           "green"
          ],
          [
           "green"
          ],
          [
           "yellow-green"
          ],
          [
           "brownish"
          ],
          [
           "greenish"
          ],
          [
           "yellow-green"
          ],
          [
           "green"
          ],
          [
           "brownish"
          ],
          [
           "brownish"
          ],
          [
           "bluish-green"
          ],
          [
           "green"
          ],
          [
           "green"
          ],
          [
           "green"
          ],
          [
           "bluish-green"
          ],
          [
           "green"
          ],
          [
           "bluish-green"
          ],
          [
           "green"
          ],
          [
           "green"
          ],
          [
           "green"
          ],
          [
           "yellow-green"
          ],
          [
           "greenish"
          ],
          [
           "bluish-green"
          ],
          [
           "green"
          ],
          [
           "greenish"
          ],
          [
           "bluish-green"
          ],
          [
           "brownish"
          ],
          [
           "greenish"
          ],
          [
           "pale yellow"
          ],
          [
           "green"
          ],
          [
           "green"
          ],
          [
           "yellow-green"
          ],
          [
           "green"
          ],
          [
           "green"
          ],
          [
           "green"
          ],
          [
           "green"
          ],
          [
           "brownish"
          ],
          [
           "bluish-green"
          ],
          [
           "greenish"
          ],
          [
           "greenish"
          ],
          [
           "greenish"
          ],
          [
           "green"
          ],
          [
           "green"
          ],
          [
           "bluish-green"
          ],
          [
           "bluish-green"
          ],
          [
           "green"
          ],
          [
           "yellow-green"
          ],
          [
           "green"
          ],
          [
           "greenish"
          ],
          [
           "green"
          ],
          [
           "green"
          ],
          [
           "green"
          ],
          [
           "green"
          ],
          [
           "brownish"
          ],
          [
           "green"
          ],
          [
           "bluish-green"
          ],
          [
           "green"
          ],
          [
           "green"
          ],
          [
           "green"
          ],
          [
           "bluish-green"
          ],
          [
           "green"
          ],
          [
           "yellow-green"
          ],
          [
           "yellow-green"
          ],
          [
           "brownish"
          ],
          [
           "green"
          ],
          [
           "bluish-green"
          ],
          [
           "green"
          ],
          [
           "bluish-green"
          ],
          [
           "green"
          ],
          [
           "green"
          ],
          [
           "greenish"
          ],
          [
           "yellow-green"
          ],
          [
           "green"
          ],
          [
           "green"
          ],
          [
           "green"
          ],
          [
           "greenish"
          ],
          [
           "green"
          ],
          [
           "greenish"
          ],
          [
           "green"
          ],
          [
           "green"
          ],
          [
           "greenish"
          ],
          [
           "green"
          ],
          [
           "yellow-green"
          ],
          [
           "green"
          ],
          [
           "green"
          ],
          [
           "greenish"
          ],
          [
           "green"
          ],
          [
           "green"
          ],
          [
           "green"
          ],
          [
           "greenish"
          ],
          [
           "green"
          ],
          [
           "greenish"
          ],
          [
           "bluish-green"
          ],
          [
           "pale yellow"
          ],
          [
           "greenish"
          ],
          [
           "pale yellow"
          ],
          [
           "green"
          ],
          [
           "green"
          ],
          [
           "green"
          ],
          [
           "green"
          ],
          [
           "bluish-green"
          ],
          [
           "green"
          ],
          [
           "greenish"
          ],
          [
           "green"
          ],
          [
           "green"
          ],
          [
           "bluish-green"
          ],
          [
           "green"
          ],
          [
           "greenish"
          ],
          [
           "green"
          ],
          [
           "green"
          ],
          [
           "greenish"
          ],
          [
           "green"
          ],
          [
           "bluish-green"
          ],
          [
           "yellow-green"
          ],
          [
           "greenish"
          ],
          [
           "green"
          ],
          [
           "green"
          ],
          [
           "brownish"
          ],
          [
           "bluish-green"
          ],
          [
           "green"
          ],
          [
           "greenish"
          ],
          [
           "bluish-green"
          ],
          [
           "brownish"
          ],
          [
           "green"
          ],
          [
           "green"
          ],
          [
           "bluish-green"
          ],
          [
           "bluish-green"
          ],
          [
           "green"
          ],
          [
           "greenish"
          ],
          [
           "yellow-green"
          ],
          [
           "green"
          ],
          [
           "yellow-green"
          ],
          [
           "green"
          ],
          [
           "green"
          ],
          [
           "pale yellow"
          ],
          [
           "green"
          ],
          [
           "greenish"
          ],
          [
           "yellow-green"
          ],
          [
           "green"
          ],
          [
           "green"
          ],
          [
           "bluish-green"
          ],
          [
           "green"
          ],
          [
           "green"
          ],
          [
           "green"
          ],
          [
           "bluish-green"
          ],
          [
           "bluish-green"
          ],
          [
           "pale yellow"
          ],
          [
           "green"
          ],
          [
           "green"
          ],
          [
           "bluish-green"
          ],
          [
           "bluish-green"
          ],
          [
           "green"
          ],
          [
           "bluish-green"
          ],
          [
           "green"
          ],
          [
           "greenish"
          ],
          [
           "green"
          ],
          [
           "green"
          ],
          [
           "green"
          ],
          [
           "bluish-green"
          ],
          [
           "greenish"
          ],
          [
           "green"
          ],
          [
           "green"
          ],
          [
           "green"
          ],
          [
           "bluish-green"
          ],
          [
           "bluish-green"
          ],
          [
           "greenish"
          ],
          [
           "greenish"
          ],
          [
           "green"
          ],
          [
           "green"
          ],
          [
           "pale yellow"
          ],
          [
           "yellow-green"
          ],
          [
           "yellow-green"
          ],
          [
           "green"
          ],
          [
           "green"
          ],
          [
           "yellow-green"
          ],
          [
           "green"
          ],
          [
           "green"
          ],
          [
           "yellow-green"
          ],
          [
           "green"
          ],
          [
           "greenish"
          ],
          [
           "greenish"
          ],
          [
           "bluish-green"
          ],
          [
           "greenish"
          ],
          [
           "green"
          ],
          [
           "greenish"
          ],
          [
           "greenish"
          ],
          [
           "bluish-green"
          ],
          [
           "greenish"
          ],
          [
           "green"
          ],
          [
           "green"
          ],
          [
           "green"
          ],
          [
           "bluish-green"
          ],
          [
           "green"
          ]
         ],
         "domain": {
          "x": [
           0,
           1
          ],
          "y": [
           0,
           1
          ]
         },
         "hovertemplate": "Color=%{customdata[0]}<extra></extra>",
         "labels": [
          "green",
          "bluish-green",
          "yellow-green",
          "green",
          "yellow-green",
          "green",
          "green",
          "yellow-green",
          "greenish",
          "greenish",
          "greenish",
          "brownish",
          "green",
          "yellow-green",
          "green",
          "green",
          "green",
          "yellow-green",
          "brownish",
          "greenish",
          "yellow-green",
          "green",
          "brownish",
          "brownish",
          "bluish-green",
          "green",
          "green",
          "green",
          "bluish-green",
          "green",
          "bluish-green",
          "green",
          "green",
          "green",
          "yellow-green",
          "greenish",
          "bluish-green",
          "green",
          "greenish",
          "bluish-green",
          "brownish",
          "greenish",
          "pale yellow",
          "green",
          "green",
          "yellow-green",
          "green",
          "green",
          "green",
          "green",
          "brownish",
          "bluish-green",
          "greenish",
          "greenish",
          "greenish",
          "green",
          "green",
          "bluish-green",
          "bluish-green",
          "green",
          "yellow-green",
          "green",
          "greenish",
          "green",
          "green",
          "green",
          "green",
          "brownish",
          "green",
          "bluish-green",
          "green",
          "green",
          "green",
          "bluish-green",
          "green",
          "yellow-green",
          "yellow-green",
          "brownish",
          "green",
          "bluish-green",
          "green",
          "bluish-green",
          "green",
          "green",
          "greenish",
          "yellow-green",
          "green",
          "green",
          "green",
          "greenish",
          "green",
          "greenish",
          "green",
          "green",
          "greenish",
          "green",
          "yellow-green",
          "green",
          "green",
          "greenish",
          "green",
          "green",
          "green",
          "greenish",
          "green",
          "greenish",
          "bluish-green",
          "pale yellow",
          "greenish",
          "pale yellow",
          "green",
          "green",
          "green",
          "green",
          "bluish-green",
          "green",
          "greenish",
          "green",
          "green",
          "bluish-green",
          "green",
          "greenish",
          "green",
          "green",
          "greenish",
          "green",
          "bluish-green",
          "yellow-green",
          "greenish",
          "green",
          "green",
          "brownish",
          "bluish-green",
          "green",
          "greenish",
          "bluish-green",
          "brownish",
          "green",
          "green",
          "bluish-green",
          "bluish-green",
          "green",
          "greenish",
          "yellow-green",
          "green",
          "yellow-green",
          "green",
          "green",
          "pale yellow",
          "green",
          "greenish",
          "yellow-green",
          "green",
          "green",
          "bluish-green",
          "green",
          "green",
          "green",
          "bluish-green",
          "bluish-green",
          "pale yellow",
          "green",
          "green",
          "bluish-green",
          "bluish-green",
          "green",
          "bluish-green",
          "green",
          "greenish",
          "green",
          "green",
          "green",
          "bluish-green",
          "greenish",
          "green",
          "green",
          "green",
          "bluish-green",
          "bluish-green",
          "greenish",
          "greenish",
          "green",
          "green",
          "pale yellow",
          "yellow-green",
          "yellow-green",
          "green",
          "green",
          "yellow-green",
          "green",
          "green",
          "yellow-green",
          "green",
          "greenish",
          "greenish",
          "bluish-green",
          "greenish",
          "green",
          "greenish",
          "greenish",
          "bluish-green",
          "greenish",
          "green",
          "green",
          "green",
          "bluish-green",
          "green"
         ],
         "legendgroup": "",
         "name": "",
         "showlegend": true,
         "type": "pie"
        }
       ],
       "layout": {
        "legend": {
         "tracegroupgap": 0
        },
        "piecolorway": [
         "rgb(40, 135, 161)",
         "rgb(121, 167, 172)",
         "rgb(181, 200, 184)",
         "rgb(237, 234, 194)",
         "rgb(214, 189, 141)",
         "rgb(189, 146, 90)",
         "rgb(161, 105, 40)"
        ],
        "template": {
         "data": {
          "bar": [
           {
            "error_x": {
             "color": "#2a3f5f"
            },
            "error_y": {
             "color": "#2a3f5f"
            },
            "marker": {
             "line": {
              "color": "#E5ECF6",
              "width": 0.5
             },
             "pattern": {
              "fillmode": "overlay",
              "size": 10,
              "solidity": 0.2
             }
            },
            "type": "bar"
           }
          ],
          "barpolar": [
           {
            "marker": {
             "line": {
              "color": "#E5ECF6",
              "width": 0.5
             },
             "pattern": {
              "fillmode": "overlay",
              "size": 10,
              "solidity": 0.2
             }
            },
            "type": "barpolar"
           }
          ],
          "carpet": [
           {
            "aaxis": {
             "endlinecolor": "#2a3f5f",
             "gridcolor": "white",
             "linecolor": "white",
             "minorgridcolor": "white",
             "startlinecolor": "#2a3f5f"
            },
            "baxis": {
             "endlinecolor": "#2a3f5f",
             "gridcolor": "white",
             "linecolor": "white",
             "minorgridcolor": "white",
             "startlinecolor": "#2a3f5f"
            },
            "type": "carpet"
           }
          ],
          "choropleth": [
           {
            "colorbar": {
             "outlinewidth": 0,
             "ticks": ""
            },
            "type": "choropleth"
           }
          ],
          "contour": [
           {
            "colorbar": {
             "outlinewidth": 0,
             "ticks": ""
            },
            "colorscale": [
             [
              0,
              "#0d0887"
             ],
             [
              0.1111111111111111,
              "#46039f"
             ],
             [
              0.2222222222222222,
              "#7201a8"
             ],
             [
              0.3333333333333333,
              "#9c179e"
             ],
             [
              0.4444444444444444,
              "#bd3786"
             ],
             [
              0.5555555555555556,
              "#d8576b"
             ],
             [
              0.6666666666666666,
              "#ed7953"
             ],
             [
              0.7777777777777778,
              "#fb9f3a"
             ],
             [
              0.8888888888888888,
              "#fdca26"
             ],
             [
              1,
              "#f0f921"
             ]
            ],
            "type": "contour"
           }
          ],
          "contourcarpet": [
           {
            "colorbar": {
             "outlinewidth": 0,
             "ticks": ""
            },
            "type": "contourcarpet"
           }
          ],
          "heatmap": [
           {
            "colorbar": {
             "outlinewidth": 0,
             "ticks": ""
            },
            "colorscale": [
             [
              0,
              "#0d0887"
             ],
             [
              0.1111111111111111,
              "#46039f"
             ],
             [
              0.2222222222222222,
              "#7201a8"
             ],
             [
              0.3333333333333333,
              "#9c179e"
             ],
             [
              0.4444444444444444,
              "#bd3786"
             ],
             [
              0.5555555555555556,
              "#d8576b"
             ],
             [
              0.6666666666666666,
              "#ed7953"
             ],
             [
              0.7777777777777778,
              "#fb9f3a"
             ],
             [
              0.8888888888888888,
              "#fdca26"
             ],
             [
              1,
              "#f0f921"
             ]
            ],
            "type": "heatmap"
           }
          ],
          "heatmapgl": [
           {
            "colorbar": {
             "outlinewidth": 0,
             "ticks": ""
            },
            "colorscale": [
             [
              0,
              "#0d0887"
             ],
             [
              0.1111111111111111,
              "#46039f"
             ],
             [
              0.2222222222222222,
              "#7201a8"
             ],
             [
              0.3333333333333333,
              "#9c179e"
             ],
             [
              0.4444444444444444,
              "#bd3786"
             ],
             [
              0.5555555555555556,
              "#d8576b"
             ],
             [
              0.6666666666666666,
              "#ed7953"
             ],
             [
              0.7777777777777778,
              "#fb9f3a"
             ],
             [
              0.8888888888888888,
              "#fdca26"
             ],
             [
              1,
              "#f0f921"
             ]
            ],
            "type": "heatmapgl"
           }
          ],
          "histogram": [
           {
            "marker": {
             "pattern": {
              "fillmode": "overlay",
              "size": 10,
              "solidity": 0.2
             }
            },
            "type": "histogram"
           }
          ],
          "histogram2d": [
           {
            "colorbar": {
             "outlinewidth": 0,
             "ticks": ""
            },
            "colorscale": [
             [
              0,
              "#0d0887"
             ],
             [
              0.1111111111111111,
              "#46039f"
             ],
             [
              0.2222222222222222,
              "#7201a8"
             ],
             [
              0.3333333333333333,
              "#9c179e"
             ],
             [
              0.4444444444444444,
              "#bd3786"
             ],
             [
              0.5555555555555556,
              "#d8576b"
             ],
             [
              0.6666666666666666,
              "#ed7953"
             ],
             [
              0.7777777777777778,
              "#fb9f3a"
             ],
             [
              0.8888888888888888,
              "#fdca26"
             ],
             [
              1,
              "#f0f921"
             ]
            ],
            "type": "histogram2d"
           }
          ],
          "histogram2dcontour": [
           {
            "colorbar": {
             "outlinewidth": 0,
             "ticks": ""
            },
            "colorscale": [
             [
              0,
              "#0d0887"
             ],
             [
              0.1111111111111111,
              "#46039f"
             ],
             [
              0.2222222222222222,
              "#7201a8"
             ],
             [
              0.3333333333333333,
              "#9c179e"
             ],
             [
              0.4444444444444444,
              "#bd3786"
             ],
             [
              0.5555555555555556,
              "#d8576b"
             ],
             [
              0.6666666666666666,
              "#ed7953"
             ],
             [
              0.7777777777777778,
              "#fb9f3a"
             ],
             [
              0.8888888888888888,
              "#fdca26"
             ],
             [
              1,
              "#f0f921"
             ]
            ],
            "type": "histogram2dcontour"
           }
          ],
          "mesh3d": [
           {
            "colorbar": {
             "outlinewidth": 0,
             "ticks": ""
            },
            "type": "mesh3d"
           }
          ],
          "parcoords": [
           {
            "line": {
             "colorbar": {
              "outlinewidth": 0,
              "ticks": ""
             }
            },
            "type": "parcoords"
           }
          ],
          "pie": [
           {
            "automargin": true,
            "type": "pie"
           }
          ],
          "scatter": [
           {
            "fillpattern": {
             "fillmode": "overlay",
             "size": 10,
             "solidity": 0.2
            },
            "type": "scatter"
           }
          ],
          "scatter3d": [
           {
            "line": {
             "colorbar": {
              "outlinewidth": 0,
              "ticks": ""
             }
            },
            "marker": {
             "colorbar": {
              "outlinewidth": 0,
              "ticks": ""
             }
            },
            "type": "scatter3d"
           }
          ],
          "scattercarpet": [
           {
            "marker": {
             "colorbar": {
              "outlinewidth": 0,
              "ticks": ""
             }
            },
            "type": "scattercarpet"
           }
          ],
          "scattergeo": [
           {
            "marker": {
             "colorbar": {
              "outlinewidth": 0,
              "ticks": ""
             }
            },
            "type": "scattergeo"
           }
          ],
          "scattergl": [
           {
            "marker": {
             "colorbar": {
              "outlinewidth": 0,
              "ticks": ""
             }
            },
            "type": "scattergl"
           }
          ],
          "scattermapbox": [
           {
            "marker": {
             "colorbar": {
              "outlinewidth": 0,
              "ticks": ""
             }
            },
            "type": "scattermapbox"
           }
          ],
          "scatterpolar": [
           {
            "marker": {
             "colorbar": {
              "outlinewidth": 0,
              "ticks": ""
             }
            },
            "type": "scatterpolar"
           }
          ],
          "scatterpolargl": [
           {
            "marker": {
             "colorbar": {
              "outlinewidth": 0,
              "ticks": ""
             }
            },
            "type": "scatterpolargl"
           }
          ],
          "scatterternary": [
           {
            "marker": {
             "colorbar": {
              "outlinewidth": 0,
              "ticks": ""
             }
            },
            "type": "scatterternary"
           }
          ],
          "surface": [
           {
            "colorbar": {
             "outlinewidth": 0,
             "ticks": ""
            },
            "colorscale": [
             [
              0,
              "#0d0887"
             ],
             [
              0.1111111111111111,
              "#46039f"
             ],
             [
              0.2222222222222222,
              "#7201a8"
             ],
             [
              0.3333333333333333,
              "#9c179e"
             ],
             [
              0.4444444444444444,
              "#bd3786"
             ],
             [
              0.5555555555555556,
              "#d8576b"
             ],
             [
              0.6666666666666666,
              "#ed7953"
             ],
             [
              0.7777777777777778,
              "#fb9f3a"
             ],
             [
              0.8888888888888888,
              "#fdca26"
             ],
             [
              1,
              "#f0f921"
             ]
            ],
            "type": "surface"
           }
          ],
          "table": [
           {
            "cells": {
             "fill": {
              "color": "#EBF0F8"
             },
             "line": {
              "color": "white"
             }
            },
            "header": {
             "fill": {
              "color": "#C8D4E3"
             },
             "line": {
              "color": "white"
             }
            },
            "type": "table"
           }
          ]
         },
         "layout": {
          "annotationdefaults": {
           "arrowcolor": "#2a3f5f",
           "arrowhead": 0,
           "arrowwidth": 1
          },
          "autotypenumbers": "strict",
          "coloraxis": {
           "colorbar": {
            "outlinewidth": 0,
            "ticks": ""
           }
          },
          "colorscale": {
           "diverging": [
            [
             0,
             "#8e0152"
            ],
            [
             0.1,
             "#c51b7d"
            ],
            [
             0.2,
             "#de77ae"
            ],
            [
             0.3,
             "#f1b6da"
            ],
            [
             0.4,
             "#fde0ef"
            ],
            [
             0.5,
             "#f7f7f7"
            ],
            [
             0.6,
             "#e6f5d0"
            ],
            [
             0.7,
             "#b8e186"
            ],
            [
             0.8,
             "#7fbc41"
            ],
            [
             0.9,
             "#4d9221"
            ],
            [
             1,
             "#276419"
            ]
           ],
           "sequential": [
            [
             0,
             "#0d0887"
            ],
            [
             0.1111111111111111,
             "#46039f"
            ],
            [
             0.2222222222222222,
             "#7201a8"
            ],
            [
             0.3333333333333333,
             "#9c179e"
            ],
            [
             0.4444444444444444,
             "#bd3786"
            ],
            [
             0.5555555555555556,
             "#d8576b"
            ],
            [
             0.6666666666666666,
             "#ed7953"
            ],
            [
             0.7777777777777778,
             "#fb9f3a"
            ],
            [
             0.8888888888888888,
             "#fdca26"
            ],
            [
             1,
             "#f0f921"
            ]
           ],
           "sequentialminus": [
            [
             0,
             "#0d0887"
            ],
            [
             0.1111111111111111,
             "#46039f"
            ],
            [
             0.2222222222222222,
             "#7201a8"
            ],
            [
             0.3333333333333333,
             "#9c179e"
            ],
            [
             0.4444444444444444,
             "#bd3786"
            ],
            [
             0.5555555555555556,
             "#d8576b"
            ],
            [
             0.6666666666666666,
             "#ed7953"
            ],
            [
             0.7777777777777778,
             "#fb9f3a"
            ],
            [
             0.8888888888888888,
             "#fdca26"
            ],
            [
             1,
             "#f0f921"
            ]
           ]
          },
          "colorway": [
           "#636efa",
           "#EF553B",
           "#00cc96",
           "#ab63fa",
           "#FFA15A",
           "#19d3f3",
           "#FF6692",
           "#B6E880",
           "#FF97FF",
           "#FECB52"
          ],
          "font": {
           "color": "#2a3f5f"
          },
          "geo": {
           "bgcolor": "white",
           "lakecolor": "white",
           "landcolor": "#E5ECF6",
           "showlakes": true,
           "showland": true,
           "subunitcolor": "white"
          },
          "hoverlabel": {
           "align": "left"
          },
          "hovermode": "closest",
          "mapbox": {
           "style": "light"
          },
          "paper_bgcolor": "white",
          "plot_bgcolor": "#E5ECF6",
          "polar": {
           "angularaxis": {
            "gridcolor": "white",
            "linecolor": "white",
            "ticks": ""
           },
           "bgcolor": "#E5ECF6",
           "radialaxis": {
            "gridcolor": "white",
            "linecolor": "white",
            "ticks": ""
           }
          },
          "scene": {
           "xaxis": {
            "backgroundcolor": "#E5ECF6",
            "gridcolor": "white",
            "gridwidth": 2,
            "linecolor": "white",
            "showbackground": true,
            "ticks": "",
            "zerolinecolor": "white"
           },
           "yaxis": {
            "backgroundcolor": "#E5ECF6",
            "gridcolor": "white",
            "gridwidth": 2,
            "linecolor": "white",
            "showbackground": true,
            "ticks": "",
            "zerolinecolor": "white"
           },
           "zaxis": {
            "backgroundcolor": "#E5ECF6",
            "gridcolor": "white",
            "gridwidth": 2,
            "linecolor": "white",
            "showbackground": true,
            "ticks": "",
            "zerolinecolor": "white"
           }
          },
          "shapedefaults": {
           "line": {
            "color": "#2a3f5f"
           }
          },
          "ternary": {
           "aaxis": {
            "gridcolor": "white",
            "linecolor": "white",
            "ticks": ""
           },
           "baxis": {
            "gridcolor": "white",
            "linecolor": "white",
            "ticks": ""
           },
           "bgcolor": "#E5ECF6",
           "caxis": {
            "gridcolor": "white",
            "linecolor": "white",
            "ticks": ""
           }
          },
          "title": {
           "x": 0.05
          },
          "xaxis": {
           "automargin": true,
           "gridcolor": "white",
           "linecolor": "white",
           "ticks": "",
           "title": {
            "standoff": 15
           },
           "zerolinecolor": "white",
           "zerolinewidth": 2
          },
          "yaxis": {
           "automargin": true,
           "gridcolor": "white",
           "linecolor": "white",
           "ticks": "",
           "title": {
            "standoff": 15
           },
           "zerolinecolor": "white",
           "zerolinewidth": 2
          }
         }
        },
        "title": {
         "text": "Coloração dos Grãos (Pré-Torra)"
        }
       }
      }
     },
     "metadata": {},
     "output_type": "display_data"
    }
   ],
   "source": [
    "coffee_colors = px.pie(\n",
    "    df_coffee,\n",
    "    names='Color',\n",
    "    title='Coloração dos Grãos (Pré-Torra)',\n",
    "    hover_data='Color',\n",
    "    color_discrete_sequence=px.colors.diverging.Earth_r,\n",
    ")\n",
    "\n",
    "coffee_colors.show()"
   ]
  },
  {
   "cell_type": "code",
   "execution_count": 115,
   "metadata": {},
   "outputs": [
    {
     "data": {
      "text/html": [
       "<div>\n",
       "<style scoped>\n",
       "    .dataframe tbody tr th:only-of-type {\n",
       "        vertical-align: middle;\n",
       "    }\n",
       "\n",
       "    .dataframe tbody tr th {\n",
       "        vertical-align: top;\n",
       "    }\n",
       "\n",
       "    .dataframe thead th {\n",
       "        text-align: right;\n",
       "    }\n",
       "</style>\n",
       "<table border=\"1\" class=\"dataframe\">\n",
       "  <thead>\n",
       "    <tr style=\"text-align: right;\">\n",
       "      <th></th>\n",
       "      <th>Processing Method</th>\n",
       "      <th>Total Cup Points</th>\n",
       "    </tr>\n",
       "  </thead>\n",
       "  <tbody>\n",
       "    <tr>\n",
       "      <th>0</th>\n",
       "      <td>Natural / Dry</td>\n",
       "      <td>83.789615</td>\n",
       "    </tr>\n",
       "    <tr>\n",
       "      <th>1</th>\n",
       "      <td>Pulped natural / Honey</td>\n",
       "      <td>83.671481</td>\n",
       "    </tr>\n",
       "    <tr>\n",
       "      <th>2</th>\n",
       "      <td>Washed / Wet</td>\n",
       "      <td>83.680234</td>\n",
       "    </tr>\n",
       "  </tbody>\n",
       "</table>\n",
       "</div>"
      ],
      "text/plain": [
       "        Processing Method  Total Cup Points\n",
       "0           Natural / Dry         83.789615\n",
       "1  Pulped natural / Honey         83.671481\n",
       "2            Washed / Wet         83.680234"
      ]
     },
     "execution_count": 115,
     "metadata": {},
     "output_type": "execute_result"
    }
   ],
   "source": [
    "proc_methods = df_coffee.groupby(by=['Processing Method'])['Total Cup Points'].mean().reset_index()\n",
    "\n",
    "proc_methods"
   ]
  },
  {
   "cell_type": "code",
   "execution_count": 116,
   "metadata": {},
   "outputs": [
    {
     "data": {
      "application/vnd.plotly.v1+json": {
       "config": {
        "plotlyServerURL": "https://plot.ly"
       },
       "data": [
        {
         "alignmentgroup": "True",
         "hovertemplate": "Processing Method=%{x}<br>Total Cup Points=%{y}<extra></extra>",
         "legendgroup": "Natural / Dry",
         "marker": {
          "color": "#636efa",
          "pattern": {
           "shape": ""
          }
         },
         "name": "Natural / Dry",
         "offsetgroup": "Natural / Dry",
         "orientation": "v",
         "showlegend": true,
         "textposition": "auto",
         "type": "bar",
         "x": [
          "Natural / Dry"
         ],
         "xaxis": "x",
         "y": [
          83.78961538461539
         ],
         "yaxis": "y"
        },
        {
         "alignmentgroup": "True",
         "hovertemplate": "Processing Method=%{x}<br>Total Cup Points=%{y}<extra></extra>",
         "legendgroup": "Pulped natural / Honey",
         "marker": {
          "color": "#EF553B",
          "pattern": {
           "shape": ""
          }
         },
         "name": "Pulped natural / Honey",
         "offsetgroup": "Pulped natural / Honey",
         "orientation": "v",
         "showlegend": true,
         "textposition": "auto",
         "type": "bar",
         "x": [
          "Pulped natural / Honey"
         ],
         "xaxis": "x",
         "y": [
          83.67148148148148
         ],
         "yaxis": "y"
        },
        {
         "alignmentgroup": "True",
         "hovertemplate": "Processing Method=%{x}<br>Total Cup Points=%{y}<extra></extra>",
         "legendgroup": "Washed / Wet",
         "marker": {
          "color": "#00cc96",
          "pattern": {
           "shape": ""
          }
         },
         "name": "Washed / Wet",
         "offsetgroup": "Washed / Wet",
         "orientation": "v",
         "showlegend": true,
         "textposition": "auto",
         "type": "bar",
         "x": [
          "Washed / Wet"
         ],
         "xaxis": "x",
         "y": [
          83.680234375
         ],
         "yaxis": "y"
        }
       ],
       "layout": {
        "barmode": "relative",
        "legend": {
         "title": {
          "text": "Processing Method"
         },
         "tracegroupgap": 0
        },
        "template": {
         "data": {
          "bar": [
           {
            "error_x": {
             "color": "#2a3f5f"
            },
            "error_y": {
             "color": "#2a3f5f"
            },
            "marker": {
             "line": {
              "color": "#E5ECF6",
              "width": 0.5
             },
             "pattern": {
              "fillmode": "overlay",
              "size": 10,
              "solidity": 0.2
             }
            },
            "type": "bar"
           }
          ],
          "barpolar": [
           {
            "marker": {
             "line": {
              "color": "#E5ECF6",
              "width": 0.5
             },
             "pattern": {
              "fillmode": "overlay",
              "size": 10,
              "solidity": 0.2
             }
            },
            "type": "barpolar"
           }
          ],
          "carpet": [
           {
            "aaxis": {
             "endlinecolor": "#2a3f5f",
             "gridcolor": "white",
             "linecolor": "white",
             "minorgridcolor": "white",
             "startlinecolor": "#2a3f5f"
            },
            "baxis": {
             "endlinecolor": "#2a3f5f",
             "gridcolor": "white",
             "linecolor": "white",
             "minorgridcolor": "white",
             "startlinecolor": "#2a3f5f"
            },
            "type": "carpet"
           }
          ],
          "choropleth": [
           {
            "colorbar": {
             "outlinewidth": 0,
             "ticks": ""
            },
            "type": "choropleth"
           }
          ],
          "contour": [
           {
            "colorbar": {
             "outlinewidth": 0,
             "ticks": ""
            },
            "colorscale": [
             [
              0,
              "#0d0887"
             ],
             [
              0.1111111111111111,
              "#46039f"
             ],
             [
              0.2222222222222222,
              "#7201a8"
             ],
             [
              0.3333333333333333,
              "#9c179e"
             ],
             [
              0.4444444444444444,
              "#bd3786"
             ],
             [
              0.5555555555555556,
              "#d8576b"
             ],
             [
              0.6666666666666666,
              "#ed7953"
             ],
             [
              0.7777777777777778,
              "#fb9f3a"
             ],
             [
              0.8888888888888888,
              "#fdca26"
             ],
             [
              1,
              "#f0f921"
             ]
            ],
            "type": "contour"
           }
          ],
          "contourcarpet": [
           {
            "colorbar": {
             "outlinewidth": 0,
             "ticks": ""
            },
            "type": "contourcarpet"
           }
          ],
          "heatmap": [
           {
            "colorbar": {
             "outlinewidth": 0,
             "ticks": ""
            },
            "colorscale": [
             [
              0,
              "#0d0887"
             ],
             [
              0.1111111111111111,
              "#46039f"
             ],
             [
              0.2222222222222222,
              "#7201a8"
             ],
             [
              0.3333333333333333,
              "#9c179e"
             ],
             [
              0.4444444444444444,
              "#bd3786"
             ],
             [
              0.5555555555555556,
              "#d8576b"
             ],
             [
              0.6666666666666666,
              "#ed7953"
             ],
             [
              0.7777777777777778,
              "#fb9f3a"
             ],
             [
              0.8888888888888888,
              "#fdca26"
             ],
             [
              1,
              "#f0f921"
             ]
            ],
            "type": "heatmap"
           }
          ],
          "heatmapgl": [
           {
            "colorbar": {
             "outlinewidth": 0,
             "ticks": ""
            },
            "colorscale": [
             [
              0,
              "#0d0887"
             ],
             [
              0.1111111111111111,
              "#46039f"
             ],
             [
              0.2222222222222222,
              "#7201a8"
             ],
             [
              0.3333333333333333,
              "#9c179e"
             ],
             [
              0.4444444444444444,
              "#bd3786"
             ],
             [
              0.5555555555555556,
              "#d8576b"
             ],
             [
              0.6666666666666666,
              "#ed7953"
             ],
             [
              0.7777777777777778,
              "#fb9f3a"
             ],
             [
              0.8888888888888888,
              "#fdca26"
             ],
             [
              1,
              "#f0f921"
             ]
            ],
            "type": "heatmapgl"
           }
          ],
          "histogram": [
           {
            "marker": {
             "pattern": {
              "fillmode": "overlay",
              "size": 10,
              "solidity": 0.2
             }
            },
            "type": "histogram"
           }
          ],
          "histogram2d": [
           {
            "colorbar": {
             "outlinewidth": 0,
             "ticks": ""
            },
            "colorscale": [
             [
              0,
              "#0d0887"
             ],
             [
              0.1111111111111111,
              "#46039f"
             ],
             [
              0.2222222222222222,
              "#7201a8"
             ],
             [
              0.3333333333333333,
              "#9c179e"
             ],
             [
              0.4444444444444444,
              "#bd3786"
             ],
             [
              0.5555555555555556,
              "#d8576b"
             ],
             [
              0.6666666666666666,
              "#ed7953"
             ],
             [
              0.7777777777777778,
              "#fb9f3a"
             ],
             [
              0.8888888888888888,
              "#fdca26"
             ],
             [
              1,
              "#f0f921"
             ]
            ],
            "type": "histogram2d"
           }
          ],
          "histogram2dcontour": [
           {
            "colorbar": {
             "outlinewidth": 0,
             "ticks": ""
            },
            "colorscale": [
             [
              0,
              "#0d0887"
             ],
             [
              0.1111111111111111,
              "#46039f"
             ],
             [
              0.2222222222222222,
              "#7201a8"
             ],
             [
              0.3333333333333333,
              "#9c179e"
             ],
             [
              0.4444444444444444,
              "#bd3786"
             ],
             [
              0.5555555555555556,
              "#d8576b"
             ],
             [
              0.6666666666666666,
              "#ed7953"
             ],
             [
              0.7777777777777778,
              "#fb9f3a"
             ],
             [
              0.8888888888888888,
              "#fdca26"
             ],
             [
              1,
              "#f0f921"
             ]
            ],
            "type": "histogram2dcontour"
           }
          ],
          "mesh3d": [
           {
            "colorbar": {
             "outlinewidth": 0,
             "ticks": ""
            },
            "type": "mesh3d"
           }
          ],
          "parcoords": [
           {
            "line": {
             "colorbar": {
              "outlinewidth": 0,
              "ticks": ""
             }
            },
            "type": "parcoords"
           }
          ],
          "pie": [
           {
            "automargin": true,
            "type": "pie"
           }
          ],
          "scatter": [
           {
            "fillpattern": {
             "fillmode": "overlay",
             "size": 10,
             "solidity": 0.2
            },
            "type": "scatter"
           }
          ],
          "scatter3d": [
           {
            "line": {
             "colorbar": {
              "outlinewidth": 0,
              "ticks": ""
             }
            },
            "marker": {
             "colorbar": {
              "outlinewidth": 0,
              "ticks": ""
             }
            },
            "type": "scatter3d"
           }
          ],
          "scattercarpet": [
           {
            "marker": {
             "colorbar": {
              "outlinewidth": 0,
              "ticks": ""
             }
            },
            "type": "scattercarpet"
           }
          ],
          "scattergeo": [
           {
            "marker": {
             "colorbar": {
              "outlinewidth": 0,
              "ticks": ""
             }
            },
            "type": "scattergeo"
           }
          ],
          "scattergl": [
           {
            "marker": {
             "colorbar": {
              "outlinewidth": 0,
              "ticks": ""
             }
            },
            "type": "scattergl"
           }
          ],
          "scattermapbox": [
           {
            "marker": {
             "colorbar": {
              "outlinewidth": 0,
              "ticks": ""
             }
            },
            "type": "scattermapbox"
           }
          ],
          "scatterpolar": [
           {
            "marker": {
             "colorbar": {
              "outlinewidth": 0,
              "ticks": ""
             }
            },
            "type": "scatterpolar"
           }
          ],
          "scatterpolargl": [
           {
            "marker": {
             "colorbar": {
              "outlinewidth": 0,
              "ticks": ""
             }
            },
            "type": "scatterpolargl"
           }
          ],
          "scatterternary": [
           {
            "marker": {
             "colorbar": {
              "outlinewidth": 0,
              "ticks": ""
             }
            },
            "type": "scatterternary"
           }
          ],
          "surface": [
           {
            "colorbar": {
             "outlinewidth": 0,
             "ticks": ""
            },
            "colorscale": [
             [
              0,
              "#0d0887"
             ],
             [
              0.1111111111111111,
              "#46039f"
             ],
             [
              0.2222222222222222,
              "#7201a8"
             ],
             [
              0.3333333333333333,
              "#9c179e"
             ],
             [
              0.4444444444444444,
              "#bd3786"
             ],
             [
              0.5555555555555556,
              "#d8576b"
             ],
             [
              0.6666666666666666,
              "#ed7953"
             ],
             [
              0.7777777777777778,
              "#fb9f3a"
             ],
             [
              0.8888888888888888,
              "#fdca26"
             ],
             [
              1,
              "#f0f921"
             ]
            ],
            "type": "surface"
           }
          ],
          "table": [
           {
            "cells": {
             "fill": {
              "color": "#EBF0F8"
             },
             "line": {
              "color": "white"
             }
            },
            "header": {
             "fill": {
              "color": "#C8D4E3"
             },
             "line": {
              "color": "white"
             }
            },
            "type": "table"
           }
          ]
         },
         "layout": {
          "annotationdefaults": {
           "arrowcolor": "#2a3f5f",
           "arrowhead": 0,
           "arrowwidth": 1
          },
          "autotypenumbers": "strict",
          "coloraxis": {
           "colorbar": {
            "outlinewidth": 0,
            "ticks": ""
           }
          },
          "colorscale": {
           "diverging": [
            [
             0,
             "#8e0152"
            ],
            [
             0.1,
             "#c51b7d"
            ],
            [
             0.2,
             "#de77ae"
            ],
            [
             0.3,
             "#f1b6da"
            ],
            [
             0.4,
             "#fde0ef"
            ],
            [
             0.5,
             "#f7f7f7"
            ],
            [
             0.6,
             "#e6f5d0"
            ],
            [
             0.7,
             "#b8e186"
            ],
            [
             0.8,
             "#7fbc41"
            ],
            [
             0.9,
             "#4d9221"
            ],
            [
             1,
             "#276419"
            ]
           ],
           "sequential": [
            [
             0,
             "#0d0887"
            ],
            [
             0.1111111111111111,
             "#46039f"
            ],
            [
             0.2222222222222222,
             "#7201a8"
            ],
            [
             0.3333333333333333,
             "#9c179e"
            ],
            [
             0.4444444444444444,
             "#bd3786"
            ],
            [
             0.5555555555555556,
             "#d8576b"
            ],
            [
             0.6666666666666666,
             "#ed7953"
            ],
            [
             0.7777777777777778,
             "#fb9f3a"
            ],
            [
             0.8888888888888888,
             "#fdca26"
            ],
            [
             1,
             "#f0f921"
            ]
           ],
           "sequentialminus": [
            [
             0,
             "#0d0887"
            ],
            [
             0.1111111111111111,
             "#46039f"
            ],
            [
             0.2222222222222222,
             "#7201a8"
            ],
            [
             0.3333333333333333,
             "#9c179e"
            ],
            [
             0.4444444444444444,
             "#bd3786"
            ],
            [
             0.5555555555555556,
             "#d8576b"
            ],
            [
             0.6666666666666666,
             "#ed7953"
            ],
            [
             0.7777777777777778,
             "#fb9f3a"
            ],
            [
             0.8888888888888888,
             "#fdca26"
            ],
            [
             1,
             "#f0f921"
            ]
           ]
          },
          "colorway": [
           "#636efa",
           "#EF553B",
           "#00cc96",
           "#ab63fa",
           "#FFA15A",
           "#19d3f3",
           "#FF6692",
           "#B6E880",
           "#FF97FF",
           "#FECB52"
          ],
          "font": {
           "color": "#2a3f5f"
          },
          "geo": {
           "bgcolor": "white",
           "lakecolor": "white",
           "landcolor": "#E5ECF6",
           "showlakes": true,
           "showland": true,
           "subunitcolor": "white"
          },
          "hoverlabel": {
           "align": "left"
          },
          "hovermode": "closest",
          "mapbox": {
           "style": "light"
          },
          "paper_bgcolor": "white",
          "plot_bgcolor": "#E5ECF6",
          "polar": {
           "angularaxis": {
            "gridcolor": "white",
            "linecolor": "white",
            "ticks": ""
           },
           "bgcolor": "#E5ECF6",
           "radialaxis": {
            "gridcolor": "white",
            "linecolor": "white",
            "ticks": ""
           }
          },
          "scene": {
           "xaxis": {
            "backgroundcolor": "#E5ECF6",
            "gridcolor": "white",
            "gridwidth": 2,
            "linecolor": "white",
            "showbackground": true,
            "ticks": "",
            "zerolinecolor": "white"
           },
           "yaxis": {
            "backgroundcolor": "#E5ECF6",
            "gridcolor": "white",
            "gridwidth": 2,
            "linecolor": "white",
            "showbackground": true,
            "ticks": "",
            "zerolinecolor": "white"
           },
           "zaxis": {
            "backgroundcolor": "#E5ECF6",
            "gridcolor": "white",
            "gridwidth": 2,
            "linecolor": "white",
            "showbackground": true,
            "ticks": "",
            "zerolinecolor": "white"
           }
          },
          "shapedefaults": {
           "line": {
            "color": "#2a3f5f"
           }
          },
          "ternary": {
           "aaxis": {
            "gridcolor": "white",
            "linecolor": "white",
            "ticks": ""
           },
           "baxis": {
            "gridcolor": "white",
            "linecolor": "white",
            "ticks": ""
           },
           "bgcolor": "#E5ECF6",
           "caxis": {
            "gridcolor": "white",
            "linecolor": "white",
            "ticks": ""
           }
          },
          "title": {
           "x": 0.05
          },
          "xaxis": {
           "automargin": true,
           "gridcolor": "white",
           "linecolor": "white",
           "ticks": "",
           "title": {
            "standoff": 15
           },
           "zerolinecolor": "white",
           "zerolinewidth": 2
          },
          "yaxis": {
           "automargin": true,
           "gridcolor": "white",
           "linecolor": "white",
           "ticks": "",
           "title": {
            "standoff": 15
           },
           "zerolinecolor": "white",
           "zerolinewidth": 2
          }
         }
        },
        "title": {
         "text": "Média de Pontuação X Método de Processamento"
        },
        "xaxis": {
         "anchor": "y",
         "categoryarray": [
          "Natural / Dry",
          "Pulped natural / Honey",
          "Washed / Wet"
         ],
         "categoryorder": "array",
         "domain": [
          0,
          1
         ],
         "title": {
          "text": "Processing Method"
         }
        },
        "yaxis": {
         "anchor": "x",
         "domain": [
          0,
          1
         ],
         "title": {
          "text": "Total Cup Points"
         }
        }
       }
      }
     },
     "metadata": {},
     "output_type": "display_data"
    }
   ],
   "source": [
    "coffee_procmethod = px.bar(\n",
    "    proc_methods,\n",
    "    x='Processing Method',\n",
    "    y='Total Cup Points',\n",
    "    color='Processing Method',\n",
    "    title='Média de Pontuação X Método de Processamento',\n",
    ")\n",
    "\n",
    "coffee_procmethod.show()"
   ]
  },
  {
   "cell_type": "code",
   "execution_count": 117,
   "metadata": {},
   "outputs": [
    {
     "data": {
      "application/vnd.plotly.v1+json": {
       "config": {
        "plotlyServerURL": "https://plot.ly"
       },
       "data": [
        {
         "customdata": [
          [
           "Washed / Wet"
          ],
          [
           "Pulped natural / Honey"
          ],
          [
           "Washed / Wet"
          ],
          [
           "Natural / Dry"
          ],
          [
           "Washed / Wet"
          ],
          [
           "Washed / Wet"
          ],
          [
           "Washed / Wet"
          ],
          [
           "Washed / Wet"
          ],
          [
           "Pulped natural / Honey"
          ],
          [
           "Natural / Dry"
          ],
          [
           "Washed / Wet"
          ],
          [
           "Washed / Wet"
          ],
          [
           "Pulped natural / Honey"
          ],
          [
           "Washed / Wet"
          ],
          [
           "Washed / Wet"
          ],
          [
           "Washed / Wet"
          ],
          [
           "Washed / Wet"
          ],
          [
           "Washed / Wet"
          ],
          [
           "Washed / Wet"
          ]
         ],
         "hovertemplate": "Country of Origin=Colombia<br>Altitude=%{x}<br>Total Cup Points=%{y}<br>Processing Method=%{customdata[0]}<extra></extra>",
         "legendgroup": "Colombia",
         "marker": {
          "color": "#636efa",
          "symbol": "circle"
         },
         "mode": "markers",
         "name": "Colombia",
         "orientation": "v",
         "showlegend": true,
         "type": "scatter",
         "x": [
          1815,
          1975,
          1850,
          1350,
          2100,
          1550,
          1411,
          1700,
          1800,
          null,
          1700,
          1100,
          1390,
          1650,
          1350,
          1700,
          1574,
          1550,
          1600
         ],
         "xaxis": "x",
         "y": [
          89.33,
          87.08,
          86.17,
          85.67,
          84.33,
          84,
          83.83,
          83.83,
          83.75,
          83.67,
          83.5,
          83.33,
          83.25,
          83,
          82.92,
          82.67,
          81.75,
          81.17,
          80.42
         ],
         "yaxis": "y"
        },
        {
         "customdata": [
          [
           "Washed / Wet"
          ],
          [
           "Washed / Wet"
          ],
          [
           "Natural / Dry"
          ],
          [
           "Washed / Wet"
          ],
          [
           "Washed / Wet"
          ],
          [
           "Pulped natural / Honey"
          ],
          [
           "Natural / Dry"
          ],
          [
           "Natural / Dry"
          ],
          [
           "Natural / Dry"
          ],
          [
           "Washed / Wet"
          ],
          [
           "Natural / Dry"
          ],
          [
           "Natural / Dry"
          ],
          [
           "Natural / Dry"
          ],
          [
           "Washed / Wet"
          ],
          [
           "Washed / Wet"
          ],
          [
           "Washed / Wet"
          ],
          [
           "Washed / Wet"
          ],
          [
           "Pulped natural / Honey"
          ],
          [
           "Washed / Wet"
          ],
          [
           "Natural / Dry"
          ],
          [
           "Washed / Wet"
          ],
          [
           "Washed / Wet"
          ],
          [
           "Natural / Dry"
          ],
          [
           "Natural / Dry"
          ],
          [
           "Washed / Wet"
          ],
          [
           "Natural / Dry"
          ],
          [
           "Natural / Dry"
          ],
          [
           "Washed / Wet"
          ],
          [
           "Pulped natural / Honey"
          ],
          [
           "Pulped natural / Honey"
          ],
          [
           "Pulped natural / Honey"
          ],
          [
           "Washed / Wet"
          ],
          [
           "Natural / Dry"
          ],
          [
           "Pulped natural / Honey"
          ],
          [
           "Natural / Dry"
          ],
          [
           "Washed / Wet"
          ],
          [
           "Pulped natural / Honey"
          ],
          [
           "Natural / Dry"
          ],
          [
           "Washed / Wet"
          ],
          [
           "Pulped natural / Honey"
          ],
          [
           "Natural / Dry"
          ],
          [
           "Pulped natural / Honey"
          ],
          [
           "Washed / Wet"
          ],
          [
           "Pulped natural / Honey"
          ],
          [
           "Washed / Wet"
          ],
          [
           "Washed / Wet"
          ],
          [
           "Washed / Wet"
          ],
          [
           "Natural / Dry"
          ],
          [
           "Washed / Wet"
          ],
          [
           "Pulped natural / Honey"
          ],
          [
           "Natural / Dry"
          ],
          [
           "Natural / Dry"
          ],
          [
           "Washed / Wet"
          ],
          [
           "Washed / Wet"
          ],
          [
           "Natural / Dry"
          ],
          [
           "Washed / Wet"
          ],
          [
           "Pulped natural / Honey"
          ],
          [
           "Washed / Wet"
          ],
          [
           "Pulped natural / Honey"
          ],
          [
           "Pulped natural / Honey"
          ],
          [
           "Pulped natural / Honey"
          ]
         ],
         "hovertemplate": "Country of Origin=Taiwan<br>Altitude=%{x}<br>Total Cup Points=%{y}<br>Processing Method=%{customdata[0]}<extra></extra>",
         "legendgroup": "Taiwan",
         "marker": {
          "color": "#EF553B",
          "symbol": "circle"
         },
         "mode": "markers",
         "name": "Taiwan",
         "orientation": "v",
         "showlegend": true,
         "type": "scatter",
         "x": [
          1200,
          1250,
          1200,
          1250,
          1250,
          1100,
          1300,
          1200,
          850,
          1250,
          1300,
          1200,
          1060,
          200,
          200,
          668,
          1200,
          650,
          850,
          400,
          1000,
          800,
          150,
          800,
          375,
          230,
          1300,
          1400,
          1200,
          250,
          700,
          1250,
          1450,
          520,
          400,
          850,
          150,
          800,
          1250,
          300,
          325,
          275,
          1100,
          250,
          300,
          750,
          1150,
          250,
          340,
          275,
          1200,
          165,
          465,
          139,
          140,
          600,
          460,
          500,
          300,
          300,
          435
         ],
         "xaxis": "x",
         "y": [
          87.58,
          86.92,
          86.75,
          86.67,
          86.25,
          86.08,
          86.08,
          85.92,
          85.67,
          85.58,
          85.5,
          85.5,
          85.5,
          85.42,
          85.33,
          85.33,
          85.25,
          85.25,
          85.17,
          85.08,
          85.08,
          85.08,
          85,
          85,
          84.92,
          84.83,
          84.83,
          84.75,
          84.75,
          84.58,
          84.58,
          84.58,
          84.58,
          84.5,
          84.5,
          84.42,
          84.08,
          84.08,
          83.67,
          83.67,
          83.58,
          83.58,
          83.42,
          83.33,
          83.33,
          83.33,
          83.25,
          83.17,
          83.17,
          82.92,
          82.92,
          82.58,
          82.58,
          82.5,
          82.33,
          82.08,
          82.08,
          82,
          81.83,
          81.58,
          81.5
         ],
         "yaxis": "y"
        },
        {
         "customdata": [
          [
           "Washed / Wet"
          ],
          [
           "Natural / Dry"
          ],
          [
           "Washed / Wet"
          ]
         ],
         "hovertemplate": "Country of Origin=Laos<br>Altitude=%{x}<br>Total Cup Points=%{y}<br>Processing Method=%{customdata[0]}<extra></extra>",
         "legendgroup": "Laos",
         "marker": {
          "color": "#00cc96",
          "symbol": "circle"
         },
         "mode": "markers",
         "name": "Laos",
         "orientation": "v",
         "showlegend": true,
         "type": "scatter",
         "x": [
          1300,
          1250,
          1300
         ],
         "xaxis": "x",
         "y": [
          87.42,
          83.08,
          79.67
         ],
         "yaxis": "y"
        },
        {
         "customdata": [
          [
           "Washed / Wet"
          ],
          [
           "Washed / Wet"
          ],
          [
           "Washed / Wet"
          ],
          [
           "Washed / Wet"
          ],
          [
           "Washed / Wet"
          ],
          [
           "Pulped natural / Honey"
          ],
          [
           "Washed / Wet"
          ],
          [
           "Washed / Wet"
          ]
         ],
         "hovertemplate": "Country of Origin=Costa Rica<br>Altitude=%{x}<br>Total Cup Points=%{y}<br>Processing Method=%{customdata[0]}<extra></extra>",
         "legendgroup": "Costa Rica",
         "marker": {
          "color": "#ab63fa",
          "symbol": "circle"
         },
         "mode": "markers",
         "name": "Costa Rica",
         "orientation": "v",
         "showlegend": true,
         "type": "scatter",
         "x": [
          1900,
          1850,
          1900,
          1850,
          1850,
          1450,
          1500,
          1200
         ],
         "xaxis": "x",
         "y": [
          87.17,
          84.67,
          84.5,
          83.92,
          83.33,
          82.75,
          82,
          81.58
         ],
         "yaxis": "y"
        },
        {
         "customdata": [
          [
           "Washed / Wet"
          ],
          [
           "Natural / Dry"
          ],
          [
           "Natural / Dry"
          ],
          [
           "Washed / Wet"
          ],
          [
           "Washed / Wet"
          ],
          [
           "Washed / Wet"
          ],
          [
           "Washed / Wet"
          ],
          [
           "Natural / Dry"
          ],
          [
           "Washed / Wet"
          ],
          [
           "Washed / Wet"
          ],
          [
           "Washed / Wet"
          ],
          [
           "Washed / Wet"
          ],
          [
           "Washed / Wet"
          ],
          [
           "Natural / Dry"
          ],
          [
           "Washed / Wet"
          ],
          [
           "Natural / Dry"
          ],
          [
           "Washed / Wet"
          ],
          [
           "Washed / Wet"
          ],
          [
           "Washed / Wet"
          ],
          [
           "Washed / Wet"
          ],
          [
           "Washed / Wet"
          ]
         ],
         "hovertemplate": "Country of Origin=Guatemala<br>Altitude=%{x}<br>Total Cup Points=%{y}<br>Processing Method=%{customdata[0]}<extra></extra>",
         "legendgroup": "Guatemala",
         "marker": {
          "color": "#FFA15A",
          "symbol": "circle"
         },
         "mode": "markers",
         "name": "Guatemala",
         "orientation": "v",
         "showlegend": true,
         "type": "scatter",
         "x": [
          1668,
          2000,
          1900,
          1600,
          4700,
          1600,
          1600,
          4895,
          1350,
          1600,
          1600,
          1550,
          1550,
          1900,
          1600,
          1400,
          null,
          1600,
          1302.5,
          1450,
          1400
         ],
         "xaxis": "x",
         "y": [
          87,
          86.25,
          85.75,
          85,
          85,
          84.92,
          84.67,
          84.67,
          84.33,
          84.25,
          84.08,
          84.08,
          84,
          83.92,
          83.92,
          83.83,
          83.83,
          83.58,
          83.33,
          82,
          81.92
         ],
         "yaxis": "y"
        },
        {
         "customdata": [
          [
           "Washed / Wet"
          ],
          [
           "Washed / Wet"
          ],
          [
           "Washed / Wet"
          ],
          [
           "Washed / Wet"
          ],
          [
           "Washed / Wet"
          ],
          [
           "Washed / Wet"
          ]
         ],
         "hovertemplate": "Country of Origin=Tanzania, United Republic Of<br>Altitude=%{x}<br>Total Cup Points=%{y}<br>Processing Method=%{customdata[0]}<extra></extra>",
         "legendgroup": "Tanzania, United Republic Of",
         "marker": {
          "color": "#19d3f3",
          "symbol": "circle"
         },
         "mode": "markers",
         "name": "Tanzania, United Republic Of",
         "orientation": "v",
         "showlegend": true,
         "type": "scatter",
         "x": [
          1550,
          1585,
          1654,
          1675,
          1550,
          1550
         ],
         "xaxis": "x",
         "y": [
          86.5,
          85.83,
          84.83,
          84,
          84,
          83.25
         ],
         "yaxis": "y"
        },
        {
         "customdata": [
          [
           "Natural / Dry"
          ],
          [
           "Natural / Dry"
          ],
          [
           "Washed / Wet"
          ],
          [
           "Washed / Wet"
          ],
          [
           "Natural / Dry"
          ],
          [
           "Washed / Wet"
          ],
          [
           "Washed / Wet"
          ],
          [
           "Natural / Dry"
          ],
          [
           "Washed / Wet"
          ],
          [
           "Washed / Wet"
          ],
          [
           "Washed / Wet"
          ]
         ],
         "hovertemplate": "Country of Origin=Ethiopia<br>Altitude=%{x}<br>Total Cup Points=%{y}<br>Processing Method=%{customdata[0]}<extra></extra>",
         "legendgroup": "Ethiopia",
         "marker": {
          "color": "#FF6692",
          "symbol": "circle"
         },
         "mode": "markers",
         "name": "Ethiopia",
         "orientation": "v",
         "showlegend": true,
         "type": "scatter",
         "x": [
          2000,
          1950,
          2000,
          1950,
          2250,
          1700,
          1943,
          2361,
          1800,
          2000,
          1700
         ],
         "xaxis": "x",
         "y": [
          86.25,
          86.17,
          86.08,
          85.33,
          85.33,
          85.25,
          84.5,
          84.33,
          84,
          83.83,
          83.5
         ],
         "yaxis": "y"
        },
        {
         "customdata": [
          [
           "Pulped natural / Honey"
          ],
          [
           "Natural / Dry"
          ],
          [
           "Washed / Wet"
          ],
          [
           "Washed / Wet"
          ],
          [
           "Washed / Wet"
          ],
          [
           "Washed / Wet"
          ],
          [
           "Washed / Wet"
          ],
          [
           "Natural / Dry"
          ],
          [
           "Washed / Wet"
          ],
          [
           "Washed / Wet"
          ],
          [
           "Natural / Dry"
          ],
          [
           "Washed / Wet"
          ]
         ],
         "hovertemplate": "Country of Origin=Thailand<br>Altitude=%{x}<br>Total Cup Points=%{y}<br>Processing Method=%{customdata[0]}<extra></extra>",
         "legendgroup": "Thailand",
         "marker": {
          "color": "#B6E880",
          "symbol": "circle"
         },
         "mode": "markers",
         "name": "Thailand",
         "orientation": "v",
         "showlegend": true,
         "type": "scatter",
         "x": [
          1600,
          1350,
          1390,
          1450,
          1400,
          1400,
          1390,
          1200,
          1000,
          1400,
          1400,
          700
         ],
         "xaxis": "x",
         "y": [
          85.67,
          83.92,
          83.5,
          83.42,
          83.33,
          82.83,
          82.67,
          82.67,
          82,
          81.42,
          81.33,
          81.17
         ],
         "yaxis": "y"
        },
        {
         "customdata": [
          [
           "Pulped natural / Honey"
          ],
          [
           "Natural / Dry"
          ],
          [
           "Natural / Dry"
          ],
          [
           "Natural / Dry"
          ],
          [
           "Pulped natural / Honey"
          ],
          [
           "Natural / Dry"
          ],
          [
           "Natural / Dry"
          ],
          [
           "Natural / Dry"
          ],
          [
           "Natural / Dry"
          ],
          [
           "Washed / Wet"
          ]
         ],
         "hovertemplate": "Country of Origin=Brazil<br>Altitude=%{x}<br>Total Cup Points=%{y}<br>Processing Method=%{customdata[0]}<extra></extra>",
         "legendgroup": "Brazil",
         "marker": {
          "color": "#FF97FF",
          "symbol": "circle"
         },
         "mode": "markers",
         "name": "Brazil",
         "orientation": "v",
         "showlegend": true,
         "type": "scatter",
         "x": [
          1250,
          1100,
          950,
          1100,
          1000,
          950,
          1200,
          1200,
          950,
          975
         ],
         "xaxis": "x",
         "y": [
          85.5,
          84.75,
          83.25,
          82.5,
          81.83,
          81.75,
          81,
          80.17,
          80.08,
          78
         ],
         "yaxis": "y"
        },
        {
         "customdata": [
          [
           "Washed / Wet"
          ],
          [
           "Washed / Wet"
          ],
          [
           "Washed / Wet"
          ],
          [
           "Washed / Wet"
          ],
          [
           "Washed / Wet"
          ]
         ],
         "hovertemplate": "Country of Origin=United States (Hawaii)<br>Altitude=%{x}<br>Total Cup Points=%{y}<br>Processing Method=%{customdata[0]}<extra></extra>",
         "legendgroup": "United States (Hawaii)",
         "marker": {
          "color": "#FECB52",
          "symbol": "circle"
         },
         "mode": "markers",
         "name": "United States (Hawaii)",
         "orientation": "v",
         "showlegend": true,
         "type": "scatter",
         "x": [
          600,
          1300,
          500,
          640,
          1200
         ],
         "xaxis": "x",
         "y": [
          85.42,
          84.33,
          83.83,
          82.5,
          82.17
         ],
         "yaxis": "y"
        },
        {
         "customdata": [
          [
           "Washed / Wet"
          ],
          [
           "Washed / Wet"
          ]
         ],
         "hovertemplate": "Country of Origin=Kenya<br>Altitude=%{x}<br>Total Cup Points=%{y}<br>Processing Method=%{customdata[0]}<extra></extra>",
         "legendgroup": "Kenya",
         "marker": {
          "color": "#636efa",
          "symbol": "circle"
         },
         "mode": "markers",
         "name": "Kenya",
         "orientation": "v",
         "showlegend": true,
         "type": "scatter",
         "x": [
          1750,
          1725
         ],
         "xaxis": "x",
         "y": [
          85.25,
          82.17
         ],
         "yaxis": "y"
        },
        {
         "customdata": [
          [
           "Washed / Wet"
          ],
          [
           "Washed / Wet"
          ],
          [
           "Washed / Wet"
          ]
         ],
         "hovertemplate": "Country of Origin=Uganda<br>Altitude=%{x}<br>Total Cup Points=%{y}<br>Processing Method=%{customdata[0]}<extra></extra>",
         "legendgroup": "Uganda",
         "marker": {
          "color": "#EF553B",
          "symbol": "circle"
         },
         "mode": "markers",
         "name": "Uganda",
         "orientation": "v",
         "showlegend": true,
         "type": "scatter",
         "x": [
          1905,
          1650,
          1905
         ],
         "xaxis": "x",
         "y": [
          85,
          83.42,
          83.33
         ],
         "yaxis": "y"
        },
        {
         "customdata": [
          [
           "Natural / Dry"
          ],
          [
           "Washed / Wet"
          ],
          [
           "Pulped natural / Honey"
          ]
         ],
         "hovertemplate": "Country of Origin=Indonesia<br>Altitude=%{x}<br>Total Cup Points=%{y}<br>Processing Method=%{customdata[0]}<extra></extra>",
         "legendgroup": "Indonesia",
         "marker": {
          "color": "#00cc96",
          "symbol": "circle"
         },
         "mode": "markers",
         "name": "Indonesia",
         "orientation": "v",
         "showlegend": true,
         "type": "scatter",
         "x": [
          1200,
          1300,
          1350
         ],
         "xaxis": "x",
         "y": [
          84.83,
          84.25,
          82
         ],
         "yaxis": "y"
        },
        {
         "customdata": [
          [
           "Washed / Wet"
          ],
          [
           "Washed / Wet"
          ],
          [
           "Washed / Wet"
          ],
          [
           "Washed / Wet"
          ]
         ],
         "hovertemplate": "Country of Origin=Peru<br>Altitude=%{x}<br>Total Cup Points=%{y}<br>Processing Method=%{customdata[0]}<extra></extra>",
         "legendgroup": "Peru",
         "marker": {
          "color": "#ab63fa",
          "symbol": "circle"
         },
         "mode": "markers",
         "name": "Peru",
         "orientation": "v",
         "showlegend": true,
         "type": "scatter",
         "x": [
          1750,
          1600,
          1600,
          1600
         ],
         "xaxis": "x",
         "y": [
          84.83,
          82.25,
          81.92,
          80.33
         ],
         "yaxis": "y"
        },
        {
         "customdata": [
          [
           "Washed / Wet"
          ],
          [
           "Washed / Wet"
          ]
         ],
         "hovertemplate": "Country of Origin=Panama<br>Altitude=%{x}<br>Total Cup Points=%{y}<br>Processing Method=%{customdata[0]}<extra></extra>",
         "legendgroup": "Panama",
         "marker": {
          "color": "#FFA15A",
          "symbol": "circle"
         },
         "mode": "markers",
         "name": "Panama",
         "orientation": "v",
         "showlegend": true,
         "type": "scatter",
         "x": [
          1200,
          1200
         ],
         "xaxis": "x",
         "y": [
          84.75,
          82.5
         ],
         "yaxis": "y"
        },
        {
         "customdata": [
          [
           "Natural / Dry"
          ],
          [
           "Natural / Dry"
          ],
          [
           "Washed / Wet"
          ],
          [
           "Washed / Wet"
          ],
          [
           "Washed / Wet"
          ],
          [
           "Washed / Wet"
          ],
          [
           "Natural / Dry"
          ]
         ],
         "hovertemplate": "Country of Origin=Nicaragua<br>Altitude=%{x}<br>Total Cup Points=%{y}<br>Processing Method=%{customdata[0]}<extra></extra>",
         "legendgroup": "Nicaragua",
         "marker": {
          "color": "#19d3f3",
          "symbol": "circle"
         },
         "mode": "markers",
         "name": "Nicaragua",
         "orientation": "v",
         "showlegend": true,
         "type": "scatter",
         "x": [
          1350,
          1200,
          1350,
          1275,
          1100,
          1000,
          1200
         ],
         "xaxis": "x",
         "y": [
          84.58,
          82.75,
          82.58,
          82.42,
          80.5,
          80.42,
          80
         ],
         "yaxis": "y"
        },
        {
         "customdata": [
          [
           "Natural / Dry"
          ],
          [
           "Pulped natural / Honey"
          ],
          [
           "Washed / Wet"
          ],
          [
           "Pulped natural / Honey"
          ]
         ],
         "hovertemplate": "Country of Origin=Vietnam<br>Altitude=%{x}<br>Total Cup Points=%{y}<br>Processing Method=%{customdata[0]}<extra></extra>",
         "legendgroup": "Vietnam",
         "marker": {
          "color": "#FF6692",
          "symbol": "circle"
         },
         "mode": "markers",
         "name": "Vietnam",
         "orientation": "v",
         "showlegend": true,
         "type": "scatter",
         "x": [
          650,
          900,
          1040,
          5400
         ],
         "xaxis": "x",
         "y": [
          84.58,
          82.83,
          82.33,
          81.83
         ],
         "yaxis": "y"
        },
        {
         "customdata": [
          [
           "Washed / Wet"
          ],
          [
           "Washed / Wet"
          ],
          [
           "Pulped natural / Honey"
          ],
          [
           "Natural / Dry"
          ],
          [
           "Washed / Wet"
          ],
          [
           "Washed / Wet"
          ],
          [
           "Washed / Wet"
          ],
          [
           "Washed / Wet"
          ],
          [
           "Washed / Wet"
          ],
          [
           "Washed / Wet"
          ],
          [
           "Washed / Wet"
          ],
          [
           "Washed / Wet"
          ],
          [
           "Washed / Wet"
          ]
         ],
         "hovertemplate": "Country of Origin=Honduras<br>Altitude=%{x}<br>Total Cup Points=%{y}<br>Processing Method=%{customdata[0]}<extra></extra>",
         "legendgroup": "Honduras",
         "marker": {
          "color": "#B6E880",
          "symbol": "circle"
         },
         "mode": "markers",
         "name": "Honduras",
         "orientation": "v",
         "showlegend": true,
         "type": "scatter",
         "x": [
          1368,
          1368,
          1800,
          1470,
          1400,
          1600,
          1400,
          1368,
          1450,
          1280,
          1450,
          1368,
          1368
         ],
         "xaxis": "x",
         "y": [
          84.5,
          84.17,
          84,
          83.67,
          83.5,
          83.25,
          83.25,
          83.08,
          83.08,
          82.83,
          82.67,
          82.5,
          82.17
         ],
         "yaxis": "y"
        },
        {
         "customdata": [
          [
           "Pulped natural / Honey"
          ],
          [
           "Washed / Wet"
          ],
          [
           "Washed / Wet"
          ],
          [
           "Washed / Wet"
          ],
          [
           "Natural / Dry"
          ],
          [
           "Natural / Dry"
          ],
          [
           "Natural / Dry"
          ]
         ],
         "hovertemplate": "Country of Origin=El Salvador<br>Altitude=%{x}<br>Total Cup Points=%{y}<br>Processing Method=%{customdata[0]}<extra></extra>",
         "legendgroup": "El Salvador",
         "marker": {
          "color": "#FF97FF",
          "symbol": "circle"
         },
         "mode": "markers",
         "name": "El Salvador",
         "orientation": "v",
         "showlegend": true,
         "type": "scatter",
         "x": [
          1500,
          1200,
          1200,
          1200,
          1400,
          1300,
          1200
         ],
         "xaxis": "x",
         "y": [
          84.33,
          82.5,
          82.33,
          82.33,
          80.83,
          80.33,
          78.08
         ],
         "yaxis": "y"
        },
        {
         "customdata": [
          [
           "Washed / Wet"
          ]
         ],
         "hovertemplate": "Country of Origin=Madagascar<br>Altitude=%{x}<br>Total Cup Points=%{y}<br>Processing Method=%{customdata[0]}<extra></extra>",
         "legendgroup": "Madagascar",
         "marker": {
          "color": "#FECB52",
          "symbol": "circle"
         },
         "mode": "markers",
         "name": "Madagascar",
         "orientation": "v",
         "showlegend": true,
         "type": "scatter",
         "x": [
          1500
         ],
         "xaxis": "x",
         "y": [
          84.25
         ],
         "yaxis": "y"
        },
        {
         "customdata": [
          [
           "Washed / Wet"
          ],
          [
           "Washed / Wet"
          ],
          [
           "Washed / Wet"
          ],
          [
           "Washed / Wet"
          ]
         ],
         "hovertemplate": "Country of Origin=Mexico<br>Altitude=%{x}<br>Total Cup Points=%{y}<br>Processing Method=%{customdata[0]}<extra></extra>",
         "legendgroup": "Mexico",
         "marker": {
          "color": "#636efa",
          "symbol": "circle"
         },
         "mode": "markers",
         "name": "Mexico",
         "orientation": "v",
         "showlegend": true,
         "type": "scatter",
         "x": [
          1200,
          1350,
          1340,
          1200
         ],
         "xaxis": "x",
         "y": [
          83.75,
          82.92,
          82.5,
          81.67
         ],
         "yaxis": "y"
        },
        {
         "customdata": [
          [
           "Natural / Dry"
          ]
         ],
         "hovertemplate": "Country of Origin=Myanmar<br>Altitude=%{x}<br>Total Cup Points=%{y}<br>Processing Method=%{customdata[0]}<extra></extra>",
         "legendgroup": "Myanmar",
         "marker": {
          "color": "#EF553B",
          "symbol": "circle"
         },
         "mode": "markers",
         "name": "Myanmar",
         "orientation": "v",
         "showlegend": true,
         "type": "scatter",
         "x": [
          1400
         ],
         "xaxis": "x",
         "y": [
          83.67
         ],
         "yaxis": "y"
        }
       ],
       "layout": {
        "legend": {
         "title": {
          "text": "Country of Origin"
         },
         "tracegroupgap": 0
        },
        "margin": {
         "t": 60
        },
        "template": {
         "data": {
          "bar": [
           {
            "error_x": {
             "color": "#2a3f5f"
            },
            "error_y": {
             "color": "#2a3f5f"
            },
            "marker": {
             "line": {
              "color": "#E5ECF6",
              "width": 0.5
             },
             "pattern": {
              "fillmode": "overlay",
              "size": 10,
              "solidity": 0.2
             }
            },
            "type": "bar"
           }
          ],
          "barpolar": [
           {
            "marker": {
             "line": {
              "color": "#E5ECF6",
              "width": 0.5
             },
             "pattern": {
              "fillmode": "overlay",
              "size": 10,
              "solidity": 0.2
             }
            },
            "type": "barpolar"
           }
          ],
          "carpet": [
           {
            "aaxis": {
             "endlinecolor": "#2a3f5f",
             "gridcolor": "white",
             "linecolor": "white",
             "minorgridcolor": "white",
             "startlinecolor": "#2a3f5f"
            },
            "baxis": {
             "endlinecolor": "#2a3f5f",
             "gridcolor": "white",
             "linecolor": "white",
             "minorgridcolor": "white",
             "startlinecolor": "#2a3f5f"
            },
            "type": "carpet"
           }
          ],
          "choropleth": [
           {
            "colorbar": {
             "outlinewidth": 0,
             "ticks": ""
            },
            "type": "choropleth"
           }
          ],
          "contour": [
           {
            "colorbar": {
             "outlinewidth": 0,
             "ticks": ""
            },
            "colorscale": [
             [
              0,
              "#0d0887"
             ],
             [
              0.1111111111111111,
              "#46039f"
             ],
             [
              0.2222222222222222,
              "#7201a8"
             ],
             [
              0.3333333333333333,
              "#9c179e"
             ],
             [
              0.4444444444444444,
              "#bd3786"
             ],
             [
              0.5555555555555556,
              "#d8576b"
             ],
             [
              0.6666666666666666,
              "#ed7953"
             ],
             [
              0.7777777777777778,
              "#fb9f3a"
             ],
             [
              0.8888888888888888,
              "#fdca26"
             ],
             [
              1,
              "#f0f921"
             ]
            ],
            "type": "contour"
           }
          ],
          "contourcarpet": [
           {
            "colorbar": {
             "outlinewidth": 0,
             "ticks": ""
            },
            "type": "contourcarpet"
           }
          ],
          "heatmap": [
           {
            "colorbar": {
             "outlinewidth": 0,
             "ticks": ""
            },
            "colorscale": [
             [
              0,
              "#0d0887"
             ],
             [
              0.1111111111111111,
              "#46039f"
             ],
             [
              0.2222222222222222,
              "#7201a8"
             ],
             [
              0.3333333333333333,
              "#9c179e"
             ],
             [
              0.4444444444444444,
              "#bd3786"
             ],
             [
              0.5555555555555556,
              "#d8576b"
             ],
             [
              0.6666666666666666,
              "#ed7953"
             ],
             [
              0.7777777777777778,
              "#fb9f3a"
             ],
             [
              0.8888888888888888,
              "#fdca26"
             ],
             [
              1,
              "#f0f921"
             ]
            ],
            "type": "heatmap"
           }
          ],
          "heatmapgl": [
           {
            "colorbar": {
             "outlinewidth": 0,
             "ticks": ""
            },
            "colorscale": [
             [
              0,
              "#0d0887"
             ],
             [
              0.1111111111111111,
              "#46039f"
             ],
             [
              0.2222222222222222,
              "#7201a8"
             ],
             [
              0.3333333333333333,
              "#9c179e"
             ],
             [
              0.4444444444444444,
              "#bd3786"
             ],
             [
              0.5555555555555556,
              "#d8576b"
             ],
             [
              0.6666666666666666,
              "#ed7953"
             ],
             [
              0.7777777777777778,
              "#fb9f3a"
             ],
             [
              0.8888888888888888,
              "#fdca26"
             ],
             [
              1,
              "#f0f921"
             ]
            ],
            "type": "heatmapgl"
           }
          ],
          "histogram": [
           {
            "marker": {
             "pattern": {
              "fillmode": "overlay",
              "size": 10,
              "solidity": 0.2
             }
            },
            "type": "histogram"
           }
          ],
          "histogram2d": [
           {
            "colorbar": {
             "outlinewidth": 0,
             "ticks": ""
            },
            "colorscale": [
             [
              0,
              "#0d0887"
             ],
             [
              0.1111111111111111,
              "#46039f"
             ],
             [
              0.2222222222222222,
              "#7201a8"
             ],
             [
              0.3333333333333333,
              "#9c179e"
             ],
             [
              0.4444444444444444,
              "#bd3786"
             ],
             [
              0.5555555555555556,
              "#d8576b"
             ],
             [
              0.6666666666666666,
              "#ed7953"
             ],
             [
              0.7777777777777778,
              "#fb9f3a"
             ],
             [
              0.8888888888888888,
              "#fdca26"
             ],
             [
              1,
              "#f0f921"
             ]
            ],
            "type": "histogram2d"
           }
          ],
          "histogram2dcontour": [
           {
            "colorbar": {
             "outlinewidth": 0,
             "ticks": ""
            },
            "colorscale": [
             [
              0,
              "#0d0887"
             ],
             [
              0.1111111111111111,
              "#46039f"
             ],
             [
              0.2222222222222222,
              "#7201a8"
             ],
             [
              0.3333333333333333,
              "#9c179e"
             ],
             [
              0.4444444444444444,
              "#bd3786"
             ],
             [
              0.5555555555555556,
              "#d8576b"
             ],
             [
              0.6666666666666666,
              "#ed7953"
             ],
             [
              0.7777777777777778,
              "#fb9f3a"
             ],
             [
              0.8888888888888888,
              "#fdca26"
             ],
             [
              1,
              "#f0f921"
             ]
            ],
            "type": "histogram2dcontour"
           }
          ],
          "mesh3d": [
           {
            "colorbar": {
             "outlinewidth": 0,
             "ticks": ""
            },
            "type": "mesh3d"
           }
          ],
          "parcoords": [
           {
            "line": {
             "colorbar": {
              "outlinewidth": 0,
              "ticks": ""
             }
            },
            "type": "parcoords"
           }
          ],
          "pie": [
           {
            "automargin": true,
            "type": "pie"
           }
          ],
          "scatter": [
           {
            "fillpattern": {
             "fillmode": "overlay",
             "size": 10,
             "solidity": 0.2
            },
            "type": "scatter"
           }
          ],
          "scatter3d": [
           {
            "line": {
             "colorbar": {
              "outlinewidth": 0,
              "ticks": ""
             }
            },
            "marker": {
             "colorbar": {
              "outlinewidth": 0,
              "ticks": ""
             }
            },
            "type": "scatter3d"
           }
          ],
          "scattercarpet": [
           {
            "marker": {
             "colorbar": {
              "outlinewidth": 0,
              "ticks": ""
             }
            },
            "type": "scattercarpet"
           }
          ],
          "scattergeo": [
           {
            "marker": {
             "colorbar": {
              "outlinewidth": 0,
              "ticks": ""
             }
            },
            "type": "scattergeo"
           }
          ],
          "scattergl": [
           {
            "marker": {
             "colorbar": {
              "outlinewidth": 0,
              "ticks": ""
             }
            },
            "type": "scattergl"
           }
          ],
          "scattermapbox": [
           {
            "marker": {
             "colorbar": {
              "outlinewidth": 0,
              "ticks": ""
             }
            },
            "type": "scattermapbox"
           }
          ],
          "scatterpolar": [
           {
            "marker": {
             "colorbar": {
              "outlinewidth": 0,
              "ticks": ""
             }
            },
            "type": "scatterpolar"
           }
          ],
          "scatterpolargl": [
           {
            "marker": {
             "colorbar": {
              "outlinewidth": 0,
              "ticks": ""
             }
            },
            "type": "scatterpolargl"
           }
          ],
          "scatterternary": [
           {
            "marker": {
             "colorbar": {
              "outlinewidth": 0,
              "ticks": ""
             }
            },
            "type": "scatterternary"
           }
          ],
          "surface": [
           {
            "colorbar": {
             "outlinewidth": 0,
             "ticks": ""
            },
            "colorscale": [
             [
              0,
              "#0d0887"
             ],
             [
              0.1111111111111111,
              "#46039f"
             ],
             [
              0.2222222222222222,
              "#7201a8"
             ],
             [
              0.3333333333333333,
              "#9c179e"
             ],
             [
              0.4444444444444444,
              "#bd3786"
             ],
             [
              0.5555555555555556,
              "#d8576b"
             ],
             [
              0.6666666666666666,
              "#ed7953"
             ],
             [
              0.7777777777777778,
              "#fb9f3a"
             ],
             [
              0.8888888888888888,
              "#fdca26"
             ],
             [
              1,
              "#f0f921"
             ]
            ],
            "type": "surface"
           }
          ],
          "table": [
           {
            "cells": {
             "fill": {
              "color": "#EBF0F8"
             },
             "line": {
              "color": "white"
             }
            },
            "header": {
             "fill": {
              "color": "#C8D4E3"
             },
             "line": {
              "color": "white"
             }
            },
            "type": "table"
           }
          ]
         },
         "layout": {
          "annotationdefaults": {
           "arrowcolor": "#2a3f5f",
           "arrowhead": 0,
           "arrowwidth": 1
          },
          "autotypenumbers": "strict",
          "coloraxis": {
           "colorbar": {
            "outlinewidth": 0,
            "ticks": ""
           }
          },
          "colorscale": {
           "diverging": [
            [
             0,
             "#8e0152"
            ],
            [
             0.1,
             "#c51b7d"
            ],
            [
             0.2,
             "#de77ae"
            ],
            [
             0.3,
             "#f1b6da"
            ],
            [
             0.4,
             "#fde0ef"
            ],
            [
             0.5,
             "#f7f7f7"
            ],
            [
             0.6,
             "#e6f5d0"
            ],
            [
             0.7,
             "#b8e186"
            ],
            [
             0.8,
             "#7fbc41"
            ],
            [
             0.9,
             "#4d9221"
            ],
            [
             1,
             "#276419"
            ]
           ],
           "sequential": [
            [
             0,
             "#0d0887"
            ],
            [
             0.1111111111111111,
             "#46039f"
            ],
            [
             0.2222222222222222,
             "#7201a8"
            ],
            [
             0.3333333333333333,
             "#9c179e"
            ],
            [
             0.4444444444444444,
             "#bd3786"
            ],
            [
             0.5555555555555556,
             "#d8576b"
            ],
            [
             0.6666666666666666,
             "#ed7953"
            ],
            [
             0.7777777777777778,
             "#fb9f3a"
            ],
            [
             0.8888888888888888,
             "#fdca26"
            ],
            [
             1,
             "#f0f921"
            ]
           ],
           "sequentialminus": [
            [
             0,
             "#0d0887"
            ],
            [
             0.1111111111111111,
             "#46039f"
            ],
            [
             0.2222222222222222,
             "#7201a8"
            ],
            [
             0.3333333333333333,
             "#9c179e"
            ],
            [
             0.4444444444444444,
             "#bd3786"
            ],
            [
             0.5555555555555556,
             "#d8576b"
            ],
            [
             0.6666666666666666,
             "#ed7953"
            ],
            [
             0.7777777777777778,
             "#fb9f3a"
            ],
            [
             0.8888888888888888,
             "#fdca26"
            ],
            [
             1,
             "#f0f921"
            ]
           ]
          },
          "colorway": [
           "#636efa",
           "#EF553B",
           "#00cc96",
           "#ab63fa",
           "#FFA15A",
           "#19d3f3",
           "#FF6692",
           "#B6E880",
           "#FF97FF",
           "#FECB52"
          ],
          "font": {
           "color": "#2a3f5f"
          },
          "geo": {
           "bgcolor": "white",
           "lakecolor": "white",
           "landcolor": "#E5ECF6",
           "showlakes": true,
           "showland": true,
           "subunitcolor": "white"
          },
          "hoverlabel": {
           "align": "left"
          },
          "hovermode": "closest",
          "mapbox": {
           "style": "light"
          },
          "paper_bgcolor": "white",
          "plot_bgcolor": "#E5ECF6",
          "polar": {
           "angularaxis": {
            "gridcolor": "white",
            "linecolor": "white",
            "ticks": ""
           },
           "bgcolor": "#E5ECF6",
           "radialaxis": {
            "gridcolor": "white",
            "linecolor": "white",
            "ticks": ""
           }
          },
          "scene": {
           "xaxis": {
            "backgroundcolor": "#E5ECF6",
            "gridcolor": "white",
            "gridwidth": 2,
            "linecolor": "white",
            "showbackground": true,
            "ticks": "",
            "zerolinecolor": "white"
           },
           "yaxis": {
            "backgroundcolor": "#E5ECF6",
            "gridcolor": "white",
            "gridwidth": 2,
            "linecolor": "white",
            "showbackground": true,
            "ticks": "",
            "zerolinecolor": "white"
           },
           "zaxis": {
            "backgroundcolor": "#E5ECF6",
            "gridcolor": "white",
            "gridwidth": 2,
            "linecolor": "white",
            "showbackground": true,
            "ticks": "",
            "zerolinecolor": "white"
           }
          },
          "shapedefaults": {
           "line": {
            "color": "#2a3f5f"
           }
          },
          "ternary": {
           "aaxis": {
            "gridcolor": "white",
            "linecolor": "white",
            "ticks": ""
           },
           "baxis": {
            "gridcolor": "white",
            "linecolor": "white",
            "ticks": ""
           },
           "bgcolor": "#E5ECF6",
           "caxis": {
            "gridcolor": "white",
            "linecolor": "white",
            "ticks": ""
           }
          },
          "title": {
           "x": 0.05
          },
          "xaxis": {
           "automargin": true,
           "gridcolor": "white",
           "linecolor": "white",
           "ticks": "",
           "title": {
            "standoff": 15
           },
           "zerolinecolor": "white",
           "zerolinewidth": 2
          },
          "yaxis": {
           "automargin": true,
           "gridcolor": "white",
           "linecolor": "white",
           "ticks": "",
           "title": {
            "standoff": 15
           },
           "zerolinecolor": "white",
           "zerolinewidth": 2
          }
         }
        },
        "xaxis": {
         "anchor": "y",
         "domain": [
          0,
          1
         ],
         "title": {
          "text": "Altitude"
         }
        },
        "yaxis": {
         "anchor": "x",
         "domain": [
          0,
          1
         ],
         "title": {
          "text": "Total Cup Points"
         }
        }
       }
      }
     },
     "metadata": {},
     "output_type": "display_data"
    }
   ],
   "source": [
    "proc_method_altitude = px.scatter(\n",
    "    df_coffee,\n",
    "    x='Altitude',\n",
    "    y='Total Cup Points',\n",
    "    color='Country of Origin',\n",
    "    # size='Total Cup Points',\n",
    "    hover_data='Processing Method',\n",
    ")\n",
    "\n",
    "proc_method_altitude.show()"
   ]
  },
  {
   "cell_type": "code",
   "execution_count": 118,
   "metadata": {},
   "outputs": [
    {
     "data": {
      "application/vnd.plotly.v1+json": {
       "config": {
        "plotlyServerURL": "https://plot.ly"
       },
       "data": [
        {
         "alignmentgroup": "True",
         "hovertemplate": "Country of Origin=%{x}<br>Altitude=%{y}<extra></extra>",
         "legendgroup": "Colombia",
         "marker": {
          "color": "#636efa"
         },
         "name": "Colombia",
         "notched": false,
         "offsetgroup": "Colombia",
         "orientation": "v",
         "showlegend": true,
         "type": "box",
         "x": [
          "Colombia",
          "Colombia",
          "Colombia",
          "Colombia",
          "Colombia",
          "Colombia",
          "Colombia",
          "Colombia",
          "Colombia",
          "Colombia",
          "Colombia",
          "Colombia",
          "Colombia",
          "Colombia",
          "Colombia",
          "Colombia",
          "Colombia",
          "Colombia",
          "Colombia"
         ],
         "x0": " ",
         "xaxis": "x",
         "y": [
          1815,
          1975,
          1850,
          1350,
          2100,
          1550,
          1411,
          1700,
          1800,
          null,
          1700,
          1100,
          1390,
          1650,
          1350,
          1700,
          1574,
          1550,
          1600
         ],
         "y0": " ",
         "yaxis": "y"
        },
        {
         "alignmentgroup": "True",
         "hovertemplate": "Country of Origin=%{x}<br>Altitude=%{y}<extra></extra>",
         "legendgroup": "Taiwan",
         "marker": {
          "color": "#EF553B"
         },
         "name": "Taiwan",
         "notched": false,
         "offsetgroup": "Taiwan",
         "orientation": "v",
         "showlegend": true,
         "type": "box",
         "x": [
          "Taiwan",
          "Taiwan",
          "Taiwan",
          "Taiwan",
          "Taiwan",
          "Taiwan",
          "Taiwan",
          "Taiwan",
          "Taiwan",
          "Taiwan",
          "Taiwan",
          "Taiwan",
          "Taiwan",
          "Taiwan",
          "Taiwan",
          "Taiwan",
          "Taiwan",
          "Taiwan",
          "Taiwan",
          "Taiwan",
          "Taiwan",
          "Taiwan",
          "Taiwan",
          "Taiwan",
          "Taiwan",
          "Taiwan",
          "Taiwan",
          "Taiwan",
          "Taiwan",
          "Taiwan",
          "Taiwan",
          "Taiwan",
          "Taiwan",
          "Taiwan",
          "Taiwan",
          "Taiwan",
          "Taiwan",
          "Taiwan",
          "Taiwan",
          "Taiwan",
          "Taiwan",
          "Taiwan",
          "Taiwan",
          "Taiwan",
          "Taiwan",
          "Taiwan",
          "Taiwan",
          "Taiwan",
          "Taiwan",
          "Taiwan",
          "Taiwan",
          "Taiwan",
          "Taiwan",
          "Taiwan",
          "Taiwan",
          "Taiwan",
          "Taiwan",
          "Taiwan",
          "Taiwan",
          "Taiwan",
          "Taiwan"
         ],
         "x0": " ",
         "xaxis": "x",
         "y": [
          1200,
          1250,
          1200,
          1250,
          1250,
          1100,
          1300,
          1200,
          850,
          1250,
          1300,
          1200,
          1060,
          200,
          200,
          668,
          1200,
          650,
          850,
          400,
          1000,
          800,
          150,
          800,
          375,
          230,
          1300,
          1400,
          1200,
          250,
          700,
          1250,
          1450,
          520,
          400,
          850,
          150,
          800,
          1250,
          300,
          325,
          275,
          1100,
          250,
          300,
          750,
          1150,
          250,
          340,
          275,
          1200,
          165,
          465,
          139,
          140,
          600,
          460,
          500,
          300,
          300,
          435
         ],
         "y0": " ",
         "yaxis": "y"
        },
        {
         "alignmentgroup": "True",
         "hovertemplate": "Country of Origin=%{x}<br>Altitude=%{y}<extra></extra>",
         "legendgroup": "Laos",
         "marker": {
          "color": "#00cc96"
         },
         "name": "Laos",
         "notched": false,
         "offsetgroup": "Laos",
         "orientation": "v",
         "showlegend": true,
         "type": "box",
         "x": [
          "Laos",
          "Laos",
          "Laos"
         ],
         "x0": " ",
         "xaxis": "x",
         "y": [
          1300,
          1250,
          1300
         ],
         "y0": " ",
         "yaxis": "y"
        },
        {
         "alignmentgroup": "True",
         "hovertemplate": "Country of Origin=%{x}<br>Altitude=%{y}<extra></extra>",
         "legendgroup": "Costa Rica",
         "marker": {
          "color": "#ab63fa"
         },
         "name": "Costa Rica",
         "notched": false,
         "offsetgroup": "Costa Rica",
         "orientation": "v",
         "showlegend": true,
         "type": "box",
         "x": [
          "Costa Rica",
          "Costa Rica",
          "Costa Rica",
          "Costa Rica",
          "Costa Rica",
          "Costa Rica",
          "Costa Rica",
          "Costa Rica"
         ],
         "x0": " ",
         "xaxis": "x",
         "y": [
          1900,
          1850,
          1900,
          1850,
          1850,
          1450,
          1500,
          1200
         ],
         "y0": " ",
         "yaxis": "y"
        },
        {
         "alignmentgroup": "True",
         "hovertemplate": "Country of Origin=%{x}<br>Altitude=%{y}<extra></extra>",
         "legendgroup": "Guatemala",
         "marker": {
          "color": "#FFA15A"
         },
         "name": "Guatemala",
         "notched": false,
         "offsetgroup": "Guatemala",
         "orientation": "v",
         "showlegend": true,
         "type": "box",
         "x": [
          "Guatemala",
          "Guatemala",
          "Guatemala",
          "Guatemala",
          "Guatemala",
          "Guatemala",
          "Guatemala",
          "Guatemala",
          "Guatemala",
          "Guatemala",
          "Guatemala",
          "Guatemala",
          "Guatemala",
          "Guatemala",
          "Guatemala",
          "Guatemala",
          "Guatemala",
          "Guatemala",
          "Guatemala",
          "Guatemala",
          "Guatemala"
         ],
         "x0": " ",
         "xaxis": "x",
         "y": [
          1668,
          2000,
          1900,
          1600,
          4700,
          1600,
          1600,
          4895,
          1350,
          1600,
          1600,
          1550,
          1550,
          1900,
          1600,
          1400,
          null,
          1600,
          1302.5,
          1450,
          1400
         ],
         "y0": " ",
         "yaxis": "y"
        },
        {
         "alignmentgroup": "True",
         "hovertemplate": "Country of Origin=%{x}<br>Altitude=%{y}<extra></extra>",
         "legendgroup": "Tanzania, United Republic Of",
         "marker": {
          "color": "#19d3f3"
         },
         "name": "Tanzania, United Republic Of",
         "notched": false,
         "offsetgroup": "Tanzania, United Republic Of",
         "orientation": "v",
         "showlegend": true,
         "type": "box",
         "x": [
          "Tanzania, United Republic Of",
          "Tanzania, United Republic Of",
          "Tanzania, United Republic Of",
          "Tanzania, United Republic Of",
          "Tanzania, United Republic Of",
          "Tanzania, United Republic Of"
         ],
         "x0": " ",
         "xaxis": "x",
         "y": [
          1550,
          1585,
          1654,
          1675,
          1550,
          1550
         ],
         "y0": " ",
         "yaxis": "y"
        },
        {
         "alignmentgroup": "True",
         "hovertemplate": "Country of Origin=%{x}<br>Altitude=%{y}<extra></extra>",
         "legendgroup": "Ethiopia",
         "marker": {
          "color": "#FF6692"
         },
         "name": "Ethiopia",
         "notched": false,
         "offsetgroup": "Ethiopia",
         "orientation": "v",
         "showlegend": true,
         "type": "box",
         "x": [
          "Ethiopia",
          "Ethiopia",
          "Ethiopia",
          "Ethiopia",
          "Ethiopia",
          "Ethiopia",
          "Ethiopia",
          "Ethiopia",
          "Ethiopia",
          "Ethiopia",
          "Ethiopia"
         ],
         "x0": " ",
         "xaxis": "x",
         "y": [
          2000,
          1950,
          2000,
          1950,
          2250,
          1700,
          1943,
          2361,
          1800,
          2000,
          1700
         ],
         "y0": " ",
         "yaxis": "y"
        },
        {
         "alignmentgroup": "True",
         "hovertemplate": "Country of Origin=%{x}<br>Altitude=%{y}<extra></extra>",
         "legendgroup": "Thailand",
         "marker": {
          "color": "#B6E880"
         },
         "name": "Thailand",
         "notched": false,
         "offsetgroup": "Thailand",
         "orientation": "v",
         "showlegend": true,
         "type": "box",
         "x": [
          "Thailand",
          "Thailand",
          "Thailand",
          "Thailand",
          "Thailand",
          "Thailand",
          "Thailand",
          "Thailand",
          "Thailand",
          "Thailand",
          "Thailand",
          "Thailand"
         ],
         "x0": " ",
         "xaxis": "x",
         "y": [
          1600,
          1350,
          1390,
          1450,
          1400,
          1400,
          1390,
          1200,
          1000,
          1400,
          1400,
          700
         ],
         "y0": " ",
         "yaxis": "y"
        },
        {
         "alignmentgroup": "True",
         "hovertemplate": "Country of Origin=%{x}<br>Altitude=%{y}<extra></extra>",
         "legendgroup": "Brazil",
         "marker": {
          "color": "#FF97FF"
         },
         "name": "Brazil",
         "notched": false,
         "offsetgroup": "Brazil",
         "orientation": "v",
         "showlegend": true,
         "type": "box",
         "x": [
          "Brazil",
          "Brazil",
          "Brazil",
          "Brazil",
          "Brazil",
          "Brazil",
          "Brazil",
          "Brazil",
          "Brazil",
          "Brazil"
         ],
         "x0": " ",
         "xaxis": "x",
         "y": [
          1250,
          1100,
          950,
          1100,
          1000,
          950,
          1200,
          1200,
          950,
          975
         ],
         "y0": " ",
         "yaxis": "y"
        },
        {
         "alignmentgroup": "True",
         "hovertemplate": "Country of Origin=%{x}<br>Altitude=%{y}<extra></extra>",
         "legendgroup": "United States (Hawaii)",
         "marker": {
          "color": "#FECB52"
         },
         "name": "United States (Hawaii)",
         "notched": false,
         "offsetgroup": "United States (Hawaii)",
         "orientation": "v",
         "showlegend": true,
         "type": "box",
         "x": [
          "United States (Hawaii)",
          "United States (Hawaii)",
          "United States (Hawaii)",
          "United States (Hawaii)",
          "United States (Hawaii)"
         ],
         "x0": " ",
         "xaxis": "x",
         "y": [
          600,
          1300,
          500,
          640,
          1200
         ],
         "y0": " ",
         "yaxis": "y"
        },
        {
         "alignmentgroup": "True",
         "hovertemplate": "Country of Origin=%{x}<br>Altitude=%{y}<extra></extra>",
         "legendgroup": "Kenya",
         "marker": {
          "color": "#636efa"
         },
         "name": "Kenya",
         "notched": false,
         "offsetgroup": "Kenya",
         "orientation": "v",
         "showlegend": true,
         "type": "box",
         "x": [
          "Kenya",
          "Kenya"
         ],
         "x0": " ",
         "xaxis": "x",
         "y": [
          1750,
          1725
         ],
         "y0": " ",
         "yaxis": "y"
        },
        {
         "alignmentgroup": "True",
         "hovertemplate": "Country of Origin=%{x}<br>Altitude=%{y}<extra></extra>",
         "legendgroup": "Uganda",
         "marker": {
          "color": "#EF553B"
         },
         "name": "Uganda",
         "notched": false,
         "offsetgroup": "Uganda",
         "orientation": "v",
         "showlegend": true,
         "type": "box",
         "x": [
          "Uganda",
          "Uganda",
          "Uganda"
         ],
         "x0": " ",
         "xaxis": "x",
         "y": [
          1905,
          1650,
          1905
         ],
         "y0": " ",
         "yaxis": "y"
        },
        {
         "alignmentgroup": "True",
         "hovertemplate": "Country of Origin=%{x}<br>Altitude=%{y}<extra></extra>",
         "legendgroup": "Indonesia",
         "marker": {
          "color": "#00cc96"
         },
         "name": "Indonesia",
         "notched": false,
         "offsetgroup": "Indonesia",
         "orientation": "v",
         "showlegend": true,
         "type": "box",
         "x": [
          "Indonesia",
          "Indonesia",
          "Indonesia"
         ],
         "x0": " ",
         "xaxis": "x",
         "y": [
          1200,
          1300,
          1350
         ],
         "y0": " ",
         "yaxis": "y"
        },
        {
         "alignmentgroup": "True",
         "hovertemplate": "Country of Origin=%{x}<br>Altitude=%{y}<extra></extra>",
         "legendgroup": "Peru",
         "marker": {
          "color": "#ab63fa"
         },
         "name": "Peru",
         "notched": false,
         "offsetgroup": "Peru",
         "orientation": "v",
         "showlegend": true,
         "type": "box",
         "x": [
          "Peru",
          "Peru",
          "Peru",
          "Peru"
         ],
         "x0": " ",
         "xaxis": "x",
         "y": [
          1750,
          1600,
          1600,
          1600
         ],
         "y0": " ",
         "yaxis": "y"
        },
        {
         "alignmentgroup": "True",
         "hovertemplate": "Country of Origin=%{x}<br>Altitude=%{y}<extra></extra>",
         "legendgroup": "Panama",
         "marker": {
          "color": "#FFA15A"
         },
         "name": "Panama",
         "notched": false,
         "offsetgroup": "Panama",
         "orientation": "v",
         "showlegend": true,
         "type": "box",
         "x": [
          "Panama",
          "Panama"
         ],
         "x0": " ",
         "xaxis": "x",
         "y": [
          1200,
          1200
         ],
         "y0": " ",
         "yaxis": "y"
        },
        {
         "alignmentgroup": "True",
         "hovertemplate": "Country of Origin=%{x}<br>Altitude=%{y}<extra></extra>",
         "legendgroup": "Nicaragua",
         "marker": {
          "color": "#19d3f3"
         },
         "name": "Nicaragua",
         "notched": false,
         "offsetgroup": "Nicaragua",
         "orientation": "v",
         "showlegend": true,
         "type": "box",
         "x": [
          "Nicaragua",
          "Nicaragua",
          "Nicaragua",
          "Nicaragua",
          "Nicaragua",
          "Nicaragua",
          "Nicaragua"
         ],
         "x0": " ",
         "xaxis": "x",
         "y": [
          1350,
          1200,
          1350,
          1275,
          1100,
          1000,
          1200
         ],
         "y0": " ",
         "yaxis": "y"
        },
        {
         "alignmentgroup": "True",
         "hovertemplate": "Country of Origin=%{x}<br>Altitude=%{y}<extra></extra>",
         "legendgroup": "Vietnam",
         "marker": {
          "color": "#FF6692"
         },
         "name": "Vietnam",
         "notched": false,
         "offsetgroup": "Vietnam",
         "orientation": "v",
         "showlegend": true,
         "type": "box",
         "x": [
          "Vietnam",
          "Vietnam",
          "Vietnam",
          "Vietnam"
         ],
         "x0": " ",
         "xaxis": "x",
         "y": [
          650,
          900,
          1040,
          5400
         ],
         "y0": " ",
         "yaxis": "y"
        },
        {
         "alignmentgroup": "True",
         "hovertemplate": "Country of Origin=%{x}<br>Altitude=%{y}<extra></extra>",
         "legendgroup": "Honduras",
         "marker": {
          "color": "#B6E880"
         },
         "name": "Honduras",
         "notched": false,
         "offsetgroup": "Honduras",
         "orientation": "v",
         "showlegend": true,
         "type": "box",
         "x": [
          "Honduras",
          "Honduras",
          "Honduras",
          "Honduras",
          "Honduras",
          "Honduras",
          "Honduras",
          "Honduras",
          "Honduras",
          "Honduras",
          "Honduras",
          "Honduras",
          "Honduras"
         ],
         "x0": " ",
         "xaxis": "x",
         "y": [
          1368,
          1368,
          1800,
          1470,
          1400,
          1600,
          1400,
          1368,
          1450,
          1280,
          1450,
          1368,
          1368
         ],
         "y0": " ",
         "yaxis": "y"
        },
        {
         "alignmentgroup": "True",
         "hovertemplate": "Country of Origin=%{x}<br>Altitude=%{y}<extra></extra>",
         "legendgroup": "El Salvador",
         "marker": {
          "color": "#FF97FF"
         },
         "name": "El Salvador",
         "notched": false,
         "offsetgroup": "El Salvador",
         "orientation": "v",
         "showlegend": true,
         "type": "box",
         "x": [
          "El Salvador",
          "El Salvador",
          "El Salvador",
          "El Salvador",
          "El Salvador",
          "El Salvador",
          "El Salvador"
         ],
         "x0": " ",
         "xaxis": "x",
         "y": [
          1500,
          1200,
          1200,
          1200,
          1400,
          1300,
          1200
         ],
         "y0": " ",
         "yaxis": "y"
        },
        {
         "alignmentgroup": "True",
         "hovertemplate": "Country of Origin=%{x}<br>Altitude=%{y}<extra></extra>",
         "legendgroup": "Madagascar",
         "marker": {
          "color": "#FECB52"
         },
         "name": "Madagascar",
         "notched": false,
         "offsetgroup": "Madagascar",
         "orientation": "v",
         "showlegend": true,
         "type": "box",
         "x": [
          "Madagascar"
         ],
         "x0": " ",
         "xaxis": "x",
         "y": [
          1500
         ],
         "y0": " ",
         "yaxis": "y"
        },
        {
         "alignmentgroup": "True",
         "hovertemplate": "Country of Origin=%{x}<br>Altitude=%{y}<extra></extra>",
         "legendgroup": "Mexico",
         "marker": {
          "color": "#636efa"
         },
         "name": "Mexico",
         "notched": false,
         "offsetgroup": "Mexico",
         "orientation": "v",
         "showlegend": true,
         "type": "box",
         "x": [
          "Mexico",
          "Mexico",
          "Mexico",
          "Mexico"
         ],
         "x0": " ",
         "xaxis": "x",
         "y": [
          1200,
          1350,
          1340,
          1200
         ],
         "y0": " ",
         "yaxis": "y"
        },
        {
         "alignmentgroup": "True",
         "hovertemplate": "Country of Origin=%{x}<br>Altitude=%{y}<extra></extra>",
         "legendgroup": "Myanmar",
         "marker": {
          "color": "#EF553B"
         },
         "name": "Myanmar",
         "notched": false,
         "offsetgroup": "Myanmar",
         "orientation": "v",
         "showlegend": true,
         "type": "box",
         "x": [
          "Myanmar"
         ],
         "x0": " ",
         "xaxis": "x",
         "y": [
          1400
         ],
         "y0": " ",
         "yaxis": "y"
        }
       ],
       "layout": {
        "boxmode": "overlay",
        "legend": {
         "title": {
          "text": "Country of Origin"
         },
         "tracegroupgap": 0
        },
        "template": {
         "data": {
          "bar": [
           {
            "error_x": {
             "color": "#2a3f5f"
            },
            "error_y": {
             "color": "#2a3f5f"
            },
            "marker": {
             "line": {
              "color": "#E5ECF6",
              "width": 0.5
             },
             "pattern": {
              "fillmode": "overlay",
              "size": 10,
              "solidity": 0.2
             }
            },
            "type": "bar"
           }
          ],
          "barpolar": [
           {
            "marker": {
             "line": {
              "color": "#E5ECF6",
              "width": 0.5
             },
             "pattern": {
              "fillmode": "overlay",
              "size": 10,
              "solidity": 0.2
             }
            },
            "type": "barpolar"
           }
          ],
          "carpet": [
           {
            "aaxis": {
             "endlinecolor": "#2a3f5f",
             "gridcolor": "white",
             "linecolor": "white",
             "minorgridcolor": "white",
             "startlinecolor": "#2a3f5f"
            },
            "baxis": {
             "endlinecolor": "#2a3f5f",
             "gridcolor": "white",
             "linecolor": "white",
             "minorgridcolor": "white",
             "startlinecolor": "#2a3f5f"
            },
            "type": "carpet"
           }
          ],
          "choropleth": [
           {
            "colorbar": {
             "outlinewidth": 0,
             "ticks": ""
            },
            "type": "choropleth"
           }
          ],
          "contour": [
           {
            "colorbar": {
             "outlinewidth": 0,
             "ticks": ""
            },
            "colorscale": [
             [
              0,
              "#0d0887"
             ],
             [
              0.1111111111111111,
              "#46039f"
             ],
             [
              0.2222222222222222,
              "#7201a8"
             ],
             [
              0.3333333333333333,
              "#9c179e"
             ],
             [
              0.4444444444444444,
              "#bd3786"
             ],
             [
              0.5555555555555556,
              "#d8576b"
             ],
             [
              0.6666666666666666,
              "#ed7953"
             ],
             [
              0.7777777777777778,
              "#fb9f3a"
             ],
             [
              0.8888888888888888,
              "#fdca26"
             ],
             [
              1,
              "#f0f921"
             ]
            ],
            "type": "contour"
           }
          ],
          "contourcarpet": [
           {
            "colorbar": {
             "outlinewidth": 0,
             "ticks": ""
            },
            "type": "contourcarpet"
           }
          ],
          "heatmap": [
           {
            "colorbar": {
             "outlinewidth": 0,
             "ticks": ""
            },
            "colorscale": [
             [
              0,
              "#0d0887"
             ],
             [
              0.1111111111111111,
              "#46039f"
             ],
             [
              0.2222222222222222,
              "#7201a8"
             ],
             [
              0.3333333333333333,
              "#9c179e"
             ],
             [
              0.4444444444444444,
              "#bd3786"
             ],
             [
              0.5555555555555556,
              "#d8576b"
             ],
             [
              0.6666666666666666,
              "#ed7953"
             ],
             [
              0.7777777777777778,
              "#fb9f3a"
             ],
             [
              0.8888888888888888,
              "#fdca26"
             ],
             [
              1,
              "#f0f921"
             ]
            ],
            "type": "heatmap"
           }
          ],
          "heatmapgl": [
           {
            "colorbar": {
             "outlinewidth": 0,
             "ticks": ""
            },
            "colorscale": [
             [
              0,
              "#0d0887"
             ],
             [
              0.1111111111111111,
              "#46039f"
             ],
             [
              0.2222222222222222,
              "#7201a8"
             ],
             [
              0.3333333333333333,
              "#9c179e"
             ],
             [
              0.4444444444444444,
              "#bd3786"
             ],
             [
              0.5555555555555556,
              "#d8576b"
             ],
             [
              0.6666666666666666,
              "#ed7953"
             ],
             [
              0.7777777777777778,
              "#fb9f3a"
             ],
             [
              0.8888888888888888,
              "#fdca26"
             ],
             [
              1,
              "#f0f921"
             ]
            ],
            "type": "heatmapgl"
           }
          ],
          "histogram": [
           {
            "marker": {
             "pattern": {
              "fillmode": "overlay",
              "size": 10,
              "solidity": 0.2
             }
            },
            "type": "histogram"
           }
          ],
          "histogram2d": [
           {
            "colorbar": {
             "outlinewidth": 0,
             "ticks": ""
            },
            "colorscale": [
             [
              0,
              "#0d0887"
             ],
             [
              0.1111111111111111,
              "#46039f"
             ],
             [
              0.2222222222222222,
              "#7201a8"
             ],
             [
              0.3333333333333333,
              "#9c179e"
             ],
             [
              0.4444444444444444,
              "#bd3786"
             ],
             [
              0.5555555555555556,
              "#d8576b"
             ],
             [
              0.6666666666666666,
              "#ed7953"
             ],
             [
              0.7777777777777778,
              "#fb9f3a"
             ],
             [
              0.8888888888888888,
              "#fdca26"
             ],
             [
              1,
              "#f0f921"
             ]
            ],
            "type": "histogram2d"
           }
          ],
          "histogram2dcontour": [
           {
            "colorbar": {
             "outlinewidth": 0,
             "ticks": ""
            },
            "colorscale": [
             [
              0,
              "#0d0887"
             ],
             [
              0.1111111111111111,
              "#46039f"
             ],
             [
              0.2222222222222222,
              "#7201a8"
             ],
             [
              0.3333333333333333,
              "#9c179e"
             ],
             [
              0.4444444444444444,
              "#bd3786"
             ],
             [
              0.5555555555555556,
              "#d8576b"
             ],
             [
              0.6666666666666666,
              "#ed7953"
             ],
             [
              0.7777777777777778,
              "#fb9f3a"
             ],
             [
              0.8888888888888888,
              "#fdca26"
             ],
             [
              1,
              "#f0f921"
             ]
            ],
            "type": "histogram2dcontour"
           }
          ],
          "mesh3d": [
           {
            "colorbar": {
             "outlinewidth": 0,
             "ticks": ""
            },
            "type": "mesh3d"
           }
          ],
          "parcoords": [
           {
            "line": {
             "colorbar": {
              "outlinewidth": 0,
              "ticks": ""
             }
            },
            "type": "parcoords"
           }
          ],
          "pie": [
           {
            "automargin": true,
            "type": "pie"
           }
          ],
          "scatter": [
           {
            "fillpattern": {
             "fillmode": "overlay",
             "size": 10,
             "solidity": 0.2
            },
            "type": "scatter"
           }
          ],
          "scatter3d": [
           {
            "line": {
             "colorbar": {
              "outlinewidth": 0,
              "ticks": ""
             }
            },
            "marker": {
             "colorbar": {
              "outlinewidth": 0,
              "ticks": ""
             }
            },
            "type": "scatter3d"
           }
          ],
          "scattercarpet": [
           {
            "marker": {
             "colorbar": {
              "outlinewidth": 0,
              "ticks": ""
             }
            },
            "type": "scattercarpet"
           }
          ],
          "scattergeo": [
           {
            "marker": {
             "colorbar": {
              "outlinewidth": 0,
              "ticks": ""
             }
            },
            "type": "scattergeo"
           }
          ],
          "scattergl": [
           {
            "marker": {
             "colorbar": {
              "outlinewidth": 0,
              "ticks": ""
             }
            },
            "type": "scattergl"
           }
          ],
          "scattermapbox": [
           {
            "marker": {
             "colorbar": {
              "outlinewidth": 0,
              "ticks": ""
             }
            },
            "type": "scattermapbox"
           }
          ],
          "scatterpolar": [
           {
            "marker": {
             "colorbar": {
              "outlinewidth": 0,
              "ticks": ""
             }
            },
            "type": "scatterpolar"
           }
          ],
          "scatterpolargl": [
           {
            "marker": {
             "colorbar": {
              "outlinewidth": 0,
              "ticks": ""
             }
            },
            "type": "scatterpolargl"
           }
          ],
          "scatterternary": [
           {
            "marker": {
             "colorbar": {
              "outlinewidth": 0,
              "ticks": ""
             }
            },
            "type": "scatterternary"
           }
          ],
          "surface": [
           {
            "colorbar": {
             "outlinewidth": 0,
             "ticks": ""
            },
            "colorscale": [
             [
              0,
              "#0d0887"
             ],
             [
              0.1111111111111111,
              "#46039f"
             ],
             [
              0.2222222222222222,
              "#7201a8"
             ],
             [
              0.3333333333333333,
              "#9c179e"
             ],
             [
              0.4444444444444444,
              "#bd3786"
             ],
             [
              0.5555555555555556,
              "#d8576b"
             ],
             [
              0.6666666666666666,
              "#ed7953"
             ],
             [
              0.7777777777777778,
              "#fb9f3a"
             ],
             [
              0.8888888888888888,
              "#fdca26"
             ],
             [
              1,
              "#f0f921"
             ]
            ],
            "type": "surface"
           }
          ],
          "table": [
           {
            "cells": {
             "fill": {
              "color": "#EBF0F8"
             },
             "line": {
              "color": "white"
             }
            },
            "header": {
             "fill": {
              "color": "#C8D4E3"
             },
             "line": {
              "color": "white"
             }
            },
            "type": "table"
           }
          ]
         },
         "layout": {
          "annotationdefaults": {
           "arrowcolor": "#2a3f5f",
           "arrowhead": 0,
           "arrowwidth": 1
          },
          "autotypenumbers": "strict",
          "coloraxis": {
           "colorbar": {
            "outlinewidth": 0,
            "ticks": ""
           }
          },
          "colorscale": {
           "diverging": [
            [
             0,
             "#8e0152"
            ],
            [
             0.1,
             "#c51b7d"
            ],
            [
             0.2,
             "#de77ae"
            ],
            [
             0.3,
             "#f1b6da"
            ],
            [
             0.4,
             "#fde0ef"
            ],
            [
             0.5,
             "#f7f7f7"
            ],
            [
             0.6,
             "#e6f5d0"
            ],
            [
             0.7,
             "#b8e186"
            ],
            [
             0.8,
             "#7fbc41"
            ],
            [
             0.9,
             "#4d9221"
            ],
            [
             1,
             "#276419"
            ]
           ],
           "sequential": [
            [
             0,
             "#0d0887"
            ],
            [
             0.1111111111111111,
             "#46039f"
            ],
            [
             0.2222222222222222,
             "#7201a8"
            ],
            [
             0.3333333333333333,
             "#9c179e"
            ],
            [
             0.4444444444444444,
             "#bd3786"
            ],
            [
             0.5555555555555556,
             "#d8576b"
            ],
            [
             0.6666666666666666,
             "#ed7953"
            ],
            [
             0.7777777777777778,
             "#fb9f3a"
            ],
            [
             0.8888888888888888,
             "#fdca26"
            ],
            [
             1,
             "#f0f921"
            ]
           ],
           "sequentialminus": [
            [
             0,
             "#0d0887"
            ],
            [
             0.1111111111111111,
             "#46039f"
            ],
            [
             0.2222222222222222,
             "#7201a8"
            ],
            [
             0.3333333333333333,
             "#9c179e"
            ],
            [
             0.4444444444444444,
             "#bd3786"
            ],
            [
             0.5555555555555556,
             "#d8576b"
            ],
            [
             0.6666666666666666,
             "#ed7953"
            ],
            [
             0.7777777777777778,
             "#fb9f3a"
            ],
            [
             0.8888888888888888,
             "#fdca26"
            ],
            [
             1,
             "#f0f921"
            ]
           ]
          },
          "colorway": [
           "#636efa",
           "#EF553B",
           "#00cc96",
           "#ab63fa",
           "#FFA15A",
           "#19d3f3",
           "#FF6692",
           "#B6E880",
           "#FF97FF",
           "#FECB52"
          ],
          "font": {
           "color": "#2a3f5f"
          },
          "geo": {
           "bgcolor": "white",
           "lakecolor": "white",
           "landcolor": "#E5ECF6",
           "showlakes": true,
           "showland": true,
           "subunitcolor": "white"
          },
          "hoverlabel": {
           "align": "left"
          },
          "hovermode": "closest",
          "mapbox": {
           "style": "light"
          },
          "paper_bgcolor": "white",
          "plot_bgcolor": "#E5ECF6",
          "polar": {
           "angularaxis": {
            "gridcolor": "white",
            "linecolor": "white",
            "ticks": ""
           },
           "bgcolor": "#E5ECF6",
           "radialaxis": {
            "gridcolor": "white",
            "linecolor": "white",
            "ticks": ""
           }
          },
          "scene": {
           "xaxis": {
            "backgroundcolor": "#E5ECF6",
            "gridcolor": "white",
            "gridwidth": 2,
            "linecolor": "white",
            "showbackground": true,
            "ticks": "",
            "zerolinecolor": "white"
           },
           "yaxis": {
            "backgroundcolor": "#E5ECF6",
            "gridcolor": "white",
            "gridwidth": 2,
            "linecolor": "white",
            "showbackground": true,
            "ticks": "",
            "zerolinecolor": "white"
           },
           "zaxis": {
            "backgroundcolor": "#E5ECF6",
            "gridcolor": "white",
            "gridwidth": 2,
            "linecolor": "white",
            "showbackground": true,
            "ticks": "",
            "zerolinecolor": "white"
           }
          },
          "shapedefaults": {
           "line": {
            "color": "#2a3f5f"
           }
          },
          "ternary": {
           "aaxis": {
            "gridcolor": "white",
            "linecolor": "white",
            "ticks": ""
           },
           "baxis": {
            "gridcolor": "white",
            "linecolor": "white",
            "ticks": ""
           },
           "bgcolor": "#E5ECF6",
           "caxis": {
            "gridcolor": "white",
            "linecolor": "white",
            "ticks": ""
           }
          },
          "title": {
           "x": 0.05
          },
          "xaxis": {
           "automargin": true,
           "gridcolor": "white",
           "linecolor": "white",
           "ticks": "",
           "title": {
            "standoff": 15
           },
           "zerolinecolor": "white",
           "zerolinewidth": 2
          },
          "yaxis": {
           "automargin": true,
           "gridcolor": "white",
           "linecolor": "white",
           "ticks": "",
           "title": {
            "standoff": 15
           },
           "zerolinecolor": "white",
           "zerolinewidth": 2
          }
         }
        },
        "title": {
         "text": "Altitude by Country"
        },
        "xaxis": {
         "anchor": "y",
         "categoryarray": [
          "Colombia",
          "Taiwan",
          "Laos",
          "Costa Rica",
          "Guatemala",
          "Tanzania, United Republic Of",
          "Ethiopia",
          "Thailand",
          "Brazil",
          "United States (Hawaii)",
          "Kenya",
          "Uganda",
          "Indonesia",
          "Peru",
          "Panama",
          "Nicaragua",
          "Vietnam",
          "Honduras",
          "El Salvador",
          "Madagascar",
          "Mexico",
          "Myanmar"
         ],
         "categoryorder": "array",
         "domain": [
          0,
          1
         ],
         "title": {
          "text": "Country of Origin"
         }
        },
        "yaxis": {
         "anchor": "x",
         "domain": [
          0,
          1
         ],
         "title": {
          "text": "Altitude"
         }
        }
       }
      }
     },
     "metadata": {},
     "output_type": "display_data"
    }
   ],
   "source": [
    "boxplot_altitude = px.box(\n",
    "    df_coffee,\n",
    "    y='Altitude',\n",
    "    x='Country of Origin',\n",
    "    title='Altitude by Country',\n",
    "    color='Country of Origin',\n",
    ")\n",
    "\n",
    "boxplot_altitude.show()"
   ]
  },
  {
   "cell_type": "code",
   "execution_count": 119,
   "metadata": {},
   "outputs": [
    {
     "data": {
      "image/png": "[encoded data removed]",
      "text/plain": [
       "<Figure size 1300x800 with 1 Axes>"
      ]
     },
     "metadata": {},
     "output_type": "display_data"
    }
   ],
   "source": [
    "plt.figure(figsize=(13, 8))\n",
    "\n",
    "sns.swarmplot(\n",
    "    x=df_coffee['Processing Method'],\n",
    "    y=df_coffee['Total Cup Points'],\n",
    "    hue=df_coffee['Color'],\n",
    "    size=5,\n",
    "    palette='rocket',\n",
    ")\n",
    "\n",
    "plt.title('Pontuação por Método de Processamento')\n",
    "plt.xlabel('Método de Processamento')\n",
    "plt.ylabel('Pontuação')\n",
    "plt.legend(title='Cores', loc='lower right')\n",
    "plt.xticks(rotation=35, ha='right')\n",
    "plt.show()"
   ]
  },
  {
   "cell_type": "code",
   "execution_count": 120,
   "metadata": {},
   "outputs": [
    {
     "data": {
      "application/vnd.plotly.v1+json": {
       "config": {
        "plotlyServerURL": "https://plot.ly"
       },
       "data": [
        {
         "coloraxis": "coloraxis",
         "geo": "geo",
         "hovertemplate": "<b>%{hovertext}</b><br><br>Country of Origin=%{location}<br>Altitude=%{z}<extra></extra>",
         "hovertext": [
          "Brazil",
          "Colombia",
          "Costa Rica",
          "El Salvador",
          "Ethiopia",
          "Guatemala",
          "Honduras",
          "Indonesia",
          "Kenya",
          "Laos",
          "Madagascar",
          "Mexico",
          "Myanmar",
          "Nicaragua",
          "Panama",
          "Peru",
          "Taiwan",
          "Tanzania, United Republic Of",
          "Thailand",
          "Uganda",
          "United States (Hawaii)",
          "Vietnam"
         ],
         "locationmode": "country names",
         "locations": [
          "Brazil",
          "Colombia",
          "Costa Rica",
          "El Salvador",
          "Ethiopia",
          "Guatemala",
          "Honduras",
          "Indonesia",
          "Kenya",
          "Laos",
          "Madagascar",
          "Mexico",
          "Myanmar",
          "Nicaragua",
          "Panama",
          "Peru",
          "Taiwan",
          "Tanzania, United Republic Of",
          "Thailand",
          "Uganda",
          "United States (Hawaii)",
          "Vietnam"
         ],
         "name": "",
         "type": "choropleth",
         "z": [
          1067.5,
          1620.2777777777778,
          1687.5,
          1285.7142857142858,
          1968.5454545454545,
          1913.275,
          1437.6923076923076,
          1283.3333333333333,
          1737.5,
          1283.3333333333333,
          1500,
          1272.5,
          1400,
          1210.7142857142858,
          1200,
          1637.5,
          729.0491803278688,
          1594,
          1306.6666666666667,
          1820,
          848,
          1997.5
         ]
        }
       ],
       "layout": {
        "coloraxis": {
         "colorbar": {
          "title": {
           "text": "Altitude"
          }
         },
         "colorscale": [
          [
           0,
           "#0d0887"
          ],
          [
           0.1111111111111111,
           "#46039f"
          ],
          [
           0.2222222222222222,
           "#7201a8"
          ],
          [
           0.3333333333333333,
           "#9c179e"
          ],
          [
           0.4444444444444444,
           "#bd3786"
          ],
          [
           0.5555555555555556,
           "#d8576b"
          ],
          [
           0.6666666666666666,
           "#ed7953"
          ],
          [
           0.7777777777777778,
           "#fb9f3a"
          ],
          [
           0.8888888888888888,
           "#fdca26"
          ],
          [
           1,
           "#f0f921"
          ]
         ]
        },
        "geo": {
         "center": {},
         "domain": {
          "x": [
           0,
           1
          ],
          "y": [
           0,
           1
          ]
         }
        },
        "legend": {
         "tracegroupgap": 0
        },
        "template": {
         "data": {
          "bar": [
           {
            "error_x": {
             "color": "#2a3f5f"
            },
            "error_y": {
             "color": "#2a3f5f"
            },
            "marker": {
             "line": {
              "color": "#E5ECF6",
              "width": 0.5
             },
             "pattern": {
              "fillmode": "overlay",
              "size": 10,
              "solidity": 0.2
             }
            },
            "type": "bar"
           }
          ],
          "barpolar": [
           {
            "marker": {
             "line": {
              "color": "#E5ECF6",
              "width": 0.5
             },
             "pattern": {
              "fillmode": "overlay",
              "size": 10,
              "solidity": 0.2
             }
            },
            "type": "barpolar"
           }
          ],
          "carpet": [
           {
            "aaxis": {
             "endlinecolor": "#2a3f5f",
             "gridcolor": "white",
             "linecolor": "white",
             "minorgridcolor": "white",
             "startlinecolor": "#2a3f5f"
            },
            "baxis": {
             "endlinecolor": "#2a3f5f",
             "gridcolor": "white",
             "linecolor": "white",
             "minorgridcolor": "white",
             "startlinecolor": "#2a3f5f"
            },
            "type": "carpet"
           }
          ],
          "choropleth": [
           {
            "colorbar": {
             "outlinewidth": 0,
             "ticks": ""
            },
            "type": "choropleth"
           }
          ],
          "contour": [
           {
            "colorbar": {
             "outlinewidth": 0,
             "ticks": ""
            },
            "colorscale": [
             [
              0,
              "#0d0887"
             ],
             [
              0.1111111111111111,
              "#46039f"
             ],
             [
              0.2222222222222222,
              "#7201a8"
             ],
             [
              0.3333333333333333,
              "#9c179e"
             ],
             [
              0.4444444444444444,
              "#bd3786"
             ],
             [
              0.5555555555555556,
              "#d8576b"
             ],
             [
              0.6666666666666666,
              "#ed7953"
             ],
             [
              0.7777777777777778,
              "#fb9f3a"
             ],
             [
              0.8888888888888888,
              "#fdca26"
             ],
             [
              1,
              "#f0f921"
             ]
            ],
            "type": "contour"
           }
          ],
          "contourcarpet": [
           {
            "colorbar": {
             "outlinewidth": 0,
             "ticks": ""
            },
            "type": "contourcarpet"
           }
          ],
          "heatmap": [
           {
            "colorbar": {
             "outlinewidth": 0,
             "ticks": ""
            },
            "colorscale": [
             [
              0,
              "#0d0887"
             ],
             [
              0.1111111111111111,
              "#46039f"
             ],
             [
              0.2222222222222222,
              "#7201a8"
             ],
             [
              0.3333333333333333,
              "#9c179e"
             ],
             [
              0.4444444444444444,
              "#bd3786"
             ],
             [
              0.5555555555555556,
              "#d8576b"
             ],
             [
              0.6666666666666666,
              "#ed7953"
             ],
             [
              0.7777777777777778,
              "#fb9f3a"
             ],
             [
              0.8888888888888888,
              "#fdca26"
             ],
             [
              1,
              "#f0f921"
             ]
            ],
            "type": "heatmap"
           }
          ],
          "heatmapgl": [
           {
            "colorbar": {
             "outlinewidth": 0,
             "ticks": ""
            },
            "colorscale": [
             [
              0,
              "#0d0887"
             ],
             [
              0.1111111111111111,
              "#46039f"
             ],
             [
              0.2222222222222222,
              "#7201a8"
             ],
             [
              0.3333333333333333,
              "#9c179e"
             ],
             [
              0.4444444444444444,
              "#bd3786"
             ],
             [
              0.5555555555555556,
              "#d8576b"
             ],
             [
              0.6666666666666666,
              "#ed7953"
             ],
             [
              0.7777777777777778,
              "#fb9f3a"
             ],
             [
              0.8888888888888888,
              "#fdca26"
             ],
             [
              1,
              "#f0f921"
             ]
            ],
            "type": "heatmapgl"
           }
          ],
          "histogram": [
           {
            "marker": {
             "pattern": {
              "fillmode": "overlay",
              "size": 10,
              "solidity": 0.2
             }
            },
            "type": "histogram"
           }
          ],
          "histogram2d": [
           {
            "colorbar": {
             "outlinewidth": 0,
             "ticks": ""
            },
            "colorscale": [
             [
              0,
              "#0d0887"
             ],
             [
              0.1111111111111111,
              "#46039f"
             ],
             [
              0.2222222222222222,
              "#7201a8"
             ],
             [
              0.3333333333333333,
              "#9c179e"
             ],
             [
              0.4444444444444444,
              "#bd3786"
             ],
             [
              0.5555555555555556,
              "#d8576b"
             ],
             [
              0.6666666666666666,
              "#ed7953"
             ],
             [
              0.7777777777777778,
              "#fb9f3a"
             ],
             [
              0.8888888888888888,
              "#fdca26"
             ],
             [
              1,
              "#f0f921"
             ]
            ],
            "type": "histogram2d"
           }
          ],
          "histogram2dcontour": [
           {
            "colorbar": {
             "outlinewidth": 0,
             "ticks": ""
            },
            "colorscale": [
             [
              0,
              "#0d0887"
             ],
             [
              0.1111111111111111,
              "#46039f"
             ],
             [
              0.2222222222222222,
              "#7201a8"
             ],
             [
              0.3333333333333333,
              "#9c179e"
             ],
             [
              0.4444444444444444,
              "#bd3786"
             ],
             [
              0.5555555555555556,
              "#d8576b"
             ],
             [
              0.6666666666666666,
              "#ed7953"
             ],
             [
              0.7777777777777778,
              "#fb9f3a"
             ],
             [
              0.8888888888888888,
              "#fdca26"
             ],
             [
              1,
              "#f0f921"
             ]
            ],
            "type": "histogram2dcontour"
           }
          ],
          "mesh3d": [
           {
            "colorbar": {
             "outlinewidth": 0,
             "ticks": ""
            },
            "type": "mesh3d"
           }
          ],
          "parcoords": [
           {
            "line": {
             "colorbar": {
              "outlinewidth": 0,
              "ticks": ""
             }
            },
            "type": "parcoords"
           }
          ],
          "pie": [
           {
            "automargin": true,
            "type": "pie"
           }
          ],
          "scatter": [
           {
            "fillpattern": {
             "fillmode": "overlay",
             "size": 10,
             "solidity": 0.2
            },
            "type": "scatter"
           }
          ],
          "scatter3d": [
           {
            "line": {
             "colorbar": {
              "outlinewidth": 0,
              "ticks": ""
             }
            },
            "marker": {
             "colorbar": {
              "outlinewidth": 0,
              "ticks": ""
             }
            },
            "type": "scatter3d"
           }
          ],
          "scattercarpet": [
           {
            "marker": {
             "colorbar": {
              "outlinewidth": 0,
              "ticks": ""
             }
            },
            "type": "scattercarpet"
           }
          ],
          "scattergeo": [
           {
            "marker": {
             "colorbar": {
              "outlinewidth": 0,
              "ticks": ""
             }
            },
            "type": "scattergeo"
           }
          ],
          "scattergl": [
           {
            "marker": {
             "colorbar": {
              "outlinewidth": 0,
              "ticks": ""
             }
            },
            "type": "scattergl"
           }
          ],
          "scattermapbox": [
           {
            "marker": {
             "colorbar": {
              "outlinewidth": 0,
              "ticks": ""
             }
            },
            "type": "scattermapbox"
           }
          ],
          "scatterpolar": [
           {
            "marker": {
             "colorbar": {
              "outlinewidth": 0,
              "ticks": ""
             }
            },
            "type": "scatterpolar"
           }
          ],
          "scatterpolargl": [
           {
            "marker": {
             "colorbar": {
              "outlinewidth": 0,
              "ticks": ""
             }
            },
            "type": "scatterpolargl"
           }
          ],
          "scatterternary": [
           {
            "marker": {
             "colorbar": {
              "outlinewidth": 0,
              "ticks": ""
             }
            },
            "type": "scatterternary"
           }
          ],
          "surface": [
           {
            "colorbar": {
             "outlinewidth": 0,
             "ticks": ""
            },
            "colorscale": [
             [
              0,
              "#0d0887"
             ],
             [
              0.1111111111111111,
              "#46039f"
             ],
             [
              0.2222222222222222,
              "#7201a8"
             ],
             [
              0.3333333333333333,
              "#9c179e"
             ],
             [
              0.4444444444444444,
              "#bd3786"
             ],
             [
              0.5555555555555556,
              "#d8576b"
             ],
             [
              0.6666666666666666,
              "#ed7953"
             ],
             [
              0.7777777777777778,
              "#fb9f3a"
             ],
             [
              0.8888888888888888,
              "#fdca26"
             ],
             [
              1,
              "#f0f921"
             ]
            ],
            "type": "surface"
           }
          ],
          "table": [
           {
            "cells": {
             "fill": {
              "color": "#EBF0F8"
             },
             "line": {
              "color": "white"
             }
            },
            "header": {
             "fill": {
              "color": "#C8D4E3"
             },
             "line": {
              "color": "white"
             }
            },
            "type": "table"
           }
          ]
         },
         "layout": {
          "annotationdefaults": {
           "arrowcolor": "#2a3f5f",
           "arrowhead": 0,
           "arrowwidth": 1
          },
          "autotypenumbers": "strict",
          "coloraxis": {
           "colorbar": {
            "outlinewidth": 0,
            "ticks": ""
           }
          },
          "colorscale": {
           "diverging": [
            [
             0,
             "#8e0152"
            ],
            [
             0.1,
             "#c51b7d"
            ],
            [
             0.2,
             "#de77ae"
            ],
            [
             0.3,
             "#f1b6da"
            ],
            [
             0.4,
             "#fde0ef"
            ],
            [
             0.5,
             "#f7f7f7"
            ],
            [
             0.6,
             "#e6f5d0"
            ],
            [
             0.7,
             "#b8e186"
            ],
            [
             0.8,
             "#7fbc41"
            ],
            [
             0.9,
             "#4d9221"
            ],
            [
             1,
             "#276419"
            ]
           ],
           "sequential": [
            [
             0,
             "#0d0887"
            ],
            [
             0.1111111111111111,
             "#46039f"
            ],
            [
             0.2222222222222222,
             "#7201a8"
            ],
            [
             0.3333333333333333,
             "#9c179e"
            ],
            [
             0.4444444444444444,
             "#bd3786"
            ],
            [
             0.5555555555555556,
             "#d8576b"
            ],
            [
             0.6666666666666666,
             "#ed7953"
            ],
            [
             0.7777777777777778,
             "#fb9f3a"
            ],
            [
             0.8888888888888888,
             "#fdca26"
            ],
            [
             1,
             "#f0f921"
            ]
           ],
           "sequentialminus": [
            [
             0,
             "#0d0887"
            ],
            [
             0.1111111111111111,
             "#46039f"
            ],
            [
             0.2222222222222222,
             "#7201a8"
            ],
            [
             0.3333333333333333,
             "#9c179e"
            ],
            [
             0.4444444444444444,
             "#bd3786"
            ],
            [
             0.5555555555555556,
             "#d8576b"
            ],
            [
             0.6666666666666666,
             "#ed7953"
            ],
            [
             0.7777777777777778,
             "#fb9f3a"
            ],
            [
             0.8888888888888888,
             "#fdca26"
            ],
            [
             1,
             "#f0f921"
            ]
           ]
          },
          "colorway": [
           "#636efa",
           "#EF553B",
           "#00cc96",
           "#ab63fa",
           "#FFA15A",
           "#19d3f3",
           "#FF6692",
           "#B6E880",
           "#FF97FF",
           "#FECB52"
          ],
          "font": {
           "color": "#2a3f5f"
          },
          "geo": {
           "bgcolor": "white",
           "lakecolor": "white",
           "landcolor": "#E5ECF6",
           "showlakes": true,
           "showland": true,
           "subunitcolor": "white"
          },
          "hoverlabel": {
           "align": "left"
          },
          "hovermode": "closest",
          "mapbox": {
           "style": "light"
          },
          "paper_bgcolor": "white",
          "plot_bgcolor": "#E5ECF6",
          "polar": {
           "angularaxis": {
            "gridcolor": "white",
            "linecolor": "white",
            "ticks": ""
           },
           "bgcolor": "#E5ECF6",
           "radialaxis": {
            "gridcolor": "white",
            "linecolor": "white",
            "ticks": ""
           }
          },
          "scene": {
           "xaxis": {
            "backgroundcolor": "#E5ECF6",
            "gridcolor": "white",
            "gridwidth": 2,
            "linecolor": "white",
            "showbackground": true,
            "ticks": "",
            "zerolinecolor": "white"
           },
           "yaxis": {
            "backgroundcolor": "#E5ECF6",
            "gridcolor": "white",
            "gridwidth": 2,
            "linecolor": "white",
            "showbackground": true,
            "ticks": "",
            "zerolinecolor": "white"
           },
           "zaxis": {
            "backgroundcolor": "#E5ECF6",
            "gridcolor": "white",
            "gridwidth": 2,
            "linecolor": "white",
            "showbackground": true,
            "ticks": "",
            "zerolinecolor": "white"
           }
          },
          "shapedefaults": {
           "line": {
            "color": "#2a3f5f"
           }
          },
          "ternary": {
           "aaxis": {
            "gridcolor": "white",
            "linecolor": "white",
            "ticks": ""
           },
           "baxis": {
            "gridcolor": "white",
            "linecolor": "white",
            "ticks": ""
           },
           "bgcolor": "#E5ECF6",
           "caxis": {
            "gridcolor": "white",
            "linecolor": "white",
            "ticks": ""
           }
          },
          "title": {
           "x": 0.05
          },
          "xaxis": {
           "automargin": true,
           "gridcolor": "white",
           "linecolor": "white",
           "ticks": "",
           "title": {
            "standoff": 15
           },
           "zerolinecolor": "white",
           "zerolinewidth": 2
          },
          "yaxis": {
           "automargin": true,
           "gridcolor": "white",
           "linecolor": "white",
           "ticks": "",
           "title": {
            "standoff": 15
           },
           "zerolinecolor": "white",
           "zerolinewidth": 2
          }
         }
        },
        "title": {
         "text": "Altitude Média por País"
        }
       }
      }
     },
     "metadata": {},
     "output_type": "display_data"
    }
   ],
   "source": [
    "df_mean_altitude = df_coffee.groupby('Country of Origin')['Altitude'].mean().reset_index()\n",
    "\n",
    "mean_altitude_by_country = px.choropleth(\n",
    "    df_mean_altitude,\n",
    "    locations='Country of Origin',\n",
    "    locationmode='country names',\n",
    "    color='Altitude',\n",
    "    hover_name='Country of Origin',\n",
    "    color_continuous_scale=px.colors.sequential.Plasma,\n",
    "    title='Altitude Média por País',\n",
    ")\n",
    "\n",
    "mean_altitude_by_country.show()"
   ]
  },
  {
   "cell_type": "markdown",
   "metadata": {},
   "source": [
    "# 4. Aplicando alguns modelos"
   ]
  },
  {
   "cell_type": "code",
   "execution_count": 128,
   "metadata": {},
   "outputs": [],
   "source": [
    "from sklearn.preprocessing import StandardScaler"
   ]
  },
  {
   "cell_type": "code",
   "execution_count": 129,
   "metadata": {},
   "outputs": [
    {
     "name": "stdout",
     "output_type": "stream",
     "text": [
      "<class 'pandas.core.frame.DataFrame'>\n",
      "RangeIndex: 207 entries, 0 to 206\n",
      "Data columns (total 27 columns):\n",
      " #   Column                Non-Null Count  Dtype  \n",
      "---  ------                --------------  -----  \n",
      " 0   Country of Origin     207 non-null    object \n",
      " 1   Farm Name             205 non-null    object \n",
      " 2   Company               207 non-null    object \n",
      " 3   Altitude              205 non-null    float64\n",
      " 4   Region                205 non-null    object \n",
      " 5   Variety               201 non-null    object \n",
      " 6   Status                207 non-null    object \n",
      " 7   Processing Method     207 non-null    object \n",
      " 8   Aroma                 207 non-null    float64\n",
      " 9   Flavor                207 non-null    float64\n",
      " 10  Aftertaste            207 non-null    float64\n",
      " 11  Acidity               207 non-null    float64\n",
      " 12  Body                  207 non-null    float64\n",
      " 13  Balance               207 non-null    float64\n",
      " 14  Uniformity            207 non-null    float64\n",
      " 15  Clean Cup             207 non-null    float64\n",
      " 16  Sweetness             207 non-null    float64\n",
      " 17  Overall               207 non-null    float64\n",
      " 18  Defects               207 non-null    float64\n",
      " 19  Total Cup Points      207 non-null    float64\n",
      " 20  Moisture Percentage   207 non-null    float64\n",
      " 21  Category One Defects  207 non-null    int64  \n",
      " 22  Quakers               207 non-null    int64  \n",
      " 23  Color                 207 non-null    object \n",
      " 24  Category Two Defects  207 non-null    int64  \n",
      " 25  Initial Harvest Year  207 non-null    int32  \n",
      " 26  Final Harvest Year    207 non-null    int32  \n",
      "dtypes: float64(14), int32(2), int64(3), object(8)\n",
      "memory usage: 42.2+ KB\n"
     ]
    }
   ],
   "source": [
    "df_coffee.info()"
   ]
  },
  {
   "cell_type": "code",
   "execution_count": 130,
   "metadata": {},
   "outputs": [
    {
     "data": {
      "text/plain": [
       "['Status',\n",
       " 'Defects',\n",
       " 'Clean Cup',\n",
       " 'Sweetness',\n",
       " 'Country of Origin',\n",
       " 'Farm Name',\n",
       " 'Company',\n",
       " 'Region',\n",
       " 'Variety',\n",
       " 'Initial Harvest Year',\n",
       " 'Final Harvest Year',\n",
       " 'Color']"
      ]
     },
     "execution_count": 130,
     "metadata": {},
     "output_type": "execute_result"
    }
   ],
   "source": [
    "category_columns = ['Processing Method']\n",
    "numerical_columns = ['Altitude', 'Aroma',\n",
    "                    'Flavor', 'Aftertaste',\n",
    "                    'Acidity', 'Body',\n",
    "                    'Balance', 'Uniformity',\n",
    "                    'Overall', 'Total Cup Points',\n",
    "                    'Moisture Percentage',\n",
    "                    'Category One Defects',\n",
    "                    'Quakers', 'Category Two Defects']\n",
    "\n",
    "informational_columns = ['Country of Origin', 'Farm Name',\n",
    "                        'Company', 'Region', 'Variety',\n",
    "                        'Initial Harvest Year',\n",
    "                        'Final Harvest Year', 'Color']\n",
    "drop_columns = ['Status', 'Defects','Clean Cup', 'Sweetness',]\n",
    "\n",
    "drop_columns.extend(informational_columns)\n",
    "drop_columns"
   ]
  },
  {
   "cell_type": "code",
   "execution_count": 131,
   "metadata": {},
   "outputs": [
    {
     "data": {
      "text/html": [
       "<div>\n",
       "<style scoped>\n",
       "    .dataframe tbody tr th:only-of-type {\n",
       "        vertical-align: middle;\n",
       "    }\n",
       "\n",
       "    .dataframe tbody tr th {\n",
       "        vertical-align: top;\n",
       "    }\n",
       "\n",
       "    .dataframe thead th {\n",
       "        text-align: right;\n",
       "    }\n",
       "</style>\n",
       "<table border=\"1\" class=\"dataframe\">\n",
       "  <thead>\n",
       "    <tr style=\"text-align: right;\">\n",
       "      <th></th>\n",
       "      <th>0</th>\n",
       "      <th>1</th>\n",
       "      <th>2</th>\n",
       "      <th>3</th>\n",
       "      <th>4</th>\n",
       "      <th>5</th>\n",
       "      <th>6</th>\n",
       "      <th>7</th>\n",
       "      <th>8</th>\n",
       "      <th>9</th>\n",
       "      <th>...</th>\n",
       "      <th>197</th>\n",
       "      <th>198</th>\n",
       "      <th>199</th>\n",
       "      <th>200</th>\n",
       "      <th>201</th>\n",
       "      <th>202</th>\n",
       "      <th>203</th>\n",
       "      <th>204</th>\n",
       "      <th>205</th>\n",
       "      <th>206</th>\n",
       "    </tr>\n",
       "  </thead>\n",
       "  <tbody>\n",
       "    <tr>\n",
       "      <th>Altitude</th>\n",
       "      <td>1815.0</td>\n",
       "      <td>1200.0</td>\n",
       "      <td>1300.0</td>\n",
       "      <td>1900.0</td>\n",
       "      <td>1975.0</td>\n",
       "      <td>1668.0</td>\n",
       "      <td>1250.0</td>\n",
       "      <td>1200.0</td>\n",
       "      <td>1250.0</td>\n",
       "      <td>1550.0</td>\n",
       "      <td>...</td>\n",
       "      <td>1000.0</td>\n",
       "      <td>1600.0</td>\n",
       "      <td>1600.0</td>\n",
       "      <td>1300.0</td>\n",
       "      <td>1200.0</td>\n",
       "      <td>950.0</td>\n",
       "      <td>1200.0</td>\n",
       "      <td>1300.0</td>\n",
       "      <td>1200.0</td>\n",
       "      <td>975.0</td>\n",
       "    </tr>\n",
       "    <tr>\n",
       "      <th>Aroma</th>\n",
       "      <td>8.58</td>\n",
       "      <td>8.5</td>\n",
       "      <td>8.33</td>\n",
       "      <td>8.08</td>\n",
       "      <td>8.33</td>\n",
       "      <td>8.33</td>\n",
       "      <td>8.33</td>\n",
       "      <td>8.25</td>\n",
       "      <td>8.08</td>\n",
       "      <td>8.08</td>\n",
       "      <td>...</td>\n",
       "      <td>7.42</td>\n",
       "      <td>7.25</td>\n",
       "      <td>7.5</td>\n",
       "      <td>7.08</td>\n",
       "      <td>7.25</td>\n",
       "      <td>7.17</td>\n",
       "      <td>7.33</td>\n",
       "      <td>7.25</td>\n",
       "      <td>6.5</td>\n",
       "      <td>7.25</td>\n",
       "    </tr>\n",
       "    <tr>\n",
       "      <th>Flavor</th>\n",
       "      <td>8.5</td>\n",
       "      <td>8.5</td>\n",
       "      <td>8.42</td>\n",
       "      <td>8.17</td>\n",
       "      <td>8.33</td>\n",
       "      <td>8.33</td>\n",
       "      <td>8.17</td>\n",
       "      <td>8.25</td>\n",
       "      <td>8.08</td>\n",
       "      <td>8.17</td>\n",
       "      <td>...</td>\n",
       "      <td>7.17</td>\n",
       "      <td>7.25</td>\n",
       "      <td>7.25</td>\n",
       "      <td>7.25</td>\n",
       "      <td>7.17</td>\n",
       "      <td>7.17</td>\n",
       "      <td>7.08</td>\n",
       "      <td>7.17</td>\n",
       "      <td>6.75</td>\n",
       "      <td>7.08</td>\n",
       "    </tr>\n",
       "    <tr>\n",
       "      <th>Aftertaste</th>\n",
       "      <td>8.42</td>\n",
       "      <td>7.92</td>\n",
       "      <td>8.08</td>\n",
       "      <td>8.17</td>\n",
       "      <td>8.08</td>\n",
       "      <td>8.25</td>\n",
       "      <td>8.08</td>\n",
       "      <td>8.17</td>\n",
       "      <td>8.25</td>\n",
       "      <td>8.08</td>\n",
       "      <td>...</td>\n",
       "      <td>7.0</td>\n",
       "      <td>7.17</td>\n",
       "      <td>7.17</td>\n",
       "      <td>7.08</td>\n",
       "      <td>7.17</td>\n",
       "      <td>6.92</td>\n",
       "      <td>6.75</td>\n",
       "      <td>7.08</td>\n",
       "      <td>6.75</td>\n",
       "      <td>6.67</td>\n",
       "    </tr>\n",
       "    <tr>\n",
       "      <th>Acidity</th>\n",
       "      <td>8.58</td>\n",
       "      <td>8.0</td>\n",
       "      <td>8.17</td>\n",
       "      <td>8.25</td>\n",
       "      <td>8.25</td>\n",
       "      <td>7.83</td>\n",
       "      <td>8.0</td>\n",
       "      <td>8.0</td>\n",
       "      <td>8.08</td>\n",
       "      <td>8.17</td>\n",
       "      <td>...</td>\n",
       "      <td>7.08</td>\n",
       "      <td>7.33</td>\n",
       "      <td>7.17</td>\n",
       "      <td>7.42</td>\n",
       "      <td>7.08</td>\n",
       "      <td>7.17</td>\n",
       "      <td>7.17</td>\n",
       "      <td>7.0</td>\n",
       "      <td>7.17</td>\n",
       "      <td>6.83</td>\n",
       "    </tr>\n",
       "    <tr>\n",
       "      <th>Body</th>\n",
       "      <td>8.25</td>\n",
       "      <td>7.92</td>\n",
       "      <td>7.92</td>\n",
       "      <td>8.17</td>\n",
       "      <td>7.92</td>\n",
       "      <td>7.83</td>\n",
       "      <td>7.83</td>\n",
       "      <td>7.92</td>\n",
       "      <td>7.92</td>\n",
       "      <td>8.0</td>\n",
       "      <td>...</td>\n",
       "      <td>7.42</td>\n",
       "      <td>7.0</td>\n",
       "      <td>7.17</td>\n",
       "      <td>7.42</td>\n",
       "      <td>7.17</td>\n",
       "      <td>7.42</td>\n",
       "      <td>7.42</td>\n",
       "      <td>7.08</td>\n",
       "      <td>7.08</td>\n",
       "      <td>6.83</td>\n",
       "    </tr>\n",
       "    <tr>\n",
       "      <th>Balance</th>\n",
       "      <td>8.42</td>\n",
       "      <td>8.25</td>\n",
       "      <td>8.17</td>\n",
       "      <td>8.08</td>\n",
       "      <td>7.92</td>\n",
       "      <td>8.17</td>\n",
       "      <td>8.25</td>\n",
       "      <td>8.08</td>\n",
       "      <td>8.0</td>\n",
       "      <td>8.0</td>\n",
       "      <td>...</td>\n",
       "      <td>7.17</td>\n",
       "      <td>7.17</td>\n",
       "      <td>7.08</td>\n",
       "      <td>7.08</td>\n",
       "      <td>7.17</td>\n",
       "      <td>7.17</td>\n",
       "      <td>7.17</td>\n",
       "      <td>7.08</td>\n",
       "      <td>7.0</td>\n",
       "      <td>6.67</td>\n",
       "    </tr>\n",
       "    <tr>\n",
       "      <th>Uniformity</th>\n",
       "      <td>10.0</td>\n",
       "      <td>10.0</td>\n",
       "      <td>10.0</td>\n",
       "      <td>10.0</td>\n",
       "      <td>10.0</td>\n",
       "      <td>10.0</td>\n",
       "      <td>10.0</td>\n",
       "      <td>10.0</td>\n",
       "      <td>10.0</td>\n",
       "      <td>10.0</td>\n",
       "      <td>...</td>\n",
       "      <td>10.0</td>\n",
       "      <td>10.0</td>\n",
       "      <td>10.0</td>\n",
       "      <td>10.0</td>\n",
       "      <td>10.0</td>\n",
       "      <td>10.0</td>\n",
       "      <td>10.0</td>\n",
       "      <td>10.0</td>\n",
       "      <td>10.0</td>\n",
       "      <td>10.0</td>\n",
       "    </tr>\n",
       "    <tr>\n",
       "      <th>Overall</th>\n",
       "      <td>8.58</td>\n",
       "      <td>8.5</td>\n",
       "      <td>8.33</td>\n",
       "      <td>8.25</td>\n",
       "      <td>8.25</td>\n",
       "      <td>8.25</td>\n",
       "      <td>8.25</td>\n",
       "      <td>8.08</td>\n",
       "      <td>8.25</td>\n",
       "      <td>8.0</td>\n",
       "      <td>...</td>\n",
       "      <td>7.17</td>\n",
       "      <td>7.25</td>\n",
       "      <td>7.0</td>\n",
       "      <td>7.0</td>\n",
       "      <td>7.17</td>\n",
       "      <td>7.08</td>\n",
       "      <td>7.08</td>\n",
       "      <td>7.0</td>\n",
       "      <td>6.83</td>\n",
       "      <td>6.67</td>\n",
       "    </tr>\n",
       "    <tr>\n",
       "      <th>Total Cup Points</th>\n",
       "      <td>89.33</td>\n",
       "      <td>87.58</td>\n",
       "      <td>87.42</td>\n",
       "      <td>87.17</td>\n",
       "      <td>87.08</td>\n",
       "      <td>87.0</td>\n",
       "      <td>86.92</td>\n",
       "      <td>86.75</td>\n",
       "      <td>86.67</td>\n",
       "      <td>86.5</td>\n",
       "      <td>...</td>\n",
       "      <td>80.42</td>\n",
       "      <td>80.42</td>\n",
       "      <td>80.33</td>\n",
       "      <td>80.33</td>\n",
       "      <td>80.17</td>\n",
       "      <td>80.08</td>\n",
       "      <td>80.0</td>\n",
       "      <td>79.67</td>\n",
       "      <td>78.08</td>\n",
       "      <td>78.0</td>\n",
       "    </tr>\n",
       "    <tr>\n",
       "      <th>Moisture Percentage</th>\n",
       "      <td>11.8</td>\n",
       "      <td>10.5</td>\n",
       "      <td>10.4</td>\n",
       "      <td>11.8</td>\n",
       "      <td>11.6</td>\n",
       "      <td>10.7</td>\n",
       "      <td>9.1</td>\n",
       "      <td>10.0</td>\n",
       "      <td>10.8</td>\n",
       "      <td>11.0</td>\n",
       "      <td>...</td>\n",
       "      <td>11.2</td>\n",
       "      <td>11.0</td>\n",
       "      <td>11.8</td>\n",
       "      <td>11.5</td>\n",
       "      <td>11.6</td>\n",
       "      <td>11.4</td>\n",
       "      <td>10.4</td>\n",
       "      <td>11.6</td>\n",
       "      <td>11.0</td>\n",
       "      <td>11.3</td>\n",
       "    </tr>\n",
       "    <tr>\n",
       "      <th>Category One Defects</th>\n",
       "      <td>0</td>\n",
       "      <td>0</td>\n",
       "      <td>0</td>\n",
       "      <td>0</td>\n",
       "      <td>0</td>\n",
       "      <td>0</td>\n",
       "      <td>0</td>\n",
       "      <td>0</td>\n",
       "      <td>0</td>\n",
       "      <td>0</td>\n",
       "      <td>...</td>\n",
       "      <td>0</td>\n",
       "      <td>0</td>\n",
       "      <td>0</td>\n",
       "      <td>0</td>\n",
       "      <td>0</td>\n",
       "      <td>0</td>\n",
       "      <td>0</td>\n",
       "      <td>0</td>\n",
       "      <td>0</td>\n",
       "      <td>0</td>\n",
       "    </tr>\n",
       "    <tr>\n",
       "      <th>Quakers</th>\n",
       "      <td>0</td>\n",
       "      <td>0</td>\n",
       "      <td>0</td>\n",
       "      <td>0</td>\n",
       "      <td>2</td>\n",
       "      <td>0</td>\n",
       "      <td>0</td>\n",
       "      <td>0</td>\n",
       "      <td>0</td>\n",
       "      <td>0</td>\n",
       "      <td>...</td>\n",
       "      <td>0</td>\n",
       "      <td>3</td>\n",
       "      <td>6</td>\n",
       "      <td>10</td>\n",
       "      <td>1</td>\n",
       "      <td>0</td>\n",
       "      <td>2</td>\n",
       "      <td>9</td>\n",
       "      <td>12</td>\n",
       "      <td>0</td>\n",
       "    </tr>\n",
       "    <tr>\n",
       "      <th>Category Two Defects</th>\n",
       "      <td>3</td>\n",
       "      <td>0</td>\n",
       "      <td>2</td>\n",
       "      <td>0</td>\n",
       "      <td>2</td>\n",
       "      <td>2</td>\n",
       "      <td>0</td>\n",
       "      <td>1</td>\n",
       "      <td>0</td>\n",
       "      <td>0</td>\n",
       "      <td>...</td>\n",
       "      <td>5</td>\n",
       "      <td>3</td>\n",
       "      <td>11</td>\n",
       "      <td>7</td>\n",
       "      <td>2</td>\n",
       "      <td>4</td>\n",
       "      <td>12</td>\n",
       "      <td>11</td>\n",
       "      <td>13</td>\n",
       "      <td>1</td>\n",
       "    </tr>\n",
       "    <tr>\n",
       "      <th>Processing Method_Natural / Dry</th>\n",
       "      <td>False</td>\n",
       "      <td>False</td>\n",
       "      <td>False</td>\n",
       "      <td>False</td>\n",
       "      <td>False</td>\n",
       "      <td>False</td>\n",
       "      <td>False</td>\n",
       "      <td>True</td>\n",
       "      <td>False</td>\n",
       "      <td>False</td>\n",
       "      <td>...</td>\n",
       "      <td>False</td>\n",
       "      <td>False</td>\n",
       "      <td>False</td>\n",
       "      <td>True</td>\n",
       "      <td>True</td>\n",
       "      <td>True</td>\n",
       "      <td>True</td>\n",
       "      <td>False</td>\n",
       "      <td>True</td>\n",
       "      <td>False</td>\n",
       "    </tr>\n",
       "    <tr>\n",
       "      <th>Processing Method_Pulped natural / Honey</th>\n",
       "      <td>False</td>\n",
       "      <td>False</td>\n",
       "      <td>False</td>\n",
       "      <td>False</td>\n",
       "      <td>True</td>\n",
       "      <td>False</td>\n",
       "      <td>False</td>\n",
       "      <td>False</td>\n",
       "      <td>False</td>\n",
       "      <td>False</td>\n",
       "      <td>...</td>\n",
       "      <td>False</td>\n",
       "      <td>False</td>\n",
       "      <td>False</td>\n",
       "      <td>False</td>\n",
       "      <td>False</td>\n",
       "      <td>False</td>\n",
       "      <td>False</td>\n",
       "      <td>False</td>\n",
       "      <td>False</td>\n",
       "      <td>False</td>\n",
       "    </tr>\n",
       "    <tr>\n",
       "      <th>Processing Method_Washed / Wet</th>\n",
       "      <td>True</td>\n",
       "      <td>True</td>\n",
       "      <td>True</td>\n",
       "      <td>True</td>\n",
       "      <td>False</td>\n",
       "      <td>True</td>\n",
       "      <td>True</td>\n",
       "      <td>False</td>\n",
       "      <td>True</td>\n",
       "      <td>True</td>\n",
       "      <td>...</td>\n",
       "      <td>True</td>\n",
       "      <td>True</td>\n",
       "      <td>True</td>\n",
       "      <td>False</td>\n",
       "      <td>False</td>\n",
       "      <td>False</td>\n",
       "      <td>False</td>\n",
       "      <td>True</td>\n",
       "      <td>False</td>\n",
       "      <td>True</td>\n",
       "    </tr>\n",
       "  </tbody>\n",
       "</table>\n",
       "<p>17 rows × 207 columns</p>\n",
       "</div>"
      ],
      "text/plain": [
       "                                             0       1       2       3    \\\n",
       "Altitude                                  1815.0  1200.0  1300.0  1900.0   \n",
       "Aroma                                       8.58     8.5    8.33    8.08   \n",
       "Flavor                                       8.5     8.5    8.42    8.17   \n",
       "Aftertaste                                  8.42    7.92    8.08    8.17   \n",
       "Acidity                                     8.58     8.0    8.17    8.25   \n",
       "Body                                        8.25    7.92    7.92    8.17   \n",
       "Balance                                     8.42    8.25    8.17    8.08   \n",
       "Uniformity                                  10.0    10.0    10.0    10.0   \n",
       "Overall                                     8.58     8.5    8.33    8.25   \n",
       "Total Cup Points                           89.33   87.58   87.42   87.17   \n",
       "Moisture Percentage                         11.8    10.5    10.4    11.8   \n",
       "Category One Defects                           0       0       0       0   \n",
       "Quakers                                        0       0       0       0   \n",
       "Category Two Defects                           3       0       2       0   \n",
       "Processing Method_Natural / Dry            False   False   False   False   \n",
       "Processing Method_Pulped natural / Honey   False   False   False   False   \n",
       "Processing Method_Washed / Wet              True    True    True    True   \n",
       "\n",
       "                                             4       5       6       7    \\\n",
       "Altitude                                  1975.0  1668.0  1250.0  1200.0   \n",
       "Aroma                                       8.33    8.33    8.33    8.25   \n",
       "Flavor                                      8.33    8.33    8.17    8.25   \n",
       "Aftertaste                                  8.08    8.25    8.08    8.17   \n",
       "Acidity                                     8.25    7.83     8.0     8.0   \n",
       "Body                                        7.92    7.83    7.83    7.92   \n",
       "Balance                                     7.92    8.17    8.25    8.08   \n",
       "Uniformity                                  10.0    10.0    10.0    10.0   \n",
       "Overall                                     8.25    8.25    8.25    8.08   \n",
       "Total Cup Points                           87.08    87.0   86.92   86.75   \n",
       "Moisture Percentage                         11.6    10.7     9.1    10.0   \n",
       "Category One Defects                           0       0       0       0   \n",
       "Quakers                                        2       0       0       0   \n",
       "Category Two Defects                           2       2       0       1   \n",
       "Processing Method_Natural / Dry            False   False   False    True   \n",
       "Processing Method_Pulped natural / Honey    True   False   False   False   \n",
       "Processing Method_Washed / Wet             False    True    True   False   \n",
       "\n",
       "                                             8       9    ...     197     198  \\\n",
       "Altitude                                  1250.0  1550.0  ...  1000.0  1600.0   \n",
       "Aroma                                       8.08    8.08  ...    7.42    7.25   \n",
       "Flavor                                      8.08    8.17  ...    7.17    7.25   \n",
       "Aftertaste                                  8.25    8.08  ...     7.0    7.17   \n",
       "Acidity                                     8.08    8.17  ...    7.08    7.33   \n",
       "Body                                        7.92     8.0  ...    7.42     7.0   \n",
       "Balance                                      8.0     8.0  ...    7.17    7.17   \n",
       "Uniformity                                  10.0    10.0  ...    10.0    10.0   \n",
       "Overall                                     8.25     8.0  ...    7.17    7.25   \n",
       "Total Cup Points                           86.67    86.5  ...   80.42   80.42   \n",
       "Moisture Percentage                         10.8    11.0  ...    11.2    11.0   \n",
       "Category One Defects                           0       0  ...       0       0   \n",
       "Quakers                                        0       0  ...       0       3   \n",
       "Category Two Defects                           0       0  ...       5       3   \n",
       "Processing Method_Natural / Dry            False   False  ...   False   False   \n",
       "Processing Method_Pulped natural / Honey   False   False  ...   False   False   \n",
       "Processing Method_Washed / Wet              True    True  ...    True    True   \n",
       "\n",
       "                                             199     200     201    202  \\\n",
       "Altitude                                  1600.0  1300.0  1200.0  950.0   \n",
       "Aroma                                        7.5    7.08    7.25   7.17   \n",
       "Flavor                                      7.25    7.25    7.17   7.17   \n",
       "Aftertaste                                  7.17    7.08    7.17   6.92   \n",
       "Acidity                                     7.17    7.42    7.08   7.17   \n",
       "Body                                        7.17    7.42    7.17   7.42   \n",
       "Balance                                     7.08    7.08    7.17   7.17   \n",
       "Uniformity                                  10.0    10.0    10.0   10.0   \n",
       "Overall                                      7.0     7.0    7.17   7.08   \n",
       "Total Cup Points                           80.33   80.33   80.17  80.08   \n",
       "Moisture Percentage                         11.8    11.5    11.6   11.4   \n",
       "Category One Defects                           0       0       0      0   \n",
       "Quakers                                        6      10       1      0   \n",
       "Category Two Defects                          11       7       2      4   \n",
       "Processing Method_Natural / Dry            False    True    True   True   \n",
       "Processing Method_Pulped natural / Honey   False   False   False  False   \n",
       "Processing Method_Washed / Wet              True   False   False  False   \n",
       "\n",
       "                                             203     204     205    206  \n",
       "Altitude                                  1200.0  1300.0  1200.0  975.0  \n",
       "Aroma                                       7.33    7.25     6.5   7.25  \n",
       "Flavor                                      7.08    7.17    6.75   7.08  \n",
       "Aftertaste                                  6.75    7.08    6.75   6.67  \n",
       "Acidity                                     7.17     7.0    7.17   6.83  \n",
       "Body                                        7.42    7.08    7.08   6.83  \n",
       "Balance                                     7.17    7.08     7.0   6.67  \n",
       "Uniformity                                  10.0    10.0    10.0   10.0  \n",
       "Overall                                     7.08     7.0    6.83   6.67  \n",
       "Total Cup Points                            80.0   79.67   78.08   78.0  \n",
       "Moisture Percentage                         10.4    11.6    11.0   11.3  \n",
       "Category One Defects                           0       0       0      0  \n",
       "Quakers                                        2       9      12      0  \n",
       "Category Two Defects                          12      11      13      1  \n",
       "Processing Method_Natural / Dry             True   False    True  False  \n",
       "Processing Method_Pulped natural / Honey   False   False   False  False  \n",
       "Processing Method_Washed / Wet             False    True   False   True  \n",
       "\n",
       "[17 rows x 207 columns]"
      ]
     },
     "execution_count": 131,
     "metadata": {},
     "output_type": "execute_result"
    }
   ],
   "source": [
    "data = df_coffee.copy()\n",
    "data.drop(drop_columns, axis=1, inplace=True)\n",
    "dummy_variables = pd.get_dummies(data, columns=category_columns, drop_first=False)\n",
    "\n",
    "dummy_variables.T"
   ]
  },
  {
   "cell_type": "code",
   "execution_count": 132,
   "metadata": {},
   "outputs": [
    {
     "data": {
      "text/html": [
       "<div>\n",
       "<style scoped>\n",
       "    .dataframe tbody tr th:only-of-type {\n",
       "        vertical-align: middle;\n",
       "    }\n",
       "\n",
       "    .dataframe tbody tr th {\n",
       "        vertical-align: top;\n",
       "    }\n",
       "\n",
       "    .dataframe thead th {\n",
       "        text-align: right;\n",
       "    }\n",
       "</style>\n",
       "<table border=\"1\" class=\"dataframe\">\n",
       "  <thead>\n",
       "    <tr style=\"text-align: right;\">\n",
       "      <th></th>\n",
       "      <th>Altitude</th>\n",
       "      <th>Aroma</th>\n",
       "      <th>Flavor</th>\n",
       "      <th>Aftertaste</th>\n",
       "      <th>Acidity</th>\n",
       "      <th>Body</th>\n",
       "      <th>Balance</th>\n",
       "      <th>Uniformity</th>\n",
       "      <th>Overall</th>\n",
       "      <th>Total Cup Points</th>\n",
       "      <th>Moisture Percentage</th>\n",
       "      <th>Category One Defects</th>\n",
       "      <th>Quakers</th>\n",
       "      <th>Category Two Defects</th>\n",
       "    </tr>\n",
       "  </thead>\n",
       "  <tbody>\n",
       "    <tr>\n",
       "      <th>0</th>\n",
       "      <td>0.784558</td>\n",
       "      <td>2.993534</td>\n",
       "      <td>2.707661</td>\n",
       "      <td>2.980060</td>\n",
       "      <td>3.436732</td>\n",
       "      <td>2.614819</td>\n",
       "      <td>3.034825</td>\n",
       "      <td>0.093753</td>\n",
       "      <td>2.955285</td>\n",
       "      <td>3.257632</td>\n",
       "      <td>0.855585</td>\n",
       "      <td>-0.229016</td>\n",
       "      <td>-0.410510</td>\n",
       "      <td>0.254427</td>\n",
       "    </tr>\n",
       "    <tr>\n",
       "      <th>1</th>\n",
       "      <td>-0.138746</td>\n",
       "      <td>2.714721</td>\n",
       "      <td>2.707661</td>\n",
       "      <td>1.163485</td>\n",
       "      <td>1.196334</td>\n",
       "      <td>1.198113</td>\n",
       "      <td>2.369929</td>\n",
       "      <td>0.093753</td>\n",
       "      <td>2.693520</td>\n",
       "      <td>2.243864</td>\n",
       "      <td>-0.189052</td>\n",
       "      <td>-0.229016</td>\n",
       "      <td>-0.410510</td>\n",
       "      <td>-0.764924</td>\n",
       "    </tr>\n",
       "    <tr>\n",
       "      <th>2</th>\n",
       "      <td>0.011384</td>\n",
       "      <td>2.122244</td>\n",
       "      <td>2.420858</td>\n",
       "      <td>1.744789</td>\n",
       "      <td>1.853003</td>\n",
       "      <td>1.198113</td>\n",
       "      <td>2.057037</td>\n",
       "      <td>0.093753</td>\n",
       "      <td>2.137270</td>\n",
       "      <td>2.151176</td>\n",
       "      <td>-0.269408</td>\n",
       "      <td>-0.229016</td>\n",
       "      <td>-0.410510</td>\n",
       "      <td>-0.085356</td>\n",
       "    </tr>\n",
       "    <tr>\n",
       "      <th>3</th>\n",
       "      <td>0.912169</td>\n",
       "      <td>1.250954</td>\n",
       "      <td>1.524596</td>\n",
       "      <td>2.071773</td>\n",
       "      <td>2.162023</td>\n",
       "      <td>2.271375</td>\n",
       "      <td>1.705034</td>\n",
       "      <td>0.093753</td>\n",
       "      <td>1.875506</td>\n",
       "      <td>2.006352</td>\n",
       "      <td>0.855585</td>\n",
       "      <td>-0.229016</td>\n",
       "      <td>-0.410510</td>\n",
       "      <td>-0.764924</td>\n",
       "    </tr>\n",
       "    <tr>\n",
       "      <th>4</th>\n",
       "      <td>1.024767</td>\n",
       "      <td>2.122244</td>\n",
       "      <td>2.098204</td>\n",
       "      <td>1.744789</td>\n",
       "      <td>2.162023</td>\n",
       "      <td>1.198113</td>\n",
       "      <td>1.079250</td>\n",
       "      <td>0.093753</td>\n",
       "      <td>1.875506</td>\n",
       "      <td>1.954216</td>\n",
       "      <td>0.694872</td>\n",
       "      <td>-0.229016</td>\n",
       "      <td>0.777959</td>\n",
       "      <td>-0.085356</td>\n",
       "    </tr>\n",
       "    <tr>\n",
       "      <th>...</th>\n",
       "      <td>...</td>\n",
       "      <td>...</td>\n",
       "      <td>...</td>\n",
       "      <td>...</td>\n",
       "      <td>...</td>\n",
       "      <td>...</td>\n",
       "      <td>...</td>\n",
       "      <td>...</td>\n",
       "      <td>...</td>\n",
       "      <td>...</td>\n",
       "      <td>...</td>\n",
       "      <td>...</td>\n",
       "      <td>...</td>\n",
       "      <td>...</td>\n",
       "    </tr>\n",
       "    <tr>\n",
       "      <th>202</th>\n",
       "      <td>-0.514074</td>\n",
       "      <td>-1.920542</td>\n",
       "      <td>-2.060448</td>\n",
       "      <td>-2.469664</td>\n",
       "      <td>-2.009752</td>\n",
       "      <td>-0.948411</td>\n",
       "      <td>-1.854111</td>\n",
       "      <td>0.093753</td>\n",
       "      <td>-1.952802</td>\n",
       "      <td>-2.100859</td>\n",
       "      <td>0.534158</td>\n",
       "      <td>-0.229016</td>\n",
       "      <td>-0.410510</td>\n",
       "      <td>0.594211</td>\n",
       "    </tr>\n",
       "    <tr>\n",
       "      <th>203</th>\n",
       "      <td>-0.138746</td>\n",
       "      <td>-1.362917</td>\n",
       "      <td>-2.383102</td>\n",
       "      <td>-3.087299</td>\n",
       "      <td>-2.009752</td>\n",
       "      <td>-0.948411</td>\n",
       "      <td>-1.854111</td>\n",
       "      <td>0.093753</td>\n",
       "      <td>-1.952802</td>\n",
       "      <td>-2.147202</td>\n",
       "      <td>-0.269408</td>\n",
       "      <td>-0.229016</td>\n",
       "      <td>0.777959</td>\n",
       "      <td>3.312481</td>\n",
       "    </tr>\n",
       "    <tr>\n",
       "      <th>204</th>\n",
       "      <td>0.011384</td>\n",
       "      <td>-1.641729</td>\n",
       "      <td>-2.060448</td>\n",
       "      <td>-1.888360</td>\n",
       "      <td>-2.666420</td>\n",
       "      <td>-2.408048</td>\n",
       "      <td>-2.206115</td>\n",
       "      <td>0.093753</td>\n",
       "      <td>-2.214567</td>\n",
       "      <td>-2.338370</td>\n",
       "      <td>0.694872</td>\n",
       "      <td>-0.229016</td>\n",
       "      <td>4.937598</td>\n",
       "      <td>2.972698</td>\n",
       "    </tr>\n",
       "    <tr>\n",
       "      <th>205</th>\n",
       "      <td>-0.138746</td>\n",
       "      <td>-4.255600</td>\n",
       "      <td>-3.566167</td>\n",
       "      <td>-3.087299</td>\n",
       "      <td>-2.009752</td>\n",
       "      <td>-2.408048</td>\n",
       "      <td>-2.519006</td>\n",
       "      <td>0.093753</td>\n",
       "      <td>-2.770817</td>\n",
       "      <td>-3.259451</td>\n",
       "      <td>0.212732</td>\n",
       "      <td>-0.229016</td>\n",
       "      <td>6.720300</td>\n",
       "      <td>3.652265</td>\n",
       "    </tr>\n",
       "    <tr>\n",
       "      <th>206</th>\n",
       "      <td>-0.476541</td>\n",
       "      <td>-1.641729</td>\n",
       "      <td>-2.383102</td>\n",
       "      <td>-3.377951</td>\n",
       "      <td>-3.323089</td>\n",
       "      <td>-3.481310</td>\n",
       "      <td>-3.809685</td>\n",
       "      <td>0.093753</td>\n",
       "      <td>-3.294346</td>\n",
       "      <td>-3.305795</td>\n",
       "      <td>0.453802</td>\n",
       "      <td>-0.229016</td>\n",
       "      <td>-0.410510</td>\n",
       "      <td>-0.425140</td>\n",
       "    </tr>\n",
       "  </tbody>\n",
       "</table>\n",
       "<p>207 rows × 14 columns</p>\n",
       "</div>"
      ],
      "text/plain": [
       "     Altitude     Aroma    Flavor  Aftertaste   Acidity      Body   Balance  \\\n",
       "0    0.784558  2.993534  2.707661    2.980060  3.436732  2.614819  3.034825   \n",
       "1   -0.138746  2.714721  2.707661    1.163485  1.196334  1.198113  2.369929   \n",
       "2    0.011384  2.122244  2.420858    1.744789  1.853003  1.198113  2.057037   \n",
       "3    0.912169  1.250954  1.524596    2.071773  2.162023  2.271375  1.705034   \n",
       "4    1.024767  2.122244  2.098204    1.744789  2.162023  1.198113  1.079250   \n",
       "..        ...       ...       ...         ...       ...       ...       ...   \n",
       "202 -0.514074 -1.920542 -2.060448   -2.469664 -2.009752 -0.948411 -1.854111   \n",
       "203 -0.138746 -1.362917 -2.383102   -3.087299 -2.009752 -0.948411 -1.854111   \n",
       "204  0.011384 -1.641729 -2.060448   -1.888360 -2.666420 -2.408048 -2.206115   \n",
       "205 -0.138746 -4.255600 -3.566167   -3.087299 -2.009752 -2.408048 -2.519006   \n",
       "206 -0.476541 -1.641729 -2.383102   -3.377951 -3.323089 -3.481310 -3.809685   \n",
       "\n",
       "     Uniformity   Overall  Total Cup Points  Moisture Percentage  \\\n",
       "0      0.093753  2.955285          3.257632             0.855585   \n",
       "1      0.093753  2.693520          2.243864            -0.189052   \n",
       "2      0.093753  2.137270          2.151176            -0.269408   \n",
       "3      0.093753  1.875506          2.006352             0.855585   \n",
       "4      0.093753  1.875506          1.954216             0.694872   \n",
       "..          ...       ...               ...                  ...   \n",
       "202    0.093753 -1.952802         -2.100859             0.534158   \n",
       "203    0.093753 -1.952802         -2.147202            -0.269408   \n",
       "204    0.093753 -2.214567         -2.338370             0.694872   \n",
       "205    0.093753 -2.770817         -3.259451             0.212732   \n",
       "206    0.093753 -3.294346         -3.305795             0.453802   \n",
       "\n",
       "     Category One Defects   Quakers  Category Two Defects  \n",
       "0               -0.229016 -0.410510              0.254427  \n",
       "1               -0.229016 -0.410510             -0.764924  \n",
       "2               -0.229016 -0.410510             -0.085356  \n",
       "3               -0.229016 -0.410510             -0.764924  \n",
       "4               -0.229016  0.777959             -0.085356  \n",
       "..                    ...       ...                   ...  \n",
       "202             -0.229016 -0.410510              0.594211  \n",
       "203             -0.229016  0.777959              3.312481  \n",
       "204             -0.229016  4.937598              2.972698  \n",
       "205             -0.229016  6.720300              3.652265  \n",
       "206             -0.229016 -0.410510             -0.425140  \n",
       "\n",
       "[207 rows x 14 columns]"
      ]
     },
     "execution_count": 132,
     "metadata": {},
     "output_type": "execute_result"
    }
   ],
   "source": [
    "scaler = StandardScaler()\n",
    "\n",
    "scaled_numerial = scaler.fit_transform(data[numerical_columns])\n",
    "\n",
    "df_scaled_num = pd.DataFrame(scaled_numerial, columns=numerical_columns)\n",
    "df_scaled_num"
   ]
  },
  {
   "cell_type": "code",
   "execution_count": 133,
   "metadata": {},
   "outputs": [
    {
     "data": {
      "text/html": [
       "<div>\n",
       "<style scoped>\n",
       "    .dataframe tbody tr th:only-of-type {\n",
       "        vertical-align: middle;\n",
       "    }\n",
       "\n",
       "    .dataframe tbody tr th {\n",
       "        vertical-align: top;\n",
       "    }\n",
       "\n",
       "    .dataframe thead th {\n",
       "        text-align: right;\n",
       "    }\n",
       "</style>\n",
       "<table border=\"1\" class=\"dataframe\">\n",
       "  <thead>\n",
       "    <tr style=\"text-align: right;\">\n",
       "      <th></th>\n",
       "      <th>Processing Method_Natural / Dry</th>\n",
       "      <th>Processing Method_Pulped natural / Honey</th>\n",
       "      <th>Processing Method_Washed / Wet</th>\n",
       "      <th>Altitude</th>\n",
       "      <th>Aroma</th>\n",
       "      <th>Flavor</th>\n",
       "      <th>Aftertaste</th>\n",
       "      <th>Acidity</th>\n",
       "      <th>Body</th>\n",
       "      <th>Balance</th>\n",
       "      <th>Uniformity</th>\n",
       "      <th>Overall</th>\n",
       "      <th>Total Cup Points</th>\n",
       "      <th>Moisture Percentage</th>\n",
       "      <th>Category One Defects</th>\n",
       "      <th>Quakers</th>\n",
       "      <th>Category Two Defects</th>\n",
       "    </tr>\n",
       "  </thead>\n",
       "  <tbody>\n",
       "    <tr>\n",
       "      <th>0</th>\n",
       "      <td>False</td>\n",
       "      <td>False</td>\n",
       "      <td>True</td>\n",
       "      <td>0.784558</td>\n",
       "      <td>2.993534</td>\n",
       "      <td>2.707661</td>\n",
       "      <td>2.980060</td>\n",
       "      <td>3.436732</td>\n",
       "      <td>2.614819</td>\n",
       "      <td>3.034825</td>\n",
       "      <td>0.093753</td>\n",
       "      <td>2.955285</td>\n",
       "      <td>3.257632</td>\n",
       "      <td>0.855585</td>\n",
       "      <td>-0.229016</td>\n",
       "      <td>-0.410510</td>\n",
       "      <td>0.254427</td>\n",
       "    </tr>\n",
       "    <tr>\n",
       "      <th>1</th>\n",
       "      <td>False</td>\n",
       "      <td>False</td>\n",
       "      <td>True</td>\n",
       "      <td>-0.138746</td>\n",
       "      <td>2.714721</td>\n",
       "      <td>2.707661</td>\n",
       "      <td>1.163485</td>\n",
       "      <td>1.196334</td>\n",
       "      <td>1.198113</td>\n",
       "      <td>2.369929</td>\n",
       "      <td>0.093753</td>\n",
       "      <td>2.693520</td>\n",
       "      <td>2.243864</td>\n",
       "      <td>-0.189052</td>\n",
       "      <td>-0.229016</td>\n",
       "      <td>-0.410510</td>\n",
       "      <td>-0.764924</td>\n",
       "    </tr>\n",
       "    <tr>\n",
       "      <th>2</th>\n",
       "      <td>False</td>\n",
       "      <td>False</td>\n",
       "      <td>True</td>\n",
       "      <td>0.011384</td>\n",
       "      <td>2.122244</td>\n",
       "      <td>2.420858</td>\n",
       "      <td>1.744789</td>\n",
       "      <td>1.853003</td>\n",
       "      <td>1.198113</td>\n",
       "      <td>2.057037</td>\n",
       "      <td>0.093753</td>\n",
       "      <td>2.137270</td>\n",
       "      <td>2.151176</td>\n",
       "      <td>-0.269408</td>\n",
       "      <td>-0.229016</td>\n",
       "      <td>-0.410510</td>\n",
       "      <td>-0.085356</td>\n",
       "    </tr>\n",
       "    <tr>\n",
       "      <th>3</th>\n",
       "      <td>False</td>\n",
       "      <td>False</td>\n",
       "      <td>True</td>\n",
       "      <td>0.912169</td>\n",
       "      <td>1.250954</td>\n",
       "      <td>1.524596</td>\n",
       "      <td>2.071773</td>\n",
       "      <td>2.162023</td>\n",
       "      <td>2.271375</td>\n",
       "      <td>1.705034</td>\n",
       "      <td>0.093753</td>\n",
       "      <td>1.875506</td>\n",
       "      <td>2.006352</td>\n",
       "      <td>0.855585</td>\n",
       "      <td>-0.229016</td>\n",
       "      <td>-0.410510</td>\n",
       "      <td>-0.764924</td>\n",
       "    </tr>\n",
       "    <tr>\n",
       "      <th>4</th>\n",
       "      <td>False</td>\n",
       "      <td>True</td>\n",
       "      <td>False</td>\n",
       "      <td>1.024767</td>\n",
       "      <td>2.122244</td>\n",
       "      <td>2.098204</td>\n",
       "      <td>1.744789</td>\n",
       "      <td>2.162023</td>\n",
       "      <td>1.198113</td>\n",
       "      <td>1.079250</td>\n",
       "      <td>0.093753</td>\n",
       "      <td>1.875506</td>\n",
       "      <td>1.954216</td>\n",
       "      <td>0.694872</td>\n",
       "      <td>-0.229016</td>\n",
       "      <td>0.777959</td>\n",
       "      <td>-0.085356</td>\n",
       "    </tr>\n",
       "    <tr>\n",
       "      <th>...</th>\n",
       "      <td>...</td>\n",
       "      <td>...</td>\n",
       "      <td>...</td>\n",
       "      <td>...</td>\n",
       "      <td>...</td>\n",
       "      <td>...</td>\n",
       "      <td>...</td>\n",
       "      <td>...</td>\n",
       "      <td>...</td>\n",
       "      <td>...</td>\n",
       "      <td>...</td>\n",
       "      <td>...</td>\n",
       "      <td>...</td>\n",
       "      <td>...</td>\n",
       "      <td>...</td>\n",
       "      <td>...</td>\n",
       "      <td>...</td>\n",
       "    </tr>\n",
       "    <tr>\n",
       "      <th>202</th>\n",
       "      <td>True</td>\n",
       "      <td>False</td>\n",
       "      <td>False</td>\n",
       "      <td>-0.514074</td>\n",
       "      <td>-1.920542</td>\n",
       "      <td>-2.060448</td>\n",
       "      <td>-2.469664</td>\n",
       "      <td>-2.009752</td>\n",
       "      <td>-0.948411</td>\n",
       "      <td>-1.854111</td>\n",
       "      <td>0.093753</td>\n",
       "      <td>-1.952802</td>\n",
       "      <td>-2.100859</td>\n",
       "      <td>0.534158</td>\n",
       "      <td>-0.229016</td>\n",
       "      <td>-0.410510</td>\n",
       "      <td>0.594211</td>\n",
       "    </tr>\n",
       "    <tr>\n",
       "      <th>203</th>\n",
       "      <td>True</td>\n",
       "      <td>False</td>\n",
       "      <td>False</td>\n",
       "      <td>-0.138746</td>\n",
       "      <td>-1.362917</td>\n",
       "      <td>-2.383102</td>\n",
       "      <td>-3.087299</td>\n",
       "      <td>-2.009752</td>\n",
       "      <td>-0.948411</td>\n",
       "      <td>-1.854111</td>\n",
       "      <td>0.093753</td>\n",
       "      <td>-1.952802</td>\n",
       "      <td>-2.147202</td>\n",
       "      <td>-0.269408</td>\n",
       "      <td>-0.229016</td>\n",
       "      <td>0.777959</td>\n",
       "      <td>3.312481</td>\n",
       "    </tr>\n",
       "    <tr>\n",
       "      <th>204</th>\n",
       "      <td>False</td>\n",
       "      <td>False</td>\n",
       "      <td>True</td>\n",
       "      <td>0.011384</td>\n",
       "      <td>-1.641729</td>\n",
       "      <td>-2.060448</td>\n",
       "      <td>-1.888360</td>\n",
       "      <td>-2.666420</td>\n",
       "      <td>-2.408048</td>\n",
       "      <td>-2.206115</td>\n",
       "      <td>0.093753</td>\n",
       "      <td>-2.214567</td>\n",
       "      <td>-2.338370</td>\n",
       "      <td>0.694872</td>\n",
       "      <td>-0.229016</td>\n",
       "      <td>4.937598</td>\n",
       "      <td>2.972698</td>\n",
       "    </tr>\n",
       "    <tr>\n",
       "      <th>205</th>\n",
       "      <td>True</td>\n",
       "      <td>False</td>\n",
       "      <td>False</td>\n",
       "      <td>-0.138746</td>\n",
       "      <td>-4.255600</td>\n",
       "      <td>-3.566167</td>\n",
       "      <td>-3.087299</td>\n",
       "      <td>-2.009752</td>\n",
       "      <td>-2.408048</td>\n",
       "      <td>-2.519006</td>\n",
       "      <td>0.093753</td>\n",
       "      <td>-2.770817</td>\n",
       "      <td>-3.259451</td>\n",
       "      <td>0.212732</td>\n",
       "      <td>-0.229016</td>\n",
       "      <td>6.720300</td>\n",
       "      <td>3.652265</td>\n",
       "    </tr>\n",
       "    <tr>\n",
       "      <th>206</th>\n",
       "      <td>False</td>\n",
       "      <td>False</td>\n",
       "      <td>True</td>\n",
       "      <td>-0.476541</td>\n",
       "      <td>-1.641729</td>\n",
       "      <td>-2.383102</td>\n",
       "      <td>-3.377951</td>\n",
       "      <td>-3.323089</td>\n",
       "      <td>-3.481310</td>\n",
       "      <td>-3.809685</td>\n",
       "      <td>0.093753</td>\n",
       "      <td>-3.294346</td>\n",
       "      <td>-3.305795</td>\n",
       "      <td>0.453802</td>\n",
       "      <td>-0.229016</td>\n",
       "      <td>-0.410510</td>\n",
       "      <td>-0.425140</td>\n",
       "    </tr>\n",
       "  </tbody>\n",
       "</table>\n",
       "<p>207 rows × 17 columns</p>\n",
       "</div>"
      ],
      "text/plain": [
       "     Processing Method_Natural / Dry  \\\n",
       "0                              False   \n",
       "1                              False   \n",
       "2                              False   \n",
       "3                              False   \n",
       "4                              False   \n",
       "..                               ...   \n",
       "202                             True   \n",
       "203                             True   \n",
       "204                            False   \n",
       "205                             True   \n",
       "206                            False   \n",
       "\n",
       "     Processing Method_Pulped natural / Honey  Processing Method_Washed / Wet  \\\n",
       "0                                       False                            True   \n",
       "1                                       False                            True   \n",
       "2                                       False                            True   \n",
       "3                                       False                            True   \n",
       "4                                        True                           False   \n",
       "..                                        ...                             ...   \n",
       "202                                     False                           False   \n",
       "203                                     False                           False   \n",
       "204                                     False                            True   \n",
       "205                                     False                           False   \n",
       "206                                     False                            True   \n",
       "\n",
       "     Altitude     Aroma    Flavor  Aftertaste   Acidity      Body   Balance  \\\n",
       "0    0.784558  2.993534  2.707661    2.980060  3.436732  2.614819  3.034825   \n",
       "1   -0.138746  2.714721  2.707661    1.163485  1.196334  1.198113  2.369929   \n",
       "2    0.011384  2.122244  2.420858    1.744789  1.853003  1.198113  2.057037   \n",
       "3    0.912169  1.250954  1.524596    2.071773  2.162023  2.271375  1.705034   \n",
       "4    1.024767  2.122244  2.098204    1.744789  2.162023  1.198113  1.079250   \n",
       "..        ...       ...       ...         ...       ...       ...       ...   \n",
       "202 -0.514074 -1.920542 -2.060448   -2.469664 -2.009752 -0.948411 -1.854111   \n",
       "203 -0.138746 -1.362917 -2.383102   -3.087299 -2.009752 -0.948411 -1.854111   \n",
       "204  0.011384 -1.641729 -2.060448   -1.888360 -2.666420 -2.408048 -2.206115   \n",
       "205 -0.138746 -4.255600 -3.566167   -3.087299 -2.009752 -2.408048 -2.519006   \n",
       "206 -0.476541 -1.641729 -2.383102   -3.377951 -3.323089 -3.481310 -3.809685   \n",
       "\n",
       "     Uniformity   Overall  Total Cup Points  Moisture Percentage  \\\n",
       "0      0.093753  2.955285          3.257632             0.855585   \n",
       "1      0.093753  2.693520          2.243864            -0.189052   \n",
       "2      0.093753  2.137270          2.151176            -0.269408   \n",
       "3      0.093753  1.875506          2.006352             0.855585   \n",
       "4      0.093753  1.875506          1.954216             0.694872   \n",
       "..          ...       ...               ...                  ...   \n",
       "202    0.093753 -1.952802         -2.100859             0.534158   \n",
       "203    0.093753 -1.952802         -2.147202            -0.269408   \n",
       "204    0.093753 -2.214567         -2.338370             0.694872   \n",
       "205    0.093753 -2.770817         -3.259451             0.212732   \n",
       "206    0.093753 -3.294346         -3.305795             0.453802   \n",
       "\n",
       "     Category One Defects   Quakers  Category Two Defects  \n",
       "0               -0.229016 -0.410510              0.254427  \n",
       "1               -0.229016 -0.410510             -0.764924  \n",
       "2               -0.229016 -0.410510             -0.085356  \n",
       "3               -0.229016 -0.410510             -0.764924  \n",
       "4               -0.229016  0.777959             -0.085356  \n",
       "..                    ...       ...                   ...  \n",
       "202             -0.229016 -0.410510              0.594211  \n",
       "203             -0.229016  0.777959              3.312481  \n",
       "204             -0.229016  4.937598              2.972698  \n",
       "205             -0.229016  6.720300              3.652265  \n",
       "206             -0.229016 -0.410510             -0.425140  \n",
       "\n",
       "[207 rows x 17 columns]"
      ]
     },
     "execution_count": 133,
     "metadata": {},
     "output_type": "execute_result"
    }
   ],
   "source": [
    "dummy_variables = dummy_variables.drop(numerical_columns, axis=1)\n",
    "\n",
    "df_proc = pd.concat([dummy_variables, df_scaled_num], axis=1)\n",
    "df_proc"
   ]
  },
  {
   "cell_type": "code",
   "execution_count": 134,
   "metadata": {},
   "outputs": [
    {
     "data": {
      "image/png": "[encoded data removed]",
      "text/plain": [
       "<Figure size 1500x1000 with 2 Axes>"
      ]
     },
     "metadata": {},
     "output_type": "display_data"
    }
   ],
   "source": [
    "corr_mtx = df_proc.corr()\n",
    "\n",
    "plt.figure(figsize=(15, 10))\n",
    "sns.heatmap(corr_mtx, annot=True, cmap='coolwarm', linewidths=0.5, fmt='.2f')\n",
    "plt.title('Mapa de Calor - Correlação')\n",
    "plt.show()"
   ]
  },
  {
   "cell_type": "markdown",
   "metadata": {},
   "source": [
    "# 5. Respondendo às perguntas"
   ]
  }
 ],
 "metadata": {
  "kernelspec": {
   "display_name": ".venv",
   "language": "python",
   "name": "python3"
  },
  "language_info": {
   "codemirror_mode": {
    "name": "ipython",
    "version": 3
   },
   "file_extension": ".py",
   "mimetype": "text/x-python",
   "name": "python",
   "nbconvert_exporter": "python",
   "pygments_lexer": "ipython3",
   "version": "3.12.0"
  }
 },
 "nbformat": 4,
 "nbformat_minor": 2
}
